{
 "cells": [
  {
   "cell_type": "markdown",
   "id": "af539855",
   "metadata": {},
   "source": [
    "# DHEERAJ PANNEER SELVAM"
   ]
  },
  {
   "cell_type": "markdown",
   "id": "42d2f0a9",
   "metadata": {},
   "source": [
    "# Import Libraries"
   ]
  },
  {
   "cell_type": "code",
   "execution_count": 1,
   "id": "ab558932",
   "metadata": {},
   "outputs": [],
   "source": [
    "import numpy as np\n",
    "import pandas as pd\n",
    "import matplotlib.pyplot as plt\n",
    "import random\n",
    "from scipy import spatial\n",
    "from sklearn import metrics\n",
    "import seaborn as sns\n",
    "import math\n",
    "from datetime import datetime, timedelta\n",
    "import warnings\n",
    "warnings.filterwarnings(\"ignore\")"
   ]
  },
  {
   "cell_type": "markdown",
   "id": "1c76e644",
   "metadata": {},
   "source": [
    "# Load Datasets"
   ]
  },
  {
   "cell_type": "code",
   "execution_count": 2,
   "id": "60f980ab",
   "metadata": {},
   "outputs": [
    {
     "data": {
      "text/html": [
       "<div>\n",
       "<style scoped>\n",
       "    .dataframe tbody tr th:only-of-type {\n",
       "        vertical-align: middle;\n",
       "    }\n",
       "\n",
       "    .dataframe tbody tr th {\n",
       "        vertical-align: top;\n",
       "    }\n",
       "\n",
       "    .dataframe thead th {\n",
       "        text-align: right;\n",
       "    }\n",
       "</style>\n",
       "<table border=\"1\" class=\"dataframe\">\n",
       "  <thead>\n",
       "    <tr style=\"text-align: right;\">\n",
       "      <th></th>\n",
       "      <th>Date</th>\n",
       "      <th>Temperature</th>\n",
       "      <th>RH</th>\n",
       "      <th>Ws</th>\n",
       "      <th>Rain</th>\n",
       "      <th>FFMC</th>\n",
       "      <th>DMC</th>\n",
       "      <th>DC</th>\n",
       "      <th>ISI</th>\n",
       "      <th>BUI</th>\n",
       "      <th>Classes</th>\n",
       "    </tr>\n",
       "  </thead>\n",
       "  <tbody>\n",
       "    <tr>\n",
       "      <th>0</th>\n",
       "      <td>01/06/2012</td>\n",
       "      <td>18.952399</td>\n",
       "      <td>43.855865</td>\n",
       "      <td>12.292536</td>\n",
       "      <td>-0.340306</td>\n",
       "      <td>73.063752</td>\n",
       "      <td>-2.371083</td>\n",
       "      <td>28.543573</td>\n",
       "      <td>0.487246</td>\n",
       "      <td>6.225461</td>\n",
       "      <td>0</td>\n",
       "    </tr>\n",
       "    <tr>\n",
       "      <th>1</th>\n",
       "      <td>01/06/2012</td>\n",
       "      <td>34.498610</td>\n",
       "      <td>46.230441</td>\n",
       "      <td>14.838211</td>\n",
       "      <td>0.939652</td>\n",
       "      <td>56.027977</td>\n",
       "      <td>0.441002</td>\n",
       "      <td>-10.007636</td>\n",
       "      <td>-1.472158</td>\n",
       "      <td>2.268104</td>\n",
       "      <td>0</td>\n",
       "    </tr>\n",
       "    <tr>\n",
       "      <th>2</th>\n",
       "      <td>02/06/2012</td>\n",
       "      <td>15.258665</td>\n",
       "      <td>57.084279</td>\n",
       "      <td>10.968696</td>\n",
       "      <td>1.397913</td>\n",
       "      <td>33.114404</td>\n",
       "      <td>3.389994</td>\n",
       "      <td>-13.774588</td>\n",
       "      <td>1.338737</td>\n",
       "      <td>-3.327908</td>\n",
       "      <td>0</td>\n",
       "    </tr>\n",
       "    <tr>\n",
       "      <th>3</th>\n",
       "      <td>02/06/2012</td>\n",
       "      <td>24.847936</td>\n",
       "      <td>99.910000</td>\n",
       "      <td>17.924025</td>\n",
       "      <td>3.958666</td>\n",
       "      <td>26.148986</td>\n",
       "      <td>5.179630</td>\n",
       "      <td>-1.392789</td>\n",
       "      <td>-0.755090</td>\n",
       "      <td>0.131303</td>\n",
       "      <td>0</td>\n",
       "    </tr>\n",
       "    <tr>\n",
       "      <th>4</th>\n",
       "      <td>03/06/2012</td>\n",
       "      <td>19.381227</td>\n",
       "      <td>104.398680</td>\n",
       "      <td>23.740540</td>\n",
       "      <td>13.394723</td>\n",
       "      <td>28.658020</td>\n",
       "      <td>-2.247164</td>\n",
       "      <td>-3.432689</td>\n",
       "      <td>0.558249</td>\n",
       "      <td>-1.928471</td>\n",
       "      <td>0</td>\n",
       "    </tr>\n",
       "  </tbody>\n",
       "</table>\n",
       "</div>"
      ],
      "text/plain": [
       "         Date  Temperature          RH         Ws       Rain       FFMC  \\\n",
       "0  01/06/2012    18.952399   43.855865  12.292536  -0.340306  73.063752   \n",
       "1  01/06/2012    34.498610   46.230441  14.838211   0.939652  56.027977   \n",
       "2  02/06/2012    15.258665   57.084279  10.968696   1.397913  33.114404   \n",
       "3  02/06/2012    24.847936   99.910000  17.924025   3.958666  26.148986   \n",
       "4  03/06/2012    19.381227  104.398680  23.740540  13.394723  28.658020   \n",
       "\n",
       "        DMC         DC       ISI       BUI  Classes  \n",
       "0 -2.371083  28.543573  0.487246  6.225461        0  \n",
       "1  0.441002 -10.007636 -1.472158  2.268104        0  \n",
       "2  3.389994 -13.774588  1.338737 -3.327908        0  \n",
       "3  5.179630  -1.392789 -0.755090  0.131303        0  \n",
       "4 -2.247164  -3.432689  0.558249 -1.928471        0  "
      ]
     },
     "execution_count": 2,
     "metadata": {},
     "output_type": "execute_result"
    }
   ],
   "source": [
    "df = pd.read_csv('algerian_fires_train.csv')\n",
    "df.head()"
   ]
  },
  {
   "cell_type": "code",
   "execution_count": 3,
   "id": "4c73e352",
   "metadata": {},
   "outputs": [],
   "source": [
    "dfs = df.values\n",
    "X = df.iloc[:,1:-1].values\n",
    "y = df.iloc[:,-1].values"
   ]
  },
  {
   "cell_type": "code",
   "execution_count": 4,
   "id": "804d7877",
   "metadata": {},
   "outputs": [
    {
     "data": {
      "text/html": [
       "<div>\n",
       "<style scoped>\n",
       "    .dataframe tbody tr th:only-of-type {\n",
       "        vertical-align: middle;\n",
       "    }\n",
       "\n",
       "    .dataframe tbody tr th {\n",
       "        vertical-align: top;\n",
       "    }\n",
       "\n",
       "    .dataframe thead th {\n",
       "        text-align: right;\n",
       "    }\n",
       "</style>\n",
       "<table border=\"1\" class=\"dataframe\">\n",
       "  <thead>\n",
       "    <tr style=\"text-align: right;\">\n",
       "      <th></th>\n",
       "      <th>Date</th>\n",
       "      <th>Temperature</th>\n",
       "      <th>RH</th>\n",
       "      <th>Ws</th>\n",
       "      <th>Rain</th>\n",
       "      <th>FFMC</th>\n",
       "      <th>DMC</th>\n",
       "      <th>DC</th>\n",
       "      <th>ISI</th>\n",
       "      <th>BUI</th>\n",
       "      <th>Classes</th>\n",
       "    </tr>\n",
       "  </thead>\n",
       "  <tbody>\n",
       "    <tr>\n",
       "      <th>0</th>\n",
       "      <td>01/09/2012</td>\n",
       "      <td>15.861392</td>\n",
       "      <td>103.083493</td>\n",
       "      <td>23.929982</td>\n",
       "      <td>6.862311</td>\n",
       "      <td>18.206803</td>\n",
       "      <td>6.705575</td>\n",
       "      <td>16.934059</td>\n",
       "      <td>1.272175</td>\n",
       "      <td>1.567136</td>\n",
       "      <td>0</td>\n",
       "    </tr>\n",
       "    <tr>\n",
       "      <th>1</th>\n",
       "      <td>01/09/2012</td>\n",
       "      <td>25.127811</td>\n",
       "      <td>85.095686</td>\n",
       "      <td>16.066414</td>\n",
       "      <td>-0.332408</td>\n",
       "      <td>36.300922</td>\n",
       "      <td>4.307622</td>\n",
       "      <td>-8.813586</td>\n",
       "      <td>-1.707135</td>\n",
       "      <td>-2.167708</td>\n",
       "      <td>0</td>\n",
       "    </tr>\n",
       "    <tr>\n",
       "      <th>2</th>\n",
       "      <td>02/09/2012</td>\n",
       "      <td>25.804539</td>\n",
       "      <td>112.848312</td>\n",
       "      <td>8.603607</td>\n",
       "      <td>10.148430</td>\n",
       "      <td>32.909853</td>\n",
       "      <td>-3.989974</td>\n",
       "      <td>12.276834</td>\n",
       "      <td>0.886849</td>\n",
       "      <td>5.108220</td>\n",
       "      <td>0</td>\n",
       "    </tr>\n",
       "    <tr>\n",
       "      <th>3</th>\n",
       "      <td>02/09/2012</td>\n",
       "      <td>39.157179</td>\n",
       "      <td>40.359214</td>\n",
       "      <td>13.347197</td>\n",
       "      <td>-0.050950</td>\n",
       "      <td>101.833950</td>\n",
       "      <td>4.923229</td>\n",
       "      <td>17.509484</td>\n",
       "      <td>1.000106</td>\n",
       "      <td>1.990220</td>\n",
       "      <td>0</td>\n",
       "    </tr>\n",
       "    <tr>\n",
       "      <th>4</th>\n",
       "      <td>03/09/2012</td>\n",
       "      <td>14.943534</td>\n",
       "      <td>51.887200</td>\n",
       "      <td>14.976143</td>\n",
       "      <td>3.910505</td>\n",
       "      <td>66.608357</td>\n",
       "      <td>0.628217</td>\n",
       "      <td>17.332474</td>\n",
       "      <td>-1.773158</td>\n",
       "      <td>9.083053</td>\n",
       "      <td>0</td>\n",
       "    </tr>\n",
       "  </tbody>\n",
       "</table>\n",
       "</div>"
      ],
      "text/plain": [
       "         Date  Temperature          RH         Ws       Rain        FFMC  \\\n",
       "0  01/09/2012    15.861392  103.083493  23.929982   6.862311   18.206803   \n",
       "1  01/09/2012    25.127811   85.095686  16.066414  -0.332408   36.300922   \n",
       "2  02/09/2012    25.804539  112.848312   8.603607  10.148430   32.909853   \n",
       "3  02/09/2012    39.157179   40.359214  13.347197  -0.050950  101.833950   \n",
       "4  03/09/2012    14.943534   51.887200  14.976143   3.910505   66.608357   \n",
       "\n",
       "        DMC         DC       ISI       BUI  Classes  \n",
       "0  6.705575  16.934059  1.272175  1.567136        0  \n",
       "1  4.307622  -8.813586 -1.707135 -2.167708        0  \n",
       "2 -3.989974  12.276834  0.886849  5.108220        0  \n",
       "3  4.923229  17.509484  1.000106  1.990220        0  \n",
       "4  0.628217  17.332474 -1.773158  9.083053        0  "
      ]
     },
     "execution_count": 4,
     "metadata": {},
     "output_type": "execute_result"
    }
   ],
   "source": [
    "df_t = pd.read_csv('algerian_fires_test.csv')\n",
    "df_t.head()"
   ]
  },
  {
   "cell_type": "code",
   "execution_count": 5,
   "id": "448e5706",
   "metadata": {},
   "outputs": [],
   "source": [
    "dfst = df_t.values\n",
    "Xt = df_t.iloc[:,1:-1].values\n",
    "yt = df_t.iloc[:,-1].values"
   ]
  },
  {
   "cell_type": "markdown",
   "id": "ed1ea674",
   "metadata": {},
   "source": [
    "# Defining Global Functions"
   ]
  },
  {
   "cell_type": "markdown",
   "id": "d1b9a47e",
   "metadata": {},
   "source": [
    "## To find the accuracy of model"
   ]
  },
  {
   "cell_type": "code",
   "execution_count": 6,
   "id": "02aaafc1",
   "metadata": {},
   "outputs": [],
   "source": [
    "def accuracy(y,yh):\n",
    "    count = 0\n",
    "    for i in range(len(y)):\n",
    "        if y[i]==yh[i]:\n",
    "            count += 1\n",
    "    return count/len(y)"
   ]
  },
  {
   "cell_type": "markdown",
   "id": "e8a5104f",
   "metadata": {},
   "source": [
    "## Provides the Accuracy, F1 Score and Confusion matrix of model"
   ]
  },
  {
   "cell_type": "code",
   "execution_count": 7,
   "id": "b0ff7bc6",
   "metadata": {},
   "outputs": [],
   "source": [
    "def scores(yt,yh,sets):\n",
    "    print(f'{sets} Accuracy = {accuracy(yt,yh)}')\n",
    "    print(f' F1 Score = {metrics.f1_score(yt,yh)}')\n",
    "    plt.figure()\n",
    "    cm = metrics.confusion_matrix(yt,yh)\n",
    "    print('\\nConfusion Matrix')\n",
    "    sns.set(rc = {'figure.figsize':(2,2)})\n",
    "    sns.heatmap(cm,annot=True)"
   ]
  },
  {
   "cell_type": "markdown",
   "id": "97768cdb",
   "metadata": {},
   "source": [
    "## Gives the indices of datapoints belonging the various classes"
   ]
  },
  {
   "cell_type": "code",
   "execution_count": 8,
   "id": "01d11635",
   "metadata": {},
   "outputs": [],
   "source": [
    "def class_ind(X,y):\n",
    "    c1=[]\n",
    "    c2=[]\n",
    "    for i in range(len(X)):\n",
    "        if y[i] == 0:\n",
    "            c1.append(i)\n",
    "        else:\n",
    "            c2.append(i)\n",
    "    return c1,c2"
   ]
  },
  {
   "cell_type": "markdown",
   "id": "ca1e30d8",
   "metadata": {},
   "source": [
    "# Trivial Regressor"
   ]
  },
  {
   "cell_type": "markdown",
   "id": "68292373",
   "metadata": {},
   "source": [
    "This Model doesn't use the datapoints, randomly gives output based on the overall probability of occurence of a class"
   ]
  },
  {
   "cell_type": "markdown",
   "id": "e0141d85",
   "metadata": {},
   "source": [
    "## Model"
   ]
  },
  {
   "cell_type": "code",
   "execution_count": 9,
   "id": "a5d609ad",
   "metadata": {},
   "outputs": [],
   "source": [
    "def trivial(l,df):\n",
    "    v = df['Classes'].value_counts()\n",
    "    n = len(df)\n",
    "    a = v[0]/n\n",
    "    b = v[1]/n\n",
    "    yh=random.choices([0,1],[a,b],k=l)\n",
    "    return yh"
   ]
  },
  {
   "cell_type": "markdown",
   "id": "83ade35a",
   "metadata": {},
   "source": [
    "# N means - Baseline Classifier"
   ]
  },
  {
   "cell_type": "markdown",
   "id": "df688f43",
   "metadata": {},
   "source": [
    "The nmeans classifier was used as a baseline or refrence classifier, to compare other models. No optimization was done on this classifier. Output labels was based on eucledian distance to the closest datapoint"
   ]
  },
  {
   "cell_type": "markdown",
   "id": "d676aeb0",
   "metadata": {},
   "source": [
    "## Model Function"
   ]
  },
  {
   "cell_type": "code",
   "execution_count": 10,
   "id": "1916e766",
   "metadata": {},
   "outputs": [],
   "source": [
    "def nmeans(X,y,data):\n",
    "    c1=[]\n",
    "    c2=[]\n",
    "    for i in range(len(X)):\n",
    "        if y[i] == 0:\n",
    "            c1.append(i)\n",
    "        else:\n",
    "            c2.append(i)\n",
    "    \n",
    "    s1 = X[c1,:]\n",
    "    s2 = X[c2,:]\n",
    "    \n",
    "    m1 = s1.mean(axis=0)\n",
    "    m2 = s2.mean(axis=0)\n",
    "\n",
    "    val1 = []\n",
    "    val2 = []\n",
    "    \n",
    "    for i in data:\n",
    "        val1.append(spatial.distance.euclidean(i, m1))\n",
    "        val2.append(spatial.distance.euclidean(i, m2))\n",
    "    \n",
    "    yh = []\n",
    "    for j in range(len(data)):\n",
    "        if val1[j]<val2[j]:\n",
    "            yh.append(0)\n",
    "        else:\n",
    "            yh.append(1)\n",
    "    return yh"
   ]
  },
  {
   "cell_type": "markdown",
   "id": "ba8ef074",
   "metadata": {},
   "source": [
    "# Bayes Minimum-Error Classifier (Gaussian Distribution Model)"
   ]
  },
  {
   "cell_type": "markdown",
   "id": "c9623e5e",
   "metadata": {},
   "source": [
    "The 1st Classifier I will be using is the Bayes Minimum error classifier, where the decision boundry is given by\n",
    "g = -(1/2)ln(|Ei|)-(1/2)(X-mi)TE/^-1(X-mi)+ln(P(Si))\n",
    "This function uses the Covariance Matrix and means to predict the labels of the datapoints"
   ]
  },
  {
   "cell_type": "markdown",
   "id": "5bb86108",
   "metadata": {},
   "source": [
    "## Model Function"
   ]
  },
  {
   "cell_type": "code",
   "execution_count": 11,
   "id": "35606f2e",
   "metadata": {},
   "outputs": [],
   "source": [
    "def Bayes(df,X,y,Xt):\n",
    "    \n",
    "    c = class_ind(X,y)\n",
    "    s1 = X[c[0],:]\n",
    "    s2 = X[c[1],:]\n",
    "\n",
    "    m1 = s1.mean(axis=0)\n",
    "    m2 = s2.mean(axis=0)\n",
    "\n",
    "    v = df['Classes'].value_counts()\n",
    "    n = len(df)\n",
    "    Ps1 = v[0]/n\n",
    "    Ps2 = v[1]/n\n",
    "    \n",
    "    E1 = df.iloc[c[0],:-1].cov().values\n",
    "    E2 = df.iloc[c[1],:-1].cov().values\n",
    "    \n",
    "    g11 =-0.5*math.log(np.linalg.det(E1),math.exp(1))\n",
    "    g13 = math.log(Ps1,math.exp(1))\n",
    "    g12 = []\n",
    "    for i in range(len(Xt)):\n",
    "        g12.append(((Xt-m1)[i]@np.linalg.inv(E1))@(Xt-m1)[i].T)\n",
    "    g12 = -0.5*np.array(g12)\n",
    "    g1 = g11+g12+g13\n",
    "    \n",
    "    g21 =-0.5*math.log(np.linalg.det(E2),math.exp(1))\n",
    "    g23 = math.log(Ps2,math.exp(1))\n",
    "    g22 = []\n",
    "    for i in range(len(Xt)):\n",
    "        g22.append(((Xt-m2)[i]@np.linalg.inv(E2))@(Xt-m2)[i].T)\n",
    "    g22 = -0.5*np.array(g22)\n",
    "    g2 = g21+g22+g23\n",
    "    \n",
    "    yh = []\n",
    "    for j in range(len(g1)):\n",
    "        if g1[j]>g2[j]:\n",
    "            yh.append(0)\n",
    "        else:\n",
    "            yh.append(1)\n",
    "    \n",
    "    return yh"
   ]
  },
  {
   "cell_type": "markdown",
   "id": "0936e9fa",
   "metadata": {},
   "source": [
    "# Perceptron Learning Algorithm (Sequential GD and Scheduler for Eta)"
   ]
  },
  {
   "cell_type": "markdown",
   "id": "96aeebb0",
   "metadata": {},
   "source": [
    "## Function to claculate cost J(w)"
   ]
  },
  {
   "cell_type": "code",
   "execution_count": 12,
   "id": "cf0cbc3d",
   "metadata": {},
   "outputs": [],
   "source": [
    "def critierion_perc(w,z,x):\n",
    "    val = w@x.T*z\n",
    "    tot = 0\n",
    "    for i in val:\n",
    "        if i <= 0:\n",
    "            tot = tot + i\n",
    "    return -1*tot"
   ]
  },
  {
   "cell_type": "markdown",
   "id": "3b5d3732",
   "metadata": {},
   "source": [
    "## Function to find optimal weights and coressponing error, for each eta overall 20 combinations"
   ]
  },
  {
   "cell_type": "code",
   "execution_count": 13,
   "id": "7589cd34",
   "metadata": {},
   "outputs": [],
   "source": [
    "def gradient_seq(df):\n",
    "    w = np.random.uniform(-0.05,0.05,len(df[0]))\n",
    "\n",
    "    A = [0.01, 0.1, 1, 10, 100]\n",
    "    B = [1, 10, 100, 1000]\n",
    "    Et = {}\n",
    "    wt = {}\n",
    "    \n",
    "\n",
    "    dfl = df.tolist()\n",
    "    dfs = random.sample(dfl,len(dfl))\n",
    "    dfs = np.array(dfs)\n",
    "    x = dfs[:,:-1]\n",
    "    o = np.ones((len(x),1))\n",
    "    x = np.hstack([o,x])\n",
    "    y = dfs[:,-1]\n",
    "\n",
    "\n",
    "    z = []\n",
    "    for i in dfs[:,-1]:\n",
    "        if i == 0:\n",
    "            z.append(1)\n",
    "        elif i == 1:\n",
    "            z.append(-1)\n",
    "    z = np.array(z)\n",
    "    \n",
    "    for a in A:\n",
    "        for b in B:\n",
    "            m = 0\n",
    "            E = []\n",
    "            while True:\n",
    "                m += 1\n",
    "                E.append(critierion_perc(w,z,x)**0.5)\n",
    "                J = {}\n",
    "                k = random.sample(range(0,len(x)),len(x))\n",
    "                for n in k:\n",
    "                    i = (m)*len(x)+(n+1)\n",
    "                    eta = a/(b+i)\n",
    "                    if w@x[n].T*z[n] <= 0:\n",
    "                        w = w+(eta*z[n]*x[n])\n",
    "            \n",
    "                    if m >= 100:\n",
    "                        wt[a,b] = w\n",
    "                        Et[a,b] = E\n",
    "                        break\n",
    "                if m >= 100:\n",
    "                    break\n",
    "            \n",
    "    return wt,Et"
   ]
  },
  {
   "cell_type": "markdown",
   "id": "e199875c",
   "metadata": {},
   "source": [
    "## Predict Class Labels based on optimal weights"
   ]
  },
  {
   "cell_type": "code",
   "execution_count": 14,
   "id": "a79250f7",
   "metadata": {},
   "outputs": [],
   "source": [
    "def classification_perc(w,x):\n",
    "    o = np.ones((len(x),1))\n",
    "    x = np.hstack([o,x])\n",
    "    label = []\n",
    "    val = w@x.T\n",
    "    for i in val:\n",
    "        if  i >= 0:\n",
    "            label.append(0)\n",
    "        else:\n",
    "            label.append(1)\n",
    "    return np.array(label)"
   ]
  },
  {
   "cell_type": "markdown",
   "id": "590bcda7",
   "metadata": {},
   "source": [
    "## Model Function"
   ]
  },
  {
   "cell_type": "code",
   "execution_count": 116,
   "id": "3aa07ed9",
   "metadata": {},
   "outputs": [],
   "source": [
    "def Perceptron(dfs,xt):\n",
    "    x1 = dfs[:,:-1]\n",
    "    y1 = (dfs[:,-1]).astype(int).tolist()\n",
    "    w1,E1 = gradient_seq(dfs)\n",
    "    minE = {}\n",
    "    for i in E1.keys():\n",
    "        minE[i] = (E1[i][-1])\n",
    "        #print(f\"\\tThe Final Error of Pair: {i} is {minE[i]}\")\n",
    "    minpair = min(minE, key=minE.get)\n",
    "    #print(f\"The lowest error pair is {minpair} with Erms {minE[minpair]}\")\n",
    "    wl = w1[minpair]\n",
    "    yh = classification_perc(wl,xt)\n",
    "    return yh"
   ]
  },
  {
   "cell_type": "markdown",
   "id": "7dcbd764",
   "metadata": {},
   "source": [
    "# Mean Square Error Classifier (Widrow-Hoff) based on Sequential GD and Scheduler"
   ]
  },
  {
   "cell_type": "markdown",
   "id": "0837ebc7",
   "metadata": {},
   "source": [
    "This classfier uses the MSE algorithm with weight update rule, w(i+1) = w(i) - eta(i)(w(i)TXn - bn)Xn"
   ]
  },
  {
   "cell_type": "markdown",
   "id": "478f4cb1",
   "metadata": {},
   "source": [
    "## Function to calculate cost J(w)"
   ]
  },
  {
   "cell_type": "code",
   "execution_count": 16,
   "id": "9bac862c",
   "metadata": {},
   "outputs": [],
   "source": [
    "def criterion_mse(w,x,y):\n",
    "    N = len(y)\n",
    "    Jn = (1/N)*(((w@x.T)-y)**2)\n",
    "    J = sum(Jn)\n",
    "    return J"
   ]
  },
  {
   "cell_type": "markdown",
   "id": "60a8eb6c",
   "metadata": {},
   "source": [
    "## Function to find optimal weights and coressponing error, for each eta overall 6 combinations"
   ]
  },
  {
   "cell_type": "code",
   "execution_count": 17,
   "id": "29898cb3",
   "metadata": {},
   "outputs": [],
   "source": [
    "def gradient_mse(df):\n",
    "    w = np.random.uniform(-0.2,0.2,len(df[0]))\n",
    "    a = 0.01\n",
    "    B = [0.01 , 0.1, 1, 10, 100, 1000]\n",
    "    Et = {}\n",
    "    wt = {}\n",
    "    \n",
    "    dfl = df.tolist()\n",
    "    dfs = random.sample(dfl,len(dfl))\n",
    "    dfs = np.array(dfs)\n",
    "    x = dfs[:,:-1]\n",
    "    o = np.ones((len(x),1))\n",
    "    x = np.hstack([o,x])\n",
    "    y = dfs[:,-1]\n",
    "    bb = 10*np.ones(len(y))\n",
    "    z = []\n",
    "    for i in dfs[:,-1]:\n",
    "        if i == 0:\n",
    "            z.append(1)\n",
    "        elif i == 1:\n",
    "            z.append(-1)\n",
    "    z = np.array(z)\n",
    "    \n",
    "    for b in B:\n",
    "        m = 0\n",
    "        E = []\n",
    "        while True:\n",
    "\n",
    "            E.append(criterion_mse(w,x,z)**0.5)\n",
    "\n",
    "\n",
    "            m += 1\n",
    "\n",
    "            k = random.sample(range(0,len(x)),len(x))\n",
    "            for n in k:\n",
    "                i = (m)*len(x)+(n+1)\n",
    "                eta = a/(b+i)\n",
    "                w = w - eta*((w@x[n].T-z[n])*x[n])\n",
    "\n",
    "                if m >= 100:\n",
    "                    wt[a,b] = w\n",
    "                    Et[a,b] = E\n",
    "                    break\n",
    "            if m >= 100:\n",
    "                break\n",
    "\n",
    "    return wt,Et"
   ]
  },
  {
   "cell_type": "markdown",
   "id": "eb2f86d6",
   "metadata": {},
   "source": [
    "## Predicting labels based on optimal weights"
   ]
  },
  {
   "cell_type": "code",
   "execution_count": 18,
   "id": "9b82dcbf",
   "metadata": {},
   "outputs": [],
   "source": [
    "def classification_mse(w,x):\n",
    "    o = np.ones((len(x),1))\n",
    "    x = np.hstack([o,x])\n",
    "    label = []\n",
    "    val = w@x.T\n",
    "    for i in val:\n",
    "        if  i >= 0:\n",
    "            label.append(0)\n",
    "        else:\n",
    "            label.append(1)\n",
    "    return np.array(label)"
   ]
  },
  {
   "cell_type": "markdown",
   "id": "0fb850d7",
   "metadata": {},
   "source": [
    "## Model Function"
   ]
  },
  {
   "cell_type": "code",
   "execution_count": 19,
   "id": "169897f5",
   "metadata": {},
   "outputs": [],
   "source": [
    "def MSE(dfs,xt):\n",
    "    x1 = dfs[:,:-1]\n",
    "    y1 = (dfs[:,-1]).astype(int).tolist()\n",
    "    w1,E1 = gradient_mse(dfs)\n",
    "    minE = {}\n",
    "    for i in E1.keys():\n",
    "        minE[i] = (E1[i][-1])\n",
    "        #print(f\"\\tThe Final Error of Pair: {i} is {minE[i]}\")\n",
    "    minpair = min(minE, key=minE.get)\n",
    "    #print(f\"The lowest error pair is {minpair} with Erms {minE[minpair]}\")\n",
    "    wl = w1[minpair]\n",
    "    yh = classification_mse(wl,xt)\n",
    "    return yh"
   ]
  },
  {
   "cell_type": "markdown",
   "id": "2ea76eff",
   "metadata": {},
   "source": [
    "# SVM Linear Classifier"
   ]
  },
  {
   "cell_type": "markdown",
   "id": "f03c19dd",
   "metadata": {},
   "source": [
    "I have used he matrix implementation the code the svm i.e Al = p. First I found out A but differentiating with li (l=lamada) and writing it in matrix form, then found all lamada, then used it to calculate the weights and finally predicted the labels."
   ]
  },
  {
   "cell_type": "markdown",
   "id": "0cfc9862",
   "metadata": {},
   "source": [
    "## Function to get z from labels y"
   ]
  },
  {
   "cell_type": "code",
   "execution_count": 20,
   "id": "f57d8c45",
   "metadata": {},
   "outputs": [],
   "source": [
    " def get_z(y):\n",
    "    z = []\n",
    "    for i in y:\n",
    "        if i == 0:\n",
    "            z.append(1)\n",
    "        elif i == 1:\n",
    "            z.append(-1)\n",
    "    z = np.array(z)\n",
    "    return z"
   ]
  },
  {
   "cell_type": "markdown",
   "id": "79f72783",
   "metadata": {},
   "source": [
    "## Model Function"
   ]
  },
  {
   "cell_type": "code",
   "execution_count": 21,
   "id": "2f965981",
   "metadata": {},
   "outputs": [],
   "source": [
    "def SVM_linear(X,z,gamma,Xt):\n",
    "    A = np.empty([len(X),len(X)])\n",
    "    for i in range(len(X)):\n",
    "        for j in range(len(X)):\n",
    "            A[i][j] = (z[i]*z[j]*X[i].T@X[j])\n",
    "    A = np.vstack([A, z])\n",
    "    z2 = np.hstack([z,0])\n",
    "    z2 = (-1*z2).reshape(len(X)+1,1)\n",
    "    A = np.hstack([A, z2])\n",
    "    p = np.ones([len(X)+1,1])\n",
    "    l = np.linalg.inv(A)@p\n",
    "    w = 0\n",
    "    for i in range(l.shape[0]-1):\n",
    "        w += l[i]*z[i]*X[i]\n",
    "    w0 = 1/z[0]-(w.T@X[0])\n",
    "    g = (Xt@w)+w0\n",
    "    yh = []\n",
    "    for i in g:\n",
    "        if i>0:\n",
    "            yh.append(0)\n",
    "        else:\n",
    "            yh.append(1)\n",
    "\n",
    "    return yh"
   ]
  },
  {
   "cell_type": "markdown",
   "id": "fff58a88",
   "metadata": {},
   "source": [
    "# SVM Nonlinear RBF Classifier"
   ]
  },
  {
   "cell_type": "markdown",
   "id": "6a3d58e2",
   "metadata": {},
   "source": [
    "Used the same technique as Linear, but used RBF kernal to make it nonlinear, tried over 100 gamma values to find best one"
   ]
  },
  {
   "cell_type": "code",
   "execution_count": 22,
   "id": "e3e6b39f",
   "metadata": {},
   "outputs": [],
   "source": [
    "def SVM_RBF(X,z,gamma,Xt):\n",
    "    A = np.empty([len(X),len(X)])\n",
    "    for i in range(len(X)):\n",
    "        for j in range(len(X)):\n",
    "            A[i][j] = (z[i]*z[j]*np.exp(-1*gamma*np.linalg.norm(X[i,:]-X[j,:])))\n",
    "    A = np.vstack([A, z])\n",
    "    z2 = np.hstack([z,0])\n",
    "    z2 = (-1*z2).reshape(len(X)+1,1)\n",
    "    A = np.hstack([A, z2])\n",
    "    p = np.ones([len(X)+1,1])\n",
    "    l = np.linalg.inv(A)@p\n",
    "    w = 0\n",
    "    for i in range(l.shape[0]-1):\n",
    "        w += l[i]*z[i]*X[i]\n",
    "    w0 = 1/z[0]-(w.T@X[0])\n",
    "    g = (Xt@w)+w0\n",
    "    yh = []\n",
    "    for i in g:\n",
    "        if i>0:\n",
    "            yh.append(0)\n",
    "        else:\n",
    "            yh.append(1)\n",
    "    return yh"
   ]
  },
  {
   "cell_type": "markdown",
   "id": "a6f04213",
   "metadata": {},
   "source": [
    "# Cross Validation"
   ]
  },
  {
   "cell_type": "markdown",
   "id": "25b8c43d",
   "metadata": {},
   "source": [
    "## Function to perform Cross Validation on Base Dataset"
   ]
  },
  {
   "cell_type": "markdown",
   "id": "0e92b49e",
   "metadata": {},
   "source": [
    "I have made the usual 75% train and 25% validation split. So there are 4 epochs. The function contains which model to use and gives the epoch with lowest validation error"
   ]
  },
  {
   "cell_type": "code",
   "execution_count": 23,
   "id": "daf49fd1",
   "metadata": {},
   "outputs": [],
   "source": [
    "def Cross_Validation(model,name,df):\n",
    "    error = {}\n",
    "    for i in range(4):\n",
    "        \n",
    "        if i == 3:\n",
    "            q = -1\n",
    "        else:\n",
    "            q = 46*(i+1)\n",
    "\n",
    "        Xval = df.iloc[46*i:q,1:-1].values\n",
    "        yval = df.iloc[46*i:q,-1].values\n",
    "        dfs = df.drop(df.index[46*i:q]).iloc[:,1:].values\n",
    "        Xtr = df.drop(df.index[46*i:q]).iloc[:,1:-1].values\n",
    "        ytr = df.drop(df.index[46*i:q]).iloc[:,-1].values\n",
    "        ztr = get_z(ytr)\n",
    "        if name == 'SVM_linear' or name == 'SVM_RBF':\n",
    "            yh = model(Xtr,ztr,0.01,Xval)\n",
    "\n",
    "        elif name == 'nmeans':\n",
    "            yh = model(Xtr,ytr,Xval)\n",
    "\n",
    "        elif name == 'Perceptron' or name == 'MSE':\n",
    "            yh = model(dfs,Xval)\n",
    "\n",
    "        elif name == 'Bayes':\n",
    "                yh = model(df,Xtr,ytr,Xval)\n",
    "\n",
    "\n",
    "        else:\n",
    "            print('Enter Valid Model')\n",
    "        \n",
    "        error[i] = 1-accuracy(yval,yh)\n",
    "\n",
    "        print(f'Epoch {i} error is = {1-accuracy(yval,yh)}')\n",
    "    m = min(error, key=error.get)\n",
    "    print(f'\\nLowest error is at Epoch {m} with {error[m]}')\n",
    "    #print(f'Accuracy at Epoch {m} = {1-error[m]}\\n')\n",
    "    scores(yval,yh,'Best Validation Set')\n",
    "    \n",
    "    \n",
    "    return m"
   ]
  },
  {
   "cell_type": "markdown",
   "id": "203fdd46",
   "metadata": {},
   "source": [
    "## Function to provide the test set accuracy for the train set with lowest validation error"
   ]
  },
  {
   "cell_type": "code",
   "execution_count": 24,
   "id": "1bd9b85e",
   "metadata": {},
   "outputs": [],
   "source": [
    "def low_epoch(i,model,name,df,Xt,yt):\n",
    "\n",
    "    p = 46*i\n",
    "    \n",
    "    if i == 3:\n",
    "        q = -1\n",
    "    else:\n",
    "        q = 46*(i+1)\n",
    "        \n",
    "    dfs = df.drop(df.index[p:q]).iloc[:,1:].values        \n",
    "    Xtr = df.drop(df.index[p:q]).iloc[:,1:-1].values\n",
    "    ytr = df.drop(df.index[p:q]).iloc[:,-1].values\n",
    "    ztr = get_z(ytr)\n",
    "    \n",
    "    if name == 'SVM_linear' or name == 'SVM_RBF':\n",
    "        yh = model(Xtr,ztr,0.01,Xt)\n",
    "\n",
    "    elif name == 'nmeans':\n",
    "        yh = model(Xtr,ytr,Xt)\n",
    "\n",
    "    elif name == 'Perceptron' or name == 'MSE':\n",
    "        yh = model(dfs,Xt)\n",
    "\n",
    "    elif name == 'Bayes':\n",
    "            yh = model(df,Xtr,ytr,Xt)\n",
    "\n",
    "\n",
    "    else:\n",
    "        print('Enter Valid Model')\n",
    "        \n",
    "    scores(yh,yt,'Test Set')"
   ]
  },
  {
   "cell_type": "markdown",
   "id": "34ceb6e4",
   "metadata": {},
   "source": [
    "# Performing Cross Validation on all models"
   ]
  },
  {
   "cell_type": "markdown",
   "id": "0f019fb8",
   "metadata": {},
   "source": [
    "## N means"
   ]
  },
  {
   "cell_type": "code",
   "execution_count": 26,
   "id": "31d3103b",
   "metadata": {},
   "outputs": [
    {
     "name": "stdout",
     "output_type": "stream",
     "text": [
      "Epoch 0 error is = 0.21739130434782605\n",
      "Epoch 1 error is = 0.3695652173913043\n",
      "Epoch 2 error is = 0.3913043478260869\n",
      "Epoch 3 error is = 0.06666666666666665\n",
      "\n",
      "Lowest error is at Epoch 3 with 0.06666666666666665\n",
      "Best Validation Set Accuracy = 0.9333333333333333\n",
      " F1 Score = 0.9647058823529412\n",
      "\n",
      "Confusion Matrix\n"
     ]
    },
    {
     "data": {
      "image/png": "[encoded data removed]",
      "text/plain": [
       "<Figure size 144x144 with 2 Axes>"
      ]
     },
     "metadata": {},
     "output_type": "display_data"
    }
   ],
   "source": [
    "nmi = Cross_Validation(nmeans,'nmeans',df)"
   ]
  },
  {
   "cell_type": "code",
   "execution_count": 27,
   "id": "7d559e4e",
   "metadata": {},
   "outputs": [
    {
     "name": "stdout",
     "output_type": "stream",
     "text": [
      "Test Set Accuracy = 0.8\n",
      " F1 Score = 0.7391304347826085\n",
      "\n",
      "Confusion Matrix\n"
     ]
    },
    {
     "data": {
      "image/png": "[encoded data removed]",
      "text/plain": [
       "<Figure size 144x144 with 2 Axes>"
      ]
     },
     "metadata": {},
     "output_type": "display_data"
    }
   ],
   "source": [
    "low_epoch(nmi,nmeans,'nmeans',df,Xt,yt)"
   ]
  },
  {
   "cell_type": "markdown",
   "id": "535dff32",
   "metadata": {},
   "source": [
    "## Bayes"
   ]
  },
  {
   "cell_type": "code",
   "execution_count": 28,
   "id": "1b286ea4",
   "metadata": {},
   "outputs": [
    {
     "name": "stdout",
     "output_type": "stream",
     "text": [
      "Epoch 0 error is = 0.34782608695652173\n",
      "Epoch 1 error is = 0.15217391304347827\n",
      "Epoch 2 error is = 0.17391304347826086\n",
      "Epoch 3 error is = 0.0444444444444444\n",
      "\n",
      "Lowest error is at Epoch 3 with 0.0444444444444444\n",
      "Best Validation Set Accuracy = 0.9555555555555556\n",
      " F1 Score = 0.9761904761904763\n",
      "\n",
      "Confusion Matrix\n"
     ]
    },
    {
     "data": {
      "image/png": "[encoded data removed]",
      "text/plain": [
       "<Figure size 144x144 with 2 Axes>"
      ]
     },
     "metadata": {},
     "output_type": "display_data"
    }
   ],
   "source": [
    "bi = Cross_Validation(Bayes,'Bayes',df)"
   ]
  },
  {
   "cell_type": "code",
   "execution_count": 29,
   "id": "6a6c1fa9",
   "metadata": {},
   "outputs": [
    {
     "name": "stdout",
     "output_type": "stream",
     "text": [
      "Test Set Accuracy = 0.8666666666666667\n",
      " F1 Score = 0.84\n",
      "\n",
      "Confusion Matrix\n"
     ]
    },
    {
     "data": {
      "image/png": "[encoded data removed]",
      "text/plain": [
       "<Figure size 144x144 with 2 Axes>"
      ]
     },
     "metadata": {},
     "output_type": "display_data"
    }
   ],
   "source": [
    "low_epoch(bi,Bayes,'Bayes',df,Xt,yt)"
   ]
  },
  {
   "cell_type": "markdown",
   "id": "203ea4c7",
   "metadata": {},
   "source": [
    "## Perceptron"
   ]
  },
  {
   "cell_type": "code",
   "execution_count": 30,
   "id": "e9231da1",
   "metadata": {
    "scrolled": false
   },
   "outputs": [
    {
     "name": "stdout",
     "output_type": "stream",
     "text": [
      "The lowest error pair is (0.01, 1000) with Erms 0.6946477651148641\n",
      "Epoch 0 error is = 0.26086956521739135\n",
      "The lowest error pair is (0.01, 1000) with Erms 0.9058096501891952\n",
      "Epoch 1 error is = 0.21739130434782605\n",
      "The lowest error pair is (0.01, 1000) with Erms 0.4067422804974323\n",
      "Epoch 2 error is = 0.06521739130434778\n",
      "The lowest error pair is (0.01, 100) with Erms 0.4515519969087185\n",
      "Epoch 3 error is = 0.06666666666666665\n",
      "\n",
      "Lowest error is at Epoch 2 with 0.06521739130434778\n",
      "Best Validation Set Accuracy = 0.9333333333333333\n",
      " F1 Score = 0.963855421686747\n",
      "\n",
      "Confusion Matrix\n"
     ]
    },
    {
     "data": {
      "image/png": "[encoded data removed]",
      "text/plain": [
       "<Figure size 144x144 with 2 Axes>"
      ]
     },
     "metadata": {},
     "output_type": "display_data"
    }
   ],
   "source": [
    "pi = Cross_Validation(Perceptron,'Perceptron',df)"
   ]
  },
  {
   "cell_type": "markdown",
   "id": "fa61f52e",
   "metadata": {},
   "source": [
    "Accuracy keeps varying best I got 83.33%"
   ]
  },
  {
   "cell_type": "code",
   "execution_count": 31,
   "id": "788ca9da",
   "metadata": {},
   "outputs": [
    {
     "name": "stdout",
     "output_type": "stream",
     "text": [
      "The lowest error pair is (0.01, 100) with Erms 0.5564158614744201\n",
      "Test Set Accuracy = 0.8166666666666667\n",
      " F1 Score = 0.7441860465116279\n",
      "\n",
      "Confusion Matrix\n"
     ]
    },
    {
     "data": {
      "image/png": "[encoded data removed]",
      "text/plain": [
       "<Figure size 144x144 with 2 Axes>"
      ]
     },
     "metadata": {},
     "output_type": "display_data"
    }
   ],
   "source": [
    "low_epoch(pi,Perceptron,'Perceptron',df,Xt,yt)"
   ]
  },
  {
   "cell_type": "markdown",
   "id": "5fb4b075",
   "metadata": {},
   "source": [
    "## MSE"
   ]
  },
  {
   "cell_type": "code",
   "execution_count": 32,
   "id": "38a421c3",
   "metadata": {
    "scrolled": false
   },
   "outputs": [
    {
     "name": "stdout",
     "output_type": "stream",
     "text": [
      "Epoch 0 error is = 0.23913043478260865\n",
      "Epoch 1 error is = 0.19565217391304346\n",
      "Epoch 2 error is = 0.13043478260869568\n",
      "Epoch 3 error is = 0.06666666666666665\n",
      "\n",
      "Lowest error is at Epoch 3 with 0.06666666666666665\n",
      "Best Validation Set Accuracy = 0.9333333333333333\n",
      " F1 Score = 0.9647058823529412\n",
      "\n",
      "Confusion Matrix\n"
     ]
    },
    {
     "data": {
      "image/png": "[encoded data removed]",
      "text/plain": [
       "<Figure size 144x144 with 2 Axes>"
      ]
     },
     "metadata": {},
     "output_type": "display_data"
    }
   ],
   "source": [
    "msei = Cross_Validation(MSE,'MSE',df)"
   ]
  },
  {
   "cell_type": "markdown",
   "id": "960a3099",
   "metadata": {},
   "source": [
    "Accuracy keeps varying best I got 83.33%"
   ]
  },
  {
   "cell_type": "code",
   "execution_count": 33,
   "id": "ced6e9e9",
   "metadata": {},
   "outputs": [
    {
     "name": "stdout",
     "output_type": "stream",
     "text": [
      "Test Set Accuracy = 0.85\n",
      " F1 Score = 0.7906976744186046\n",
      "\n",
      "Confusion Matrix\n"
     ]
    },
    {
     "data": {
      "image/png": "[encoded data removed]",
      "text/plain": [
       "<Figure size 144x144 with 2 Axes>"
      ]
     },
     "metadata": {},
     "output_type": "display_data"
    }
   ],
   "source": [
    "low_epoch(msei,MSE,'MSE',df,Xt,yt)"
   ]
  },
  {
   "cell_type": "markdown",
   "id": "0132fe55",
   "metadata": {},
   "source": [
    "## SVM Linear"
   ]
  },
  {
   "cell_type": "code",
   "execution_count": 34,
   "id": "eeeb688b",
   "metadata": {},
   "outputs": [
    {
     "name": "stdout",
     "output_type": "stream",
     "text": [
      "Epoch 0 error is = 0.4565217391304348\n",
      "Epoch 1 error is = 0.32608695652173914\n",
      "Epoch 2 error is = 0.6739130434782609\n",
      "Epoch 3 error is = 0.1333333333333333\n",
      "\n",
      "Lowest error is at Epoch 3 with 0.1333333333333333\n",
      "Best Validation Set Accuracy = 0.8666666666666667\n",
      " F1 Score = 0.923076923076923\n",
      "\n",
      "Confusion Matrix\n"
     ]
    },
    {
     "data": {
      "image/png": "[encoded data removed]",
      "text/plain": [
       "<Figure size 144x144 with 2 Axes>"
      ]
     },
     "metadata": {},
     "output_type": "display_data"
    }
   ],
   "source": [
    "sli = Cross_Validation(SVM_linear,'SVM_linear',df)"
   ]
  },
  {
   "cell_type": "code",
   "execution_count": 35,
   "id": "c004ad52",
   "metadata": {},
   "outputs": [
    {
     "name": "stdout",
     "output_type": "stream",
     "text": [
      "Test Set Accuracy = 0.5166666666666667\n",
      " F1 Score = 0.5797101449275363\n",
      "\n",
      "Confusion Matrix\n"
     ]
    },
    {
     "data": {
      "image/png": "[encoded data removed]",
      "text/plain": [
       "<Figure size 144x144 with 2 Axes>"
      ]
     },
     "metadata": {},
     "output_type": "display_data"
    }
   ],
   "source": [
    "low_epoch(sli,SVM_linear,'SVM_linear',df,Xt,yt)"
   ]
  },
  {
   "cell_type": "markdown",
   "id": "9c0fb0c2",
   "metadata": {},
   "source": [
    "## SVM RBF"
   ]
  },
  {
   "cell_type": "code",
   "execution_count": 36,
   "id": "4586b16d",
   "metadata": {},
   "outputs": [
    {
     "name": "stdout",
     "output_type": "stream",
     "text": [
      "Epoch 0 error is = 0.10869565217391308\n",
      "Epoch 1 error is = 0.23913043478260865\n",
      "Epoch 2 error is = 0.19565217391304346\n",
      "Epoch 3 error is = 0.06666666666666665\n",
      "\n",
      "Lowest error is at Epoch 3 with 0.06666666666666665\n",
      "Best Validation Set Accuracy = 0.9333333333333333\n",
      " F1 Score = 0.9647058823529412\n",
      "\n",
      "Confusion Matrix\n"
     ]
    },
    {
     "data": {
      "image/png": "[encoded data removed]",
      "text/plain": [
       "<Figure size 144x144 with 2 Axes>"
      ]
     },
     "metadata": {},
     "output_type": "display_data"
    }
   ],
   "source": [
    "sbi = Cross_Validation(SVM_RBF,'SVM_RBF',df)"
   ]
  },
  {
   "cell_type": "code",
   "execution_count": 37,
   "id": "edd3f600",
   "metadata": {},
   "outputs": [
    {
     "name": "stdout",
     "output_type": "stream",
     "text": [
      "Test Set Accuracy = 0.8\n",
      " F1 Score = 0.76\n",
      "\n",
      "Confusion Matrix\n"
     ]
    },
    {
     "data": {
      "image/png": "[encoded data removed]",
      "text/plain": [
       "<Figure size 144x144 with 2 Axes>"
      ]
     },
     "metadata": {},
     "output_type": "display_data"
    }
   ],
   "source": [
    "low_epoch(sbi,SVM_RBF,'SVM_RBF',df,Xt,yt)"
   ]
  },
  {
   "cell_type": "markdown",
   "id": "e9459a3e",
   "metadata": {},
   "source": [
    "# Testing the metrics on Test set with entire Train (no split)"
   ]
  },
  {
   "cell_type": "markdown",
   "id": "2aa7ad18",
   "metadata": {},
   "source": [
    "## Trivial"
   ]
  },
  {
   "cell_type": "code",
   "execution_count": 38,
   "id": "7326c58b",
   "metadata": {
    "scrolled": false
   },
   "outputs": [
    {
     "name": "stdout",
     "output_type": "stream",
     "text": [
      "Test Set Accuracy = 0.5\n",
      " F1 Score = 0.5161290322580646\n",
      "\n",
      "Confusion Matrix\n"
     ]
    },
    {
     "data": {
      "image/png": "[encoded data removed]",
      "text/plain": [
       "<Figure size 144x144 with 2 Axes>"
      ]
     },
     "metadata": {},
     "output_type": "display_data"
    }
   ],
   "source": [
    "yhtri = trivial(len(Xt),df)\n",
    "scores(yt,yhtri,'Test Set')"
   ]
  },
  {
   "cell_type": "markdown",
   "id": "4df80b2c",
   "metadata": {},
   "source": [
    "## N Means"
   ]
  },
  {
   "cell_type": "code",
   "execution_count": 39,
   "id": "4c3c3881",
   "metadata": {
    "scrolled": true
   },
   "outputs": [
    {
     "name": "stdout",
     "output_type": "stream",
     "text": [
      "Test Set Accuracy = 0.7833333333333333\n",
      " F1 Score = 0.6285714285714286\n",
      "\n",
      "Confusion Matrix\n"
     ]
    },
    {
     "data": {
      "image/png": "[encoded data removed]",
      "text/plain": [
       "<Figure size 144x144 with 2 Axes>"
      ]
     },
     "metadata": {},
     "output_type": "display_data"
    }
   ],
   "source": [
    "yhnmean = nmeans(X,y,Xt)\n",
    "scores(yt,yhnmean,'Test Set')"
   ]
  },
  {
   "cell_type": "markdown",
   "id": "cb0e6188",
   "metadata": {},
   "source": [
    "## Bayes"
   ]
  },
  {
   "cell_type": "code",
   "execution_count": 40,
   "id": "15425b9f",
   "metadata": {
    "scrolled": true
   },
   "outputs": [
    {
     "name": "stdout",
     "output_type": "stream",
     "text": [
      "Test Set Accuracy = 0.8666666666666667\n",
      " F1 Score = 0.8461538461538461\n",
      "\n",
      "Confusion Matrix\n"
     ]
    },
    {
     "data": {
      "image/png": "[encoded data removed]",
      "text/plain": [
       "<Figure size 144x144 with 2 Axes>"
      ]
     },
     "metadata": {},
     "output_type": "display_data"
    }
   ],
   "source": [
    "yhb = Bayes(df,X,y,Xt)\n",
    "scores(yt,yhb,'Test Set')"
   ]
  },
  {
   "cell_type": "markdown",
   "id": "d81de29d",
   "metadata": {},
   "source": [
    "## Perceptron"
   ]
  },
  {
   "cell_type": "markdown",
   "id": "b733bdde",
   "metadata": {},
   "source": [
    "As we are randomly suffelling for Sequential GD the accuracy will vary, the best was 85% on base dataset"
   ]
  },
  {
   "cell_type": "code",
   "execution_count": 41,
   "id": "b4b12f68",
   "metadata": {
    "scrolled": false
   },
   "outputs": [
    {
     "name": "stdout",
     "output_type": "stream",
     "text": [
      "The lowest error pair is (0.01, 1000) with Erms 0.7417432701726769\n"
     ]
    }
   ],
   "source": [
    "yhperc = Perceptron(dfs[:,1:],Xt)"
   ]
  },
  {
   "cell_type": "code",
   "execution_count": 42,
   "id": "3373fdc6",
   "metadata": {
    "scrolled": true
   },
   "outputs": [
    {
     "name": "stdout",
     "output_type": "stream",
     "text": [
      "Test Set Accuracy = 0.8166666666666667\n",
      " F1 Score = 0.7555555555555555\n",
      "\n",
      "Confusion Matrix\n"
     ]
    },
    {
     "data": {
      "image/png": "[encoded data removed]",
      "text/plain": [
       "<Figure size 144x144 with 2 Axes>"
      ]
     },
     "metadata": {},
     "output_type": "display_data"
    }
   ],
   "source": [
    "scores(yhperc,yt,'Test Set')"
   ]
  },
  {
   "cell_type": "markdown",
   "id": "fa984708",
   "metadata": {},
   "source": [
    "## MSE"
   ]
  },
  {
   "cell_type": "markdown",
   "id": "8467f569",
   "metadata": {},
   "source": [
    "As I am using sequentaial GD the randomnes varies the accuracy, highest i achieved was 86.66%"
   ]
  },
  {
   "cell_type": "code",
   "execution_count": 43,
   "id": "96beac5c",
   "metadata": {
    "scrolled": false
   },
   "outputs": [],
   "source": [
    "yhmse = MSE(dfs[:,1:],Xt)"
   ]
  },
  {
   "cell_type": "code",
   "execution_count": 44,
   "id": "d65102e2",
   "metadata": {
    "scrolled": true
   },
   "outputs": [
    {
     "name": "stdout",
     "output_type": "stream",
     "text": [
      "Test Set Accuracy = 0.8333333333333334\n",
      " F1 Score = 0.7916666666666667\n",
      "\n",
      "Confusion Matrix\n"
     ]
    },
    {
     "data": {
      "image/png": "[encoded data removed]",
      "text/plain": [
       "<Figure size 144x144 with 2 Axes>"
      ]
     },
     "metadata": {},
     "output_type": "display_data"
    }
   ],
   "source": [
    "scores(yhmse,yt,'Test Set')"
   ]
  },
  {
   "cell_type": "markdown",
   "id": "8d0de3a7",
   "metadata": {},
   "source": [
    "## SVM Linear"
   ]
  },
  {
   "cell_type": "code",
   "execution_count": 45,
   "id": "3dab12ce",
   "metadata": {
    "scrolled": false
   },
   "outputs": [
    {
     "name": "stdout",
     "output_type": "stream",
     "text": [
      "Test Set Accuracy = 0.7833333333333333\n",
      " F1 Score = 0.6666666666666667\n",
      "\n",
      "Confusion Matrix\n"
     ]
    },
    {
     "data": {
      "image/png": "[encoded data removed]",
      "text/plain": [
       "<Figure size 144x144 with 2 Axes>"
      ]
     },
     "metadata": {},
     "output_type": "display_data"
    }
   ],
   "source": [
    "z = get_z(y)\n",
    "yh2 = SVM_linear(X,z,None,Xt)\n",
    "scores(yh2,yt,'Test Set')"
   ]
  },
  {
   "cell_type": "markdown",
   "id": "dfb4e8a8",
   "metadata": {},
   "source": [
    "## SVM RBF"
   ]
  },
  {
   "cell_type": "markdown",
   "id": "e7b8a93b",
   "metadata": {},
   "source": [
    "### Iterating through gamma values from 0.001 to 0.2, to find gamma with highest accuracy"
   ]
  },
  {
   "cell_type": "code",
   "execution_count": null,
   "id": "939b93a2",
   "metadata": {},
   "outputs": [],
   "source": [
    "acc = []\n",
    "for i in np.arange(0.001,0.2,0.002):\n",
    "    yh = SVM_RBF(X,get_z(y),i,Xt)\n",
    "    acc.append(accuracy(yt,yh))"
   ]
  },
  {
   "cell_type": "code",
   "execution_count": 364,
   "id": "5c1423a5",
   "metadata": {
    "scrolled": true
   },
   "outputs": [
    {
     "data": {
      "text/plain": [
       "[<matplotlib.lines.Line2D at 0x17c48a85d30>]"
      ]
     },
     "execution_count": 364,
     "metadata": {},
     "output_type": "execute_result"
    },
    {
     "data": {
      "image/png": "[encoded data removed]",
      "text/plain": [
       "<Figure size 432x288 with 1 Axes>"
      ]
     },
     "metadata": {
      "needs_background": "light"
     },
     "output_type": "display_data"
    }
   ],
   "source": [
    "plt.plot(acc)"
   ]
  },
  {
   "cell_type": "markdown",
   "id": "f6e868d0",
   "metadata": {},
   "source": [
    "Optimal weight was around 0.01 giving 83.333% accuracy"
   ]
  },
  {
   "cell_type": "code",
   "execution_count": 47,
   "id": "a47ab963",
   "metadata": {
    "scrolled": true
   },
   "outputs": [
    {
     "name": "stdout",
     "output_type": "stream",
     "text": [
      "Test Set Accuracy = 0.8333333333333334\n",
      " F1 Score = 0.8076923076923076\n",
      "\n",
      "Confusion Matrix\n"
     ]
    },
    {
     "data": {
      "image/png": "[encoded data removed]",
      "text/plain": [
       "<Figure size 144x144 with 2 Axes>"
      ]
     },
     "metadata": {},
     "output_type": "display_data"
    }
   ],
   "source": [
    "yh = SVM_RBF(X,z,0.01,Xt)\n",
    "scores(yt,yh,'Test Set')"
   ]
  },
  {
   "cell_type": "markdown",
   "id": "dfab6b66",
   "metadata": {},
   "source": [
    "# Feature Expansion"
   ]
  },
  {
   "cell_type": "markdown",
   "id": "78ee5a3f",
   "metadata": {},
   "source": [
    "Let's augment the feature space by modifying some existing features and later do feature selection"
   ]
  },
  {
   "cell_type": "code",
   "execution_count": 48,
   "id": "12e3b3d2",
   "metadata": {},
   "outputs": [
    {
     "data": {
      "text/html": [
       "<div>\n",
       "<style scoped>\n",
       "    .dataframe tbody tr th:only-of-type {\n",
       "        vertical-align: middle;\n",
       "    }\n",
       "\n",
       "    .dataframe tbody tr th {\n",
       "        vertical-align: top;\n",
       "    }\n",
       "\n",
       "    .dataframe thead th {\n",
       "        text-align: right;\n",
       "    }\n",
       "</style>\n",
       "<table border=\"1\" class=\"dataframe\">\n",
       "  <thead>\n",
       "    <tr style=\"text-align: right;\">\n",
       "      <th></th>\n",
       "      <th>Date</th>\n",
       "      <th>Temperature</th>\n",
       "      <th>RH</th>\n",
       "      <th>Ws</th>\n",
       "      <th>Rain</th>\n",
       "      <th>FFMC</th>\n",
       "      <th>DMC</th>\n",
       "      <th>DC</th>\n",
       "      <th>ISI</th>\n",
       "      <th>BUI</th>\n",
       "      <th>Classes</th>\n",
       "    </tr>\n",
       "  </thead>\n",
       "  <tbody>\n",
       "    <tr>\n",
       "      <th>0</th>\n",
       "      <td>01/06/2012</td>\n",
       "      <td>18.952399</td>\n",
       "      <td>43.855865</td>\n",
       "      <td>12.292536</td>\n",
       "      <td>-0.340306</td>\n",
       "      <td>73.063752</td>\n",
       "      <td>-2.371083</td>\n",
       "      <td>28.543573</td>\n",
       "      <td>0.487246</td>\n",
       "      <td>6.225461</td>\n",
       "      <td>0</td>\n",
       "    </tr>\n",
       "    <tr>\n",
       "      <th>1</th>\n",
       "      <td>01/06/2012</td>\n",
       "      <td>34.498610</td>\n",
       "      <td>46.230441</td>\n",
       "      <td>14.838211</td>\n",
       "      <td>0.939652</td>\n",
       "      <td>56.027977</td>\n",
       "      <td>0.441002</td>\n",
       "      <td>-10.007636</td>\n",
       "      <td>-1.472158</td>\n",
       "      <td>2.268104</td>\n",
       "      <td>0</td>\n",
       "    </tr>\n",
       "    <tr>\n",
       "      <th>2</th>\n",
       "      <td>02/06/2012</td>\n",
       "      <td>15.258665</td>\n",
       "      <td>57.084279</td>\n",
       "      <td>10.968696</td>\n",
       "      <td>1.397913</td>\n",
       "      <td>33.114404</td>\n",
       "      <td>3.389994</td>\n",
       "      <td>-13.774588</td>\n",
       "      <td>1.338737</td>\n",
       "      <td>-3.327908</td>\n",
       "      <td>0</td>\n",
       "    </tr>\n",
       "    <tr>\n",
       "      <th>3</th>\n",
       "      <td>02/06/2012</td>\n",
       "      <td>24.847936</td>\n",
       "      <td>99.910000</td>\n",
       "      <td>17.924025</td>\n",
       "      <td>3.958666</td>\n",
       "      <td>26.148986</td>\n",
       "      <td>5.179630</td>\n",
       "      <td>-1.392789</td>\n",
       "      <td>-0.755090</td>\n",
       "      <td>0.131303</td>\n",
       "      <td>0</td>\n",
       "    </tr>\n",
       "    <tr>\n",
       "      <th>4</th>\n",
       "      <td>03/06/2012</td>\n",
       "      <td>19.381227</td>\n",
       "      <td>104.398680</td>\n",
       "      <td>23.740540</td>\n",
       "      <td>13.394723</td>\n",
       "      <td>28.658020</td>\n",
       "      <td>-2.247164</td>\n",
       "      <td>-3.432689</td>\n",
       "      <td>0.558249</td>\n",
       "      <td>-1.928471</td>\n",
       "      <td>0</td>\n",
       "    </tr>\n",
       "  </tbody>\n",
       "</table>\n",
       "</div>"
      ],
      "text/plain": [
       "         Date  Temperature          RH         Ws       Rain       FFMC  \\\n",
       "0  01/06/2012    18.952399   43.855865  12.292536  -0.340306  73.063752   \n",
       "1  01/06/2012    34.498610   46.230441  14.838211   0.939652  56.027977   \n",
       "2  02/06/2012    15.258665   57.084279  10.968696   1.397913  33.114404   \n",
       "3  02/06/2012    24.847936   99.910000  17.924025   3.958666  26.148986   \n",
       "4  03/06/2012    19.381227  104.398680  23.740540  13.394723  28.658020   \n",
       "\n",
       "        DMC         DC       ISI       BUI  Classes  \n",
       "0 -2.371083  28.543573  0.487246  6.225461        0  \n",
       "1  0.441002 -10.007636 -1.472158  2.268104        0  \n",
       "2  3.389994 -13.774588  1.338737 -3.327908        0  \n",
       "3  5.179630  -1.392789 -0.755090  0.131303        0  \n",
       "4 -2.247164  -3.432689  0.558249 -1.928471        0  "
      ]
     },
     "execution_count": 48,
     "metadata": {},
     "output_type": "execute_result"
    }
   ],
   "source": [
    "dfex = pd.read_csv('algerian_fires_train.csv')\n",
    "dfex.head()"
   ]
  },
  {
   "cell_type": "markdown",
   "id": "e09ded9a",
   "metadata": {},
   "source": [
    "## Change date from str to date time format"
   ]
  },
  {
   "cell_type": "code",
   "execution_count": 49,
   "id": "e13fa725",
   "metadata": {},
   "outputs": [],
   "source": [
    "dfex['Date']=pd.to_datetime(dfex['Date'],dayfirst=True)"
   ]
  },
  {
   "cell_type": "markdown",
   "id": "a27818cc",
   "metadata": {},
   "source": [
    "## Augmenting Features"
   ]
  },
  {
   "cell_type": "markdown",
   "id": "fe653f6f",
   "metadata": {},
   "source": [
    "I am going to take the Average, Max, Min, Median and Standard deviation of Temperature,Humidity,Wind Speed and Rain over the past 7 days, 5 days and 2 days and add them to dataset. So in total including date column, **D' = 10+(3.4.4) = 58 features**.\n",
    "\n",
    "The basic thumb rule is **N > (3 - 10 ) * D+1**. So according to this as N = 184, the range for D is from **17 - 61** features. D' = 58 features falls in this range so we can train the entire expanded feature set. But we will later do feature selection."
   ]
  },
  {
   "cell_type": "code",
   "execution_count": 50,
   "id": "2c8cf95e",
   "metadata": {
    "scrolled": true
   },
   "outputs": [],
   "source": [
    "def fea_exp(dfex):\n",
    "    for j in [7,5,2]:\n",
    "\n",
    "        dfex[f'Avg Temperature - {j}'] = np.zeros(len(dfex))\n",
    "        dfex[f'Avg RH - {j}'] = np.zeros(len(dfex))\n",
    "        dfex[f'Avg Ws - {j}'] = np.zeros(len(dfex))\n",
    "        dfex[f'Avg Rain - {j}'] = np.zeros(len(dfex))\n",
    "\n",
    "        dfex[f'Max Temperature - {j}'] = np.zeros(len(dfex))\n",
    "        dfex[f'Max RH - {j}'] = np.zeros(len(dfex))\n",
    "        dfex[f'Max Ws - {j}'] = np.zeros(len(dfex))\n",
    "        dfex[f'Max Rain - {j}'] = np.zeros(len(dfex))\n",
    "\n",
    "        dfex[f'Min Temperature - {j}'] = np.zeros(len(dfex))\n",
    "        dfex[f'Min RH - {j}'] = np.zeros(len(dfex))\n",
    "        dfex[f'Min Ws - {j}'] = np.zeros(len(dfex))\n",
    "        dfex[f'Min Rain - {j}'] = np.zeros(len(dfex))\n",
    "\n",
    "        dfex[f'Median Temperature - {j}'] = np.zeros(len(dfex))\n",
    "        dfex[f'Median RH - {j}'] = np.zeros(len(dfex))\n",
    "        dfex[f'Median Ws - {j}'] = np.zeros(len(dfex))\n",
    "        dfex[f'Median Rain - {j}'] = np.zeros(len(dfex))\n",
    "\n",
    "        for i in range(len(dfex)):\n",
    "\n",
    "            data = dfex[(dfex['Date']>=dfex['Date'][i]-pd.Timedelta(days=j)) & (dfex['Date']<dfex['Date'][i])]\n",
    "            dfex[f'Avg Temperature - {j}'][i] = data['Temperature'].mean()\n",
    "            dfex[f'Avg RH - {j}'][i] = data['RH'].mean()\n",
    "            dfex[f'Avg Ws - {j}'][i] = data['Ws'].mean()\n",
    "            dfex[f'Avg Rain - {j}'][i] = data['Rain'].mean()\n",
    "\n",
    "            dfex[f'Max Temperature - {j}'][i] = data['Temperature'].max()\n",
    "            dfex[f'Max RH - {j}'][i] = data['RH'].max()\n",
    "            dfex[f'Max Ws - {j}'][i] = data['Ws'].max()\n",
    "            dfex[f'Max Rain - {j}'][i] = data['Rain'].max()\n",
    "\n",
    "            dfex[f'Min Temperature - {j}'][i] = data['Temperature'].min()\n",
    "            dfex[f'Min RH - {j}'][i] = data['RH'].min()\n",
    "            dfex[f'Min Ws - {j}'][i] = data['Ws'].min()\n",
    "            dfex[f'Min Rain - {j}'][i] = data['Rain'].min()\n",
    "\n",
    "            dfex[f'Median Temperature - {j}'][i] = data['Temperature'].median()\n",
    "            dfex[f'Median RH - {j}'][i] = data['RH'].median()\n",
    "            dfex[f'Median Ws - {j}'][i] = data['Ws'].median()\n",
    "            dfex[f'Median Rain - {j}'][i] = data['Rain'].median()  \n",
    "    return dfex"
   ]
  },
  {
   "cell_type": "code",
   "execution_count": 51,
   "id": "2269d700",
   "metadata": {},
   "outputs": [],
   "source": [
    "dfex = fea_exp(dfex)"
   ]
  },
  {
   "cell_type": "markdown",
   "id": "1658776e",
   "metadata": {},
   "source": [
    "## Replacing Nan values for the starting values with the mean of that column"
   ]
  },
  {
   "cell_type": "code",
   "execution_count": 52,
   "id": "de46316e",
   "metadata": {},
   "outputs": [
    {
     "data": {
      "text/html": [
       "<div>\n",
       "<style scoped>\n",
       "    .dataframe tbody tr th:only-of-type {\n",
       "        vertical-align: middle;\n",
       "    }\n",
       "\n",
       "    .dataframe tbody tr th {\n",
       "        vertical-align: top;\n",
       "    }\n",
       "\n",
       "    .dataframe thead th {\n",
       "        text-align: right;\n",
       "    }\n",
       "</style>\n",
       "<table border=\"1\" class=\"dataframe\">\n",
       "  <thead>\n",
       "    <tr style=\"text-align: right;\">\n",
       "      <th></th>\n",
       "      <th>ISI</th>\n",
       "      <th>BUI</th>\n",
       "      <th>Classes</th>\n",
       "      <th>Avg Temperature - 7</th>\n",
       "      <th>Avg RH - 7</th>\n",
       "    </tr>\n",
       "  </thead>\n",
       "  <tbody>\n",
       "    <tr>\n",
       "      <th>0</th>\n",
       "      <td>0.487246</td>\n",
       "      <td>6.225461</td>\n",
       "      <td>0</td>\n",
       "      <td>NaN</td>\n",
       "      <td>NaN</td>\n",
       "    </tr>\n",
       "    <tr>\n",
       "      <th>1</th>\n",
       "      <td>-1.472158</td>\n",
       "      <td>2.268104</td>\n",
       "      <td>0</td>\n",
       "      <td>NaN</td>\n",
       "      <td>NaN</td>\n",
       "    </tr>\n",
       "    <tr>\n",
       "      <th>2</th>\n",
       "      <td>1.338737</td>\n",
       "      <td>-3.327908</td>\n",
       "      <td>0</td>\n",
       "      <td>26.725504</td>\n",
       "      <td>45.043153</td>\n",
       "    </tr>\n",
       "    <tr>\n",
       "      <th>3</th>\n",
       "      <td>-0.755090</td>\n",
       "      <td>0.131303</td>\n",
       "      <td>0</td>\n",
       "      <td>26.725504</td>\n",
       "      <td>45.043153</td>\n",
       "    </tr>\n",
       "    <tr>\n",
       "      <th>4</th>\n",
       "      <td>0.558249</td>\n",
       "      <td>-1.928471</td>\n",
       "      <td>0</td>\n",
       "      <td>23.389402</td>\n",
       "      <td>61.770146</td>\n",
       "    </tr>\n",
       "  </tbody>\n",
       "</table>\n",
       "</div>"
      ],
      "text/plain": [
       "        ISI       BUI  Classes  Avg Temperature - 7  Avg RH - 7\n",
       "0  0.487246  6.225461        0                  NaN         NaN\n",
       "1 -1.472158  2.268104        0                  NaN         NaN\n",
       "2  1.338737 -3.327908        0            26.725504   45.043153\n",
       "3 -0.755090  0.131303        0            26.725504   45.043153\n",
       "4  0.558249 -1.928471        0            23.389402   61.770146"
      ]
     },
     "execution_count": 52,
     "metadata": {},
     "output_type": "execute_result"
    }
   ],
   "source": [
    "dfex.iloc[:,8:13].head()"
   ]
  },
  {
   "cell_type": "code",
   "execution_count": 53,
   "id": "df84f5c1",
   "metadata": {},
   "outputs": [],
   "source": [
    "for i in dfex.columns[11:]:\n",
    "    for j in range(2):\n",
    "        dfex[i][j] = dfex[i].mean()"
   ]
  },
  {
   "cell_type": "code",
   "execution_count": 54,
   "id": "62b77065",
   "metadata": {
    "scrolled": true
   },
   "outputs": [
    {
     "data": {
      "text/html": [
       "<div>\n",
       "<style scoped>\n",
       "    .dataframe tbody tr th:only-of-type {\n",
       "        vertical-align: middle;\n",
       "    }\n",
       "\n",
       "    .dataframe tbody tr th {\n",
       "        vertical-align: top;\n",
       "    }\n",
       "\n",
       "    .dataframe thead th {\n",
       "        text-align: right;\n",
       "    }\n",
       "</style>\n",
       "<table border=\"1\" class=\"dataframe\">\n",
       "  <thead>\n",
       "    <tr style=\"text-align: right;\">\n",
       "      <th></th>\n",
       "      <th>ISI</th>\n",
       "      <th>BUI</th>\n",
       "      <th>Classes</th>\n",
       "      <th>Avg Temperature - 7</th>\n",
       "      <th>Avg RH - 7</th>\n",
       "    </tr>\n",
       "  </thead>\n",
       "  <tbody>\n",
       "    <tr>\n",
       "      <th>0</th>\n",
       "      <td>0.487246</td>\n",
       "      <td>6.225461</td>\n",
       "      <td>0</td>\n",
       "      <td>32.773747</td>\n",
       "      <td>60.305950</td>\n",
       "    </tr>\n",
       "    <tr>\n",
       "      <th>1</th>\n",
       "      <td>-1.472158</td>\n",
       "      <td>2.268104</td>\n",
       "      <td>0</td>\n",
       "      <td>32.773747</td>\n",
       "      <td>60.305950</td>\n",
       "    </tr>\n",
       "    <tr>\n",
       "      <th>2</th>\n",
       "      <td>1.338737</td>\n",
       "      <td>-3.327908</td>\n",
       "      <td>0</td>\n",
       "      <td>26.725504</td>\n",
       "      <td>45.043153</td>\n",
       "    </tr>\n",
       "    <tr>\n",
       "      <th>3</th>\n",
       "      <td>-0.755090</td>\n",
       "      <td>0.131303</td>\n",
       "      <td>0</td>\n",
       "      <td>26.725504</td>\n",
       "      <td>45.043153</td>\n",
       "    </tr>\n",
       "    <tr>\n",
       "      <th>4</th>\n",
       "      <td>0.558249</td>\n",
       "      <td>-1.928471</td>\n",
       "      <td>0</td>\n",
       "      <td>23.389402</td>\n",
       "      <td>61.770146</td>\n",
       "    </tr>\n",
       "  </tbody>\n",
       "</table>\n",
       "</div>"
      ],
      "text/plain": [
       "        ISI       BUI  Classes  Avg Temperature - 7  Avg RH - 7\n",
       "0  0.487246  6.225461        0            32.773747   60.305950\n",
       "1 -1.472158  2.268104        0            32.773747   60.305950\n",
       "2  1.338737 -3.327908        0            26.725504   45.043153\n",
       "3 -0.755090  0.131303        0            26.725504   45.043153\n",
       "4  0.558249 -1.928471        0            23.389402   61.770146"
      ]
     },
     "execution_count": 54,
     "metadata": {},
     "output_type": "execute_result"
    }
   ],
   "source": [
    "dfex.iloc[:,8:13].head()"
   ]
  },
  {
   "cell_type": "markdown",
   "id": "4cee4af1",
   "metadata": {},
   "source": [
    "## ** Removing the last 7 days from train set as it will contain data in the test set **"
   ]
  },
  {
   "cell_type": "markdown",
   "id": "53a03c0d",
   "metadata": {},
   "source": [
    "As 7 days is the maximum we are considering"
   ]
  },
  {
   "cell_type": "code",
   "execution_count": 55,
   "id": "aac64af9",
   "metadata": {},
   "outputs": [
    {
     "data": {
      "text/html": [
       "<div>\n",
       "<style scoped>\n",
       "    .dataframe tbody tr th:only-of-type {\n",
       "        vertical-align: middle;\n",
       "    }\n",
       "\n",
       "    .dataframe tbody tr th {\n",
       "        vertical-align: top;\n",
       "    }\n",
       "\n",
       "    .dataframe thead th {\n",
       "        text-align: right;\n",
       "    }\n",
       "</style>\n",
       "<table border=\"1\" class=\"dataframe\">\n",
       "  <thead>\n",
       "    <tr style=\"text-align: right;\">\n",
       "      <th></th>\n",
       "      <th>Date</th>\n",
       "      <th>Temperature</th>\n",
       "      <th>RH</th>\n",
       "      <th>Ws</th>\n",
       "      <th>Rain</th>\n",
       "      <th>FFMC</th>\n",
       "      <th>DMC</th>\n",
       "      <th>DC</th>\n",
       "      <th>ISI</th>\n",
       "      <th>BUI</th>\n",
       "      <th>...</th>\n",
       "      <th>Max Ws - 2</th>\n",
       "      <th>Max Rain - 2</th>\n",
       "      <th>Min Temperature - 2</th>\n",
       "      <th>Min RH - 2</th>\n",
       "      <th>Min Ws - 2</th>\n",
       "      <th>Min Rain - 2</th>\n",
       "      <th>Median Temperature - 2</th>\n",
       "      <th>Median RH - 2</th>\n",
       "      <th>Median Ws - 2</th>\n",
       "      <th>Median Rain - 2</th>\n",
       "    </tr>\n",
       "  </thead>\n",
       "  <tbody>\n",
       "    <tr>\n",
       "      <th>179</th>\n",
       "      <td>2012-08-29</td>\n",
       "      <td>28.449213</td>\n",
       "      <td>57.127011</td>\n",
       "      <td>15.195444</td>\n",
       "      <td>-0.161958</td>\n",
       "      <td>71.450733</td>\n",
       "      <td>57.128627</td>\n",
       "      <td>239.290670</td>\n",
       "      <td>11.267031</td>\n",
       "      <td>68.680725</td>\n",
       "      <td>...</td>\n",
       "      <td>25.236657</td>\n",
       "      <td>0.441210</td>\n",
       "      <td>25.427053</td>\n",
       "      <td>33.537444</td>\n",
       "      <td>7.323591</td>\n",
       "      <td>-0.052653</td>\n",
       "      <td>32.267581</td>\n",
       "      <td>50.071274</td>\n",
       "      <td>14.046092</td>\n",
       "      <td>0.302474</td>\n",
       "    </tr>\n",
       "    <tr>\n",
       "      <th>180</th>\n",
       "      <td>2012-08-30</td>\n",
       "      <td>26.680911</td>\n",
       "      <td>73.619431</td>\n",
       "      <td>17.054505</td>\n",
       "      <td>0.127765</td>\n",
       "      <td>61.231373</td>\n",
       "      <td>18.986399</td>\n",
       "      <td>170.968390</td>\n",
       "      <td>9.496533</td>\n",
       "      <td>39.281865</td>\n",
       "      <td>...</td>\n",
       "      <td>18.919395</td>\n",
       "      <td>0.704918</td>\n",
       "      <td>25.427053</td>\n",
       "      <td>33.537444</td>\n",
       "      <td>9.172789</td>\n",
       "      <td>-0.161958</td>\n",
       "      <td>32.908271</td>\n",
       "      <td>49.187007</td>\n",
       "      <td>14.028106</td>\n",
       "      <td>0.194279</td>\n",
       "    </tr>\n",
       "    <tr>\n",
       "      <th>181</th>\n",
       "      <td>2012-08-30</td>\n",
       "      <td>44.750966</td>\n",
       "      <td>58.428753</td>\n",
       "      <td>21.687939</td>\n",
       "      <td>0.995222</td>\n",
       "      <td>62.921683</td>\n",
       "      <td>27.594857</td>\n",
       "      <td>176.118476</td>\n",
       "      <td>-0.271474</td>\n",
       "      <td>30.340267</td>\n",
       "      <td>...</td>\n",
       "      <td>18.919395</td>\n",
       "      <td>0.704918</td>\n",
       "      <td>25.427053</td>\n",
       "      <td>33.537444</td>\n",
       "      <td>9.172789</td>\n",
       "      <td>-0.161958</td>\n",
       "      <td>32.908271</td>\n",
       "      <td>49.187007</td>\n",
       "      <td>14.028106</td>\n",
       "      <td>0.194279</td>\n",
       "    </tr>\n",
       "    <tr>\n",
       "      <th>182</th>\n",
       "      <td>2012-08-31</td>\n",
       "      <td>33.298270</td>\n",
       "      <td>79.558329</td>\n",
       "      <td>20.464269</td>\n",
       "      <td>17.019373</td>\n",
       "      <td>47.242905</td>\n",
       "      <td>6.039570</td>\n",
       "      <td>-11.298033</td>\n",
       "      <td>0.035798</td>\n",
       "      <td>4.744741</td>\n",
       "      <td>...</td>\n",
       "      <td>21.687939</td>\n",
       "      <td>0.995222</td>\n",
       "      <td>26.680911</td>\n",
       "      <td>42.920337</td>\n",
       "      <td>12.860767</td>\n",
       "      <td>-0.161958</td>\n",
       "      <td>32.908271</td>\n",
       "      <td>57.777882</td>\n",
       "      <td>16.124974</td>\n",
       "      <td>0.416342</td>\n",
       "    </tr>\n",
       "    <tr>\n",
       "      <th>183</th>\n",
       "      <td>2012-08-31</td>\n",
       "      <td>32.762295</td>\n",
       "      <td>84.322685</td>\n",
       "      <td>21.653932</td>\n",
       "      <td>-0.213253</td>\n",
       "      <td>67.294270</td>\n",
       "      <td>33.599199</td>\n",
       "      <td>165.945211</td>\n",
       "      <td>10.440299</td>\n",
       "      <td>35.986552</td>\n",
       "      <td>...</td>\n",
       "      <td>21.687939</td>\n",
       "      <td>0.995222</td>\n",
       "      <td>26.680911</td>\n",
       "      <td>42.920337</td>\n",
       "      <td>12.860767</td>\n",
       "      <td>-0.161958</td>\n",
       "      <td>32.908271</td>\n",
       "      <td>57.777882</td>\n",
       "      <td>16.124974</td>\n",
       "      <td>0.416342</td>\n",
       "    </tr>\n",
       "  </tbody>\n",
       "</table>\n",
       "<p>5 rows × 59 columns</p>\n",
       "</div>"
      ],
      "text/plain": [
       "          Date  Temperature         RH         Ws       Rain       FFMC  \\\n",
       "179 2012-08-29    28.449213  57.127011  15.195444  -0.161958  71.450733   \n",
       "180 2012-08-30    26.680911  73.619431  17.054505   0.127765  61.231373   \n",
       "181 2012-08-30    44.750966  58.428753  21.687939   0.995222  62.921683   \n",
       "182 2012-08-31    33.298270  79.558329  20.464269  17.019373  47.242905   \n",
       "183 2012-08-31    32.762295  84.322685  21.653932  -0.213253  67.294270   \n",
       "\n",
       "           DMC          DC        ISI        BUI  ...  Max Ws - 2  \\\n",
       "179  57.128627  239.290670  11.267031  68.680725  ...   25.236657   \n",
       "180  18.986399  170.968390   9.496533  39.281865  ...   18.919395   \n",
       "181  27.594857  176.118476  -0.271474  30.340267  ...   18.919395   \n",
       "182   6.039570  -11.298033   0.035798   4.744741  ...   21.687939   \n",
       "183  33.599199  165.945211  10.440299  35.986552  ...   21.687939   \n",
       "\n",
       "     Max Rain - 2  Min Temperature - 2  Min RH - 2  Min Ws - 2  Min Rain - 2  \\\n",
       "179      0.441210            25.427053   33.537444    7.323591     -0.052653   \n",
       "180      0.704918            25.427053   33.537444    9.172789     -0.161958   \n",
       "181      0.704918            25.427053   33.537444    9.172789     -0.161958   \n",
       "182      0.995222            26.680911   42.920337   12.860767     -0.161958   \n",
       "183      0.995222            26.680911   42.920337   12.860767     -0.161958   \n",
       "\n",
       "     Median Temperature - 2  Median RH - 2  Median Ws - 2  Median Rain - 2  \n",
       "179               32.267581      50.071274      14.046092         0.302474  \n",
       "180               32.908271      49.187007      14.028106         0.194279  \n",
       "181               32.908271      49.187007      14.028106         0.194279  \n",
       "182               32.908271      57.777882      16.124974         0.416342  \n",
       "183               32.908271      57.777882      16.124974         0.416342  \n",
       "\n",
       "[5 rows x 59 columns]"
      ]
     },
     "execution_count": 55,
     "metadata": {},
     "output_type": "execute_result"
    }
   ],
   "source": [
    "dfex.tail()"
   ]
  },
  {
   "cell_type": "code",
   "execution_count": 56,
   "id": "5a95790b",
   "metadata": {},
   "outputs": [],
   "source": [
    "dfex = dfex[dfex['Date']<(dfex['Date'][len(dfex)-1]-pd.Timedelta(days=7))]"
   ]
  },
  {
   "cell_type": "markdown",
   "id": "2d6a2963",
   "metadata": {},
   "source": [
    "Checking if the last 7 days are removed"
   ]
  },
  {
   "cell_type": "code",
   "execution_count": 57,
   "id": "a5933b9b",
   "metadata": {},
   "outputs": [
    {
     "data": {
      "text/html": [
       "<div>\n",
       "<style scoped>\n",
       "    .dataframe tbody tr th:only-of-type {\n",
       "        vertical-align: middle;\n",
       "    }\n",
       "\n",
       "    .dataframe tbody tr th {\n",
       "        vertical-align: top;\n",
       "    }\n",
       "\n",
       "    .dataframe thead th {\n",
       "        text-align: right;\n",
       "    }\n",
       "</style>\n",
       "<table border=\"1\" class=\"dataframe\">\n",
       "  <thead>\n",
       "    <tr style=\"text-align: right;\">\n",
       "      <th></th>\n",
       "      <th>Date</th>\n",
       "      <th>Temperature</th>\n",
       "      <th>RH</th>\n",
       "      <th>Ws</th>\n",
       "      <th>Rain</th>\n",
       "      <th>FFMC</th>\n",
       "      <th>DMC</th>\n",
       "      <th>DC</th>\n",
       "      <th>ISI</th>\n",
       "      <th>BUI</th>\n",
       "      <th>...</th>\n",
       "      <th>Max Ws - 2</th>\n",
       "      <th>Max Rain - 2</th>\n",
       "      <th>Min Temperature - 2</th>\n",
       "      <th>Min RH - 2</th>\n",
       "      <th>Min Ws - 2</th>\n",
       "      <th>Min Rain - 2</th>\n",
       "      <th>Median Temperature - 2</th>\n",
       "      <th>Median RH - 2</th>\n",
       "      <th>Median Ws - 2</th>\n",
       "      <th>Median Rain - 2</th>\n",
       "    </tr>\n",
       "  </thead>\n",
       "  <tbody>\n",
       "    <tr>\n",
       "      <th>163</th>\n",
       "      <td>2012-08-21</td>\n",
       "      <td>38.974406</td>\n",
       "      <td>38.708515</td>\n",
       "      <td>21.078248</td>\n",
       "      <td>-0.196080</td>\n",
       "      <td>114.270824</td>\n",
       "      <td>28.324008</td>\n",
       "      <td>156.279593</td>\n",
       "      <td>9.850906</td>\n",
       "      <td>36.338345</td>\n",
       "      <td>...</td>\n",
       "      <td>25.719072</td>\n",
       "      <td>0.216639</td>\n",
       "      <td>29.276266</td>\n",
       "      <td>37.988082</td>\n",
       "      <td>16.775674</td>\n",
       "      <td>-0.278088</td>\n",
       "      <td>36.558474</td>\n",
       "      <td>46.510156</td>\n",
       "      <td>20.237203</td>\n",
       "      <td>0.184716</td>\n",
       "    </tr>\n",
       "    <tr>\n",
       "      <th>164</th>\n",
       "      <td>2012-08-22</td>\n",
       "      <td>30.896242</td>\n",
       "      <td>48.836994</td>\n",
       "      <td>20.114324</td>\n",
       "      <td>0.278984</td>\n",
       "      <td>91.425389</td>\n",
       "      <td>37.232181</td>\n",
       "      <td>114.531143</td>\n",
       "      <td>6.745771</td>\n",
       "      <td>41.499593</td>\n",
       "      <td>...</td>\n",
       "      <td>25.719072</td>\n",
       "      <td>0.164612</td>\n",
       "      <td>22.306773</td>\n",
       "      <td>38.708515</td>\n",
       "      <td>16.775674</td>\n",
       "      <td>-0.278088</td>\n",
       "      <td>34.794234</td>\n",
       "      <td>53.520168</td>\n",
       "      <td>18.980650</td>\n",
       "      <td>-0.044174</td>\n",
       "    </tr>\n",
       "    <tr>\n",
       "      <th>165</th>\n",
       "      <td>2012-08-22</td>\n",
       "      <td>39.904877</td>\n",
       "      <td>62.449343</td>\n",
       "      <td>11.446256</td>\n",
       "      <td>0.033836</td>\n",
       "      <td>91.196227</td>\n",
       "      <td>34.722303</td>\n",
       "      <td>142.729175</td>\n",
       "      <td>9.831573</td>\n",
       "      <td>39.743423</td>\n",
       "      <td>...</td>\n",
       "      <td>25.719072</td>\n",
       "      <td>0.164612</td>\n",
       "      <td>22.306773</td>\n",
       "      <td>38.708515</td>\n",
       "      <td>16.775674</td>\n",
       "      <td>-0.278088</td>\n",
       "      <td>34.794234</td>\n",
       "      <td>53.520168</td>\n",
       "      <td>18.980650</td>\n",
       "      <td>-0.044174</td>\n",
       "    </tr>\n",
       "    <tr>\n",
       "      <th>166</th>\n",
       "      <td>2012-08-23</td>\n",
       "      <td>48.038777</td>\n",
       "      <td>63.133020</td>\n",
       "      <td>16.675465</td>\n",
       "      <td>-0.333441</td>\n",
       "      <td>104.399432</td>\n",
       "      <td>48.922137</td>\n",
       "      <td>144.539130</td>\n",
       "      <td>9.747095</td>\n",
       "      <td>53.349689</td>\n",
       "      <td>...</td>\n",
       "      <td>21.078248</td>\n",
       "      <td>0.278984</td>\n",
       "      <td>22.306773</td>\n",
       "      <td>38.708515</td>\n",
       "      <td>11.446256</td>\n",
       "      <td>-0.196080</td>\n",
       "      <td>34.935324</td>\n",
       "      <td>55.643169</td>\n",
       "      <td>18.498688</td>\n",
       "      <td>0.070785</td>\n",
       "    </tr>\n",
       "    <tr>\n",
       "      <th>167</th>\n",
       "      <td>2012-08-23</td>\n",
       "      <td>39.287463</td>\n",
       "      <td>54.760134</td>\n",
       "      <td>18.612077</td>\n",
       "      <td>0.320175</td>\n",
       "      <td>86.555473</td>\n",
       "      <td>33.090678</td>\n",
       "      <td>144.795556</td>\n",
       "      <td>8.520974</td>\n",
       "      <td>43.813670</td>\n",
       "      <td>...</td>\n",
       "      <td>21.078248</td>\n",
       "      <td>0.278984</td>\n",
       "      <td>22.306773</td>\n",
       "      <td>38.708515</td>\n",
       "      <td>11.446256</td>\n",
       "      <td>-0.196080</td>\n",
       "      <td>34.935324</td>\n",
       "      <td>55.643169</td>\n",
       "      <td>18.498688</td>\n",
       "      <td>0.070785</td>\n",
       "    </tr>\n",
       "  </tbody>\n",
       "</table>\n",
       "<p>5 rows × 59 columns</p>\n",
       "</div>"
      ],
      "text/plain": [
       "          Date  Temperature         RH         Ws      Rain        FFMC  \\\n",
       "163 2012-08-21    38.974406  38.708515  21.078248 -0.196080  114.270824   \n",
       "164 2012-08-22    30.896242  48.836994  20.114324  0.278984   91.425389   \n",
       "165 2012-08-22    39.904877  62.449343  11.446256  0.033836   91.196227   \n",
       "166 2012-08-23    48.038777  63.133020  16.675465 -0.333441  104.399432   \n",
       "167 2012-08-23    39.287463  54.760134  18.612077  0.320175   86.555473   \n",
       "\n",
       "           DMC          DC       ISI        BUI  ...  Max Ws - 2  \\\n",
       "163  28.324008  156.279593  9.850906  36.338345  ...   25.719072   \n",
       "164  37.232181  114.531143  6.745771  41.499593  ...   25.719072   \n",
       "165  34.722303  142.729175  9.831573  39.743423  ...   25.719072   \n",
       "166  48.922137  144.539130  9.747095  53.349689  ...   21.078248   \n",
       "167  33.090678  144.795556  8.520974  43.813670  ...   21.078248   \n",
       "\n",
       "     Max Rain - 2  Min Temperature - 2  Min RH - 2  Min Ws - 2  Min Rain - 2  \\\n",
       "163      0.216639            29.276266   37.988082   16.775674     -0.278088   \n",
       "164      0.164612            22.306773   38.708515   16.775674     -0.278088   \n",
       "165      0.164612            22.306773   38.708515   16.775674     -0.278088   \n",
       "166      0.278984            22.306773   38.708515   11.446256     -0.196080   \n",
       "167      0.278984            22.306773   38.708515   11.446256     -0.196080   \n",
       "\n",
       "     Median Temperature - 2  Median RH - 2  Median Ws - 2  Median Rain - 2  \n",
       "163               36.558474      46.510156      20.237203         0.184716  \n",
       "164               34.794234      53.520168      18.980650        -0.044174  \n",
       "165               34.794234      53.520168      18.980650        -0.044174  \n",
       "166               34.935324      55.643169      18.498688         0.070785  \n",
       "167               34.935324      55.643169      18.498688         0.070785  \n",
       "\n",
       "[5 rows x 59 columns]"
      ]
     },
     "execution_count": 57,
     "metadata": {},
     "output_type": "execute_result"
    }
   ],
   "source": [
    "dfex.tail()"
   ]
  },
  {
   "cell_type": "markdown",
   "id": "83b93f3c",
   "metadata": {},
   "source": [
    "## Entire process is repeated for the test set"
   ]
  },
  {
   "cell_type": "code",
   "execution_count": 58,
   "id": "28daf1b6",
   "metadata": {
    "scrolled": true
   },
   "outputs": [
    {
     "data": {
      "text/html": [
       "<div>\n",
       "<style scoped>\n",
       "    .dataframe tbody tr th:only-of-type {\n",
       "        vertical-align: middle;\n",
       "    }\n",
       "\n",
       "    .dataframe tbody tr th {\n",
       "        vertical-align: top;\n",
       "    }\n",
       "\n",
       "    .dataframe thead th {\n",
       "        text-align: right;\n",
       "    }\n",
       "</style>\n",
       "<table border=\"1\" class=\"dataframe\">\n",
       "  <thead>\n",
       "    <tr style=\"text-align: right;\">\n",
       "      <th></th>\n",
       "      <th>Date</th>\n",
       "      <th>Temperature</th>\n",
       "      <th>RH</th>\n",
       "      <th>Ws</th>\n",
       "      <th>Rain</th>\n",
       "      <th>FFMC</th>\n",
       "      <th>DMC</th>\n",
       "      <th>DC</th>\n",
       "      <th>ISI</th>\n",
       "      <th>BUI</th>\n",
       "      <th>Classes</th>\n",
       "    </tr>\n",
       "  </thead>\n",
       "  <tbody>\n",
       "    <tr>\n",
       "      <th>0</th>\n",
       "      <td>2012-09-01</td>\n",
       "      <td>15.861392</td>\n",
       "      <td>103.083493</td>\n",
       "      <td>23.929982</td>\n",
       "      <td>6.862311</td>\n",
       "      <td>18.206803</td>\n",
       "      <td>6.705575</td>\n",
       "      <td>16.934059</td>\n",
       "      <td>1.272175</td>\n",
       "      <td>1.567136</td>\n",
       "      <td>0</td>\n",
       "    </tr>\n",
       "    <tr>\n",
       "      <th>1</th>\n",
       "      <td>2012-09-01</td>\n",
       "      <td>25.127811</td>\n",
       "      <td>85.095686</td>\n",
       "      <td>16.066414</td>\n",
       "      <td>-0.332408</td>\n",
       "      <td>36.300922</td>\n",
       "      <td>4.307622</td>\n",
       "      <td>-8.813586</td>\n",
       "      <td>-1.707135</td>\n",
       "      <td>-2.167708</td>\n",
       "      <td>0</td>\n",
       "    </tr>\n",
       "    <tr>\n",
       "      <th>2</th>\n",
       "      <td>2012-09-02</td>\n",
       "      <td>25.804539</td>\n",
       "      <td>112.848312</td>\n",
       "      <td>8.603607</td>\n",
       "      <td>10.148430</td>\n",
       "      <td>32.909853</td>\n",
       "      <td>-3.989974</td>\n",
       "      <td>12.276834</td>\n",
       "      <td>0.886849</td>\n",
       "      <td>5.108220</td>\n",
       "      <td>0</td>\n",
       "    </tr>\n",
       "    <tr>\n",
       "      <th>3</th>\n",
       "      <td>2012-09-02</td>\n",
       "      <td>39.157179</td>\n",
       "      <td>40.359214</td>\n",
       "      <td>13.347197</td>\n",
       "      <td>-0.050950</td>\n",
       "      <td>101.833950</td>\n",
       "      <td>4.923229</td>\n",
       "      <td>17.509484</td>\n",
       "      <td>1.000106</td>\n",
       "      <td>1.990220</td>\n",
       "      <td>0</td>\n",
       "    </tr>\n",
       "    <tr>\n",
       "      <th>4</th>\n",
       "      <td>2012-09-03</td>\n",
       "      <td>14.943534</td>\n",
       "      <td>51.887200</td>\n",
       "      <td>14.976143</td>\n",
       "      <td>3.910505</td>\n",
       "      <td>66.608357</td>\n",
       "      <td>0.628217</td>\n",
       "      <td>17.332474</td>\n",
       "      <td>-1.773158</td>\n",
       "      <td>9.083053</td>\n",
       "      <td>0</td>\n",
       "    </tr>\n",
       "  </tbody>\n",
       "</table>\n",
       "</div>"
      ],
      "text/plain": [
       "        Date  Temperature          RH         Ws       Rain        FFMC  \\\n",
       "0 2012-09-01    15.861392  103.083493  23.929982   6.862311   18.206803   \n",
       "1 2012-09-01    25.127811   85.095686  16.066414  -0.332408   36.300922   \n",
       "2 2012-09-02    25.804539  112.848312   8.603607  10.148430   32.909853   \n",
       "3 2012-09-02    39.157179   40.359214  13.347197  -0.050950  101.833950   \n",
       "4 2012-09-03    14.943534   51.887200  14.976143   3.910505   66.608357   \n",
       "\n",
       "        DMC         DC       ISI       BUI  Classes  \n",
       "0  6.705575  16.934059  1.272175  1.567136        0  \n",
       "1  4.307622  -8.813586 -1.707135 -2.167708        0  \n",
       "2 -3.989974  12.276834  0.886849  5.108220        0  \n",
       "3  4.923229  17.509484  1.000106  1.990220        0  \n",
       "4  0.628217  17.332474 -1.773158  9.083053        0  "
      ]
     },
     "execution_count": 58,
     "metadata": {},
     "output_type": "execute_result"
    }
   ],
   "source": [
    "dfext = pd.read_csv('algerian_fires_test.csv')\n",
    "dfext['Date']=pd.to_datetime(dfext['Date'],dayfirst=True)\n",
    "dfext.head()"
   ]
  },
  {
   "cell_type": "code",
   "execution_count": 59,
   "id": "c8a55e46",
   "metadata": {},
   "outputs": [],
   "source": [
    "dfext = fea_exp(dfext)"
   ]
  },
  {
   "cell_type": "code",
   "execution_count": 60,
   "id": "a70c7366",
   "metadata": {},
   "outputs": [
    {
     "data": {
      "text/html": [
       "<div>\n",
       "<style scoped>\n",
       "    .dataframe tbody tr th:only-of-type {\n",
       "        vertical-align: middle;\n",
       "    }\n",
       "\n",
       "    .dataframe tbody tr th {\n",
       "        vertical-align: top;\n",
       "    }\n",
       "\n",
       "    .dataframe thead th {\n",
       "        text-align: right;\n",
       "    }\n",
       "</style>\n",
       "<table border=\"1\" class=\"dataframe\">\n",
       "  <thead>\n",
       "    <tr style=\"text-align: right;\">\n",
       "      <th></th>\n",
       "      <th>ISI</th>\n",
       "      <th>BUI</th>\n",
       "      <th>Classes</th>\n",
       "      <th>Avg Temperature - 7</th>\n",
       "      <th>Avg RH - 7</th>\n",
       "    </tr>\n",
       "  </thead>\n",
       "  <tbody>\n",
       "    <tr>\n",
       "      <th>0</th>\n",
       "      <td>1.272175</td>\n",
       "      <td>1.567136</td>\n",
       "      <td>0</td>\n",
       "      <td>NaN</td>\n",
       "      <td>NaN</td>\n",
       "    </tr>\n",
       "    <tr>\n",
       "      <th>1</th>\n",
       "      <td>-1.707135</td>\n",
       "      <td>-2.167708</td>\n",
       "      <td>0</td>\n",
       "      <td>NaN</td>\n",
       "      <td>NaN</td>\n",
       "    </tr>\n",
       "    <tr>\n",
       "      <th>2</th>\n",
       "      <td>0.886849</td>\n",
       "      <td>5.108220</td>\n",
       "      <td>0</td>\n",
       "      <td>20.494601</td>\n",
       "      <td>94.089590</td>\n",
       "    </tr>\n",
       "    <tr>\n",
       "      <th>3</th>\n",
       "      <td>1.000106</td>\n",
       "      <td>1.990220</td>\n",
       "      <td>0</td>\n",
       "      <td>20.494601</td>\n",
       "      <td>94.089590</td>\n",
       "    </tr>\n",
       "    <tr>\n",
       "      <th>4</th>\n",
       "      <td>-1.773158</td>\n",
       "      <td>9.083053</td>\n",
       "      <td>0</td>\n",
       "      <td>26.487730</td>\n",
       "      <td>85.346677</td>\n",
       "    </tr>\n",
       "  </tbody>\n",
       "</table>\n",
       "</div>"
      ],
      "text/plain": [
       "        ISI       BUI  Classes  Avg Temperature - 7  Avg RH - 7\n",
       "0  1.272175  1.567136        0                  NaN         NaN\n",
       "1 -1.707135 -2.167708        0                  NaN         NaN\n",
       "2  0.886849  5.108220        0            20.494601   94.089590\n",
       "3  1.000106  1.990220        0            20.494601   94.089590\n",
       "4 -1.773158  9.083053        0            26.487730   85.346677"
      ]
     },
     "execution_count": 60,
     "metadata": {},
     "output_type": "execute_result"
    }
   ],
   "source": [
    "dfext.iloc[:,8:13].head()"
   ]
  },
  {
   "cell_type": "code",
   "execution_count": 61,
   "id": "75311fcd",
   "metadata": {},
   "outputs": [],
   "source": [
    "for i in dfext.columns[11:]:\n",
    "    for j in range(2):\n",
    "        dfext[i][j] = dfext[i].mean()"
   ]
  },
  {
   "cell_type": "code",
   "execution_count": 62,
   "id": "2c773008",
   "metadata": {},
   "outputs": [
    {
     "data": {
      "text/html": [
       "<div>\n",
       "<style scoped>\n",
       "    .dataframe tbody tr th:only-of-type {\n",
       "        vertical-align: middle;\n",
       "    }\n",
       "\n",
       "    .dataframe tbody tr th {\n",
       "        vertical-align: top;\n",
       "    }\n",
       "\n",
       "    .dataframe thead th {\n",
       "        text-align: right;\n",
       "    }\n",
       "</style>\n",
       "<table border=\"1\" class=\"dataframe\">\n",
       "  <thead>\n",
       "    <tr style=\"text-align: right;\">\n",
       "      <th></th>\n",
       "      <th>Date</th>\n",
       "      <th>Temperature</th>\n",
       "      <th>RH</th>\n",
       "      <th>Ws</th>\n",
       "      <th>Rain</th>\n",
       "      <th>FFMC</th>\n",
       "      <th>DMC</th>\n",
       "      <th>DC</th>\n",
       "      <th>ISI</th>\n",
       "      <th>BUI</th>\n",
       "      <th>...</th>\n",
       "      <th>Max Ws - 2</th>\n",
       "      <th>Max Rain - 2</th>\n",
       "      <th>Min Temperature - 2</th>\n",
       "      <th>Min RH - 2</th>\n",
       "      <th>Min Ws - 2</th>\n",
       "      <th>Min Rain - 2</th>\n",
       "      <th>Median Temperature - 2</th>\n",
       "      <th>Median RH - 2</th>\n",
       "      <th>Median Ws - 2</th>\n",
       "      <th>Median Rain - 2</th>\n",
       "    </tr>\n",
       "  </thead>\n",
       "  <tbody>\n",
       "    <tr>\n",
       "      <th>0</th>\n",
       "      <td>2012-09-01</td>\n",
       "      <td>15.861392</td>\n",
       "      <td>103.083493</td>\n",
       "      <td>23.929982</td>\n",
       "      <td>6.862311</td>\n",
       "      <td>18.206803</td>\n",
       "      <td>6.705575</td>\n",
       "      <td>16.934059</td>\n",
       "      <td>1.272175</td>\n",
       "      <td>1.567136</td>\n",
       "      <td>...</td>\n",
       "      <td>21.621763</td>\n",
       "      <td>3.600236</td>\n",
       "      <td>20.095227</td>\n",
       "      <td>46.306863</td>\n",
       "      <td>10.720009</td>\n",
       "      <td>-0.131692</td>\n",
       "      <td>31.296135</td>\n",
       "      <td>64.904185</td>\n",
       "      <td>15.745523</td>\n",
       "      <td>0.751244</td>\n",
       "    </tr>\n",
       "    <tr>\n",
       "      <th>1</th>\n",
       "      <td>2012-09-01</td>\n",
       "      <td>25.127811</td>\n",
       "      <td>85.095686</td>\n",
       "      <td>16.066414</td>\n",
       "      <td>-0.332408</td>\n",
       "      <td>36.300922</td>\n",
       "      <td>4.307622</td>\n",
       "      <td>-8.813586</td>\n",
       "      <td>-1.707135</td>\n",
       "      <td>-2.167708</td>\n",
       "      <td>...</td>\n",
       "      <td>21.621763</td>\n",
       "      <td>3.600236</td>\n",
       "      <td>20.095227</td>\n",
       "      <td>46.306863</td>\n",
       "      <td>10.720009</td>\n",
       "      <td>-0.131692</td>\n",
       "      <td>31.296135</td>\n",
       "      <td>64.904185</td>\n",
       "      <td>15.745523</td>\n",
       "      <td>0.751244</td>\n",
       "    </tr>\n",
       "    <tr>\n",
       "      <th>2</th>\n",
       "      <td>2012-09-02</td>\n",
       "      <td>25.804539</td>\n",
       "      <td>112.848312</td>\n",
       "      <td>8.603607</td>\n",
       "      <td>10.148430</td>\n",
       "      <td>32.909853</td>\n",
       "      <td>-3.989974</td>\n",
       "      <td>12.276834</td>\n",
       "      <td>0.886849</td>\n",
       "      <td>5.108220</td>\n",
       "      <td>...</td>\n",
       "      <td>23.929982</td>\n",
       "      <td>6.862311</td>\n",
       "      <td>15.861392</td>\n",
       "      <td>85.095686</td>\n",
       "      <td>16.066414</td>\n",
       "      <td>-0.332408</td>\n",
       "      <td>20.494601</td>\n",
       "      <td>94.089590</td>\n",
       "      <td>19.998198</td>\n",
       "      <td>3.264951</td>\n",
       "    </tr>\n",
       "    <tr>\n",
       "      <th>3</th>\n",
       "      <td>2012-09-02</td>\n",
       "      <td>39.157179</td>\n",
       "      <td>40.359214</td>\n",
       "      <td>13.347197</td>\n",
       "      <td>-0.050950</td>\n",
       "      <td>101.833950</td>\n",
       "      <td>4.923229</td>\n",
       "      <td>17.509484</td>\n",
       "      <td>1.000106</td>\n",
       "      <td>1.990220</td>\n",
       "      <td>...</td>\n",
       "      <td>23.929982</td>\n",
       "      <td>6.862311</td>\n",
       "      <td>15.861392</td>\n",
       "      <td>85.095686</td>\n",
       "      <td>16.066414</td>\n",
       "      <td>-0.332408</td>\n",
       "      <td>20.494601</td>\n",
       "      <td>94.089590</td>\n",
       "      <td>19.998198</td>\n",
       "      <td>3.264951</td>\n",
       "    </tr>\n",
       "    <tr>\n",
       "      <th>4</th>\n",
       "      <td>2012-09-03</td>\n",
       "      <td>14.943534</td>\n",
       "      <td>51.887200</td>\n",
       "      <td>14.976143</td>\n",
       "      <td>3.910505</td>\n",
       "      <td>66.608357</td>\n",
       "      <td>0.628217</td>\n",
       "      <td>17.332474</td>\n",
       "      <td>-1.773158</td>\n",
       "      <td>9.083053</td>\n",
       "      <td>...</td>\n",
       "      <td>23.929982</td>\n",
       "      <td>10.148430</td>\n",
       "      <td>15.861392</td>\n",
       "      <td>40.359214</td>\n",
       "      <td>8.603607</td>\n",
       "      <td>-0.332408</td>\n",
       "      <td>25.466175</td>\n",
       "      <td>94.089590</td>\n",
       "      <td>14.706806</td>\n",
       "      <td>3.405680</td>\n",
       "    </tr>\n",
       "  </tbody>\n",
       "</table>\n",
       "<p>5 rows × 59 columns</p>\n",
       "</div>"
      ],
      "text/plain": [
       "        Date  Temperature          RH         Ws       Rain        FFMC  \\\n",
       "0 2012-09-01    15.861392  103.083493  23.929982   6.862311   18.206803   \n",
       "1 2012-09-01    25.127811   85.095686  16.066414  -0.332408   36.300922   \n",
       "2 2012-09-02    25.804539  112.848312   8.603607  10.148430   32.909853   \n",
       "3 2012-09-02    39.157179   40.359214  13.347197  -0.050950  101.833950   \n",
       "4 2012-09-03    14.943534   51.887200  14.976143   3.910505   66.608357   \n",
       "\n",
       "        DMC         DC       ISI       BUI  ...  Max Ws - 2  Max Rain - 2  \\\n",
       "0  6.705575  16.934059  1.272175  1.567136  ...   21.621763      3.600236   \n",
       "1  4.307622  -8.813586 -1.707135 -2.167708  ...   21.621763      3.600236   \n",
       "2 -3.989974  12.276834  0.886849  5.108220  ...   23.929982      6.862311   \n",
       "3  4.923229  17.509484  1.000106  1.990220  ...   23.929982      6.862311   \n",
       "4  0.628217  17.332474 -1.773158  9.083053  ...   23.929982     10.148430   \n",
       "\n",
       "   Min Temperature - 2  Min RH - 2  Min Ws - 2  Min Rain - 2  \\\n",
       "0            20.095227   46.306863   10.720009     -0.131692   \n",
       "1            20.095227   46.306863   10.720009     -0.131692   \n",
       "2            15.861392   85.095686   16.066414     -0.332408   \n",
       "3            15.861392   85.095686   16.066414     -0.332408   \n",
       "4            15.861392   40.359214    8.603607     -0.332408   \n",
       "\n",
       "   Median Temperature - 2  Median RH - 2  Median Ws - 2  Median Rain - 2  \n",
       "0               31.296135      64.904185      15.745523         0.751244  \n",
       "1               31.296135      64.904185      15.745523         0.751244  \n",
       "2               20.494601      94.089590      19.998198         3.264951  \n",
       "3               20.494601      94.089590      19.998198         3.264951  \n",
       "4               25.466175      94.089590      14.706806         3.405680  \n",
       "\n",
       "[5 rows x 59 columns]"
      ]
     },
     "execution_count": 62,
     "metadata": {},
     "output_type": "execute_result"
    }
   ],
   "source": [
    "dfext.head()"
   ]
  },
  {
   "cell_type": "markdown",
   "id": "a83805d0",
   "metadata": {},
   "source": [
    "## Manual Shifting the Classes feature to last column to ease operations later"
   ]
  },
  {
   "cell_type": "code",
   "execution_count": 63,
   "id": "95116243",
   "metadata": {
    "scrolled": false
   },
   "outputs": [
    {
     "name": "stdout",
     "output_type": "stream",
     "text": [
      "Index(['Date', 'Temperature', 'RH', 'Ws', 'Rain', 'FFMC', 'DMC', 'DC', 'ISI',\n",
      "       'BUI', 'Classes', 'Avg Temperature - 7', 'Avg RH - 7', 'Avg Ws - 7',\n",
      "       'Avg Rain - 7', 'Max Temperature - 7', 'Max RH - 7', 'Max Ws - 7',\n",
      "       'Max Rain - 7', 'Min Temperature - 7', 'Min RH - 7', 'Min Ws - 7',\n",
      "       'Min Rain - 7', 'Median Temperature - 7', 'Median RH - 7',\n",
      "       'Median Ws - 7', 'Median Rain - 7', 'Avg Temperature - 5', 'Avg RH - 5',\n",
      "       'Avg Ws - 5', 'Avg Rain - 5', 'Max Temperature - 5', 'Max RH - 5',\n",
      "       'Max Ws - 5', 'Max Rain - 5', 'Min Temperature - 5', 'Min RH - 5',\n",
      "       'Min Ws - 5', 'Min Rain - 5', 'Median Temperature - 5', 'Median RH - 5',\n",
      "       'Median Ws - 5', 'Median Rain - 5', 'Avg Temperature - 2', 'Avg RH - 2',\n",
      "       'Avg Ws - 2', 'Avg Rain - 2', 'Max Temperature - 2', 'Max RH - 2',\n",
      "       'Max Ws - 2', 'Max Rain - 2', 'Min Temperature - 2', 'Min RH - 2',\n",
      "       'Min Ws - 2', 'Min Rain - 2', 'Median Temperature - 2', 'Median RH - 2',\n",
      "       'Median Ws - 2', 'Median Rain - 2'],\n",
      "      dtype='object')\n"
     ]
    }
   ],
   "source": [
    "print(dfex.columns)"
   ]
  },
  {
   "cell_type": "code",
   "execution_count": 64,
   "id": "3d0e51e4",
   "metadata": {},
   "outputs": [],
   "source": [
    "cm = ['Date', 'Temperature', 'RH', 'Ws', 'Rain', 'FFMC', 'DMC', 'DC', 'ISI',\n",
    "       'BUI', 'Avg Temperature - 7', 'Avg RH - 7', 'Avg Ws - 7',\n",
    "       'Avg Rain - 7', 'Max Temperature - 7', 'Max RH - 7', 'Max Ws - 7',\n",
    "       'Max Rain - 7', 'Min Temperature - 7', 'Min RH - 7', 'Min Ws - 7',\n",
    "       'Min Rain - 7', 'Median Temperature - 7', 'Median RH - 7',\n",
    "       'Median Ws - 7', 'Median Rain - 7', 'Avg Temperature - 5', 'Avg RH - 5',\n",
    "       'Avg Ws - 5', 'Avg Rain - 5', 'Max Temperature - 5', 'Max RH - 5',\n",
    "       'Max Ws - 5', 'Max Rain - 5', 'Min Temperature - 5', 'Min RH - 5',\n",
    "       'Min Ws - 5', 'Min Rain - 5', 'Median Temperature - 5', 'Median RH - 5',\n",
    "       'Median Ws - 5', 'Median Rain - 5', 'Avg Temperature - 2', 'Avg RH - 2',\n",
    "       'Avg Ws - 2', 'Avg Rain - 2', 'Max Temperature - 2', 'Max RH - 2',\n",
    "       'Max Ws - 2', 'Max Rain - 2', 'Min Temperature - 2', 'Min RH - 2',\n",
    "       'Min Ws - 2', 'Min Rain - 2', 'Median Temperature - 2', 'Median RH - 2',\n",
    "       'Median Ws - 2', 'Median Rain - 2', 'Classes']\n",
    "dfex = dfex[cm]\n",
    "dfext = dfext[cm]"
   ]
  },
  {
   "cell_type": "markdown",
   "id": "c28e5ad5",
   "metadata": {},
   "source": [
    "# Cross Validation on Expanded Dataset"
   ]
  },
  {
   "cell_type": "markdown",
   "id": "2926cb4e",
   "metadata": {},
   "source": [
    "After expanding the dataset, we have to make sure the last x days of the validation set is removed if followed by train set and vice versa. So the function is modified to accomodate this."
   ]
  },
  {
   "cell_type": "code",
   "execution_count": 65,
   "id": "2fb13b8e",
   "metadata": {},
   "outputs": [],
   "source": [
    "def Cross_Validation_expand(model,name,df):\n",
    "    error = {}\n",
    "    for i in range(4):\n",
    "\n",
    "        \n",
    "        if i == 0:\n",
    "            p = 0\n",
    "        else:\n",
    "            p = df[df['Date']==(df['Date'].iloc[46*(i)]-pd.Timedelta(days=7))].index.values[0]\n",
    "            \n",
    "        if i == 3:\n",
    "            q = -1\n",
    "        else:\n",
    "            q = 46*(i+1)\n",
    "        \n",
    "        dftran = df[(df['Date']>=df['Date'].iloc[46*(i)]) & (df['Date']<(df['Date'].iloc[q]-pd.Timedelta(days=7)))]\n",
    "        Xval = dftran.iloc[:,1:-1].values\n",
    "        yval = dftran.iloc[:,-1].values\n",
    "        dfs = df.drop(df.index[p:q]).iloc[:,1:].values\n",
    "        Xtr = df.drop(df.index[p:q]).iloc[:,1:-1].values\n",
    "        ytr = df.drop(df.index[p:q]).iloc[:,-1].values\n",
    "        ztr = get_z(ytr)\n",
    "        \n",
    "        if name == 'SVM_linear' or name == 'SVM_RBF':\n",
    "            yh = model(Xtr,ztr,0.01,Xval)\n",
    "\n",
    "        elif name == 'nmeans':\n",
    "            yh = model(Xtr,ytr,Xval)\n",
    "\n",
    "        elif name == 'Perceptron' or name == 'MSE':\n",
    "            yh = model(dfs,Xval)\n",
    "\n",
    "        elif name == 'Bayes':\n",
    "                yh = model(df,Xtr,ytr,Xval)\n",
    "\n",
    "\n",
    "        else:\n",
    "            print('Enter Valid Model')\n",
    "\n",
    "        error[i] = 1-accuracy(yval,yh)\n",
    "\n",
    "        print(f'Epoch {i} error is = {1-accuracy(yval,yh)}')\n",
    "    m = min(error, key=error.get)\n",
    "    print(f'\\nLowest error is at Epoch {m} with {error[m]}')\n",
    "    \n",
    "    scores(yh,yval,'Best Validation Set')\n",
    "    \n",
    "    \n",
    "    return m"
   ]
  },
  {
   "cell_type": "code",
   "execution_count": 66,
   "id": "f730c0ec",
   "metadata": {},
   "outputs": [],
   "source": [
    "def low_epoch_expand(i,model,name,df,Xt,yt):\n",
    "    if i == 0:\n",
    "        p = 0\n",
    "    else:\n",
    "        p = df[df['Date']==(df['Date'].iloc[46*(i)]-pd.Timedelta(days=7))].index.values[0]\n",
    "        \n",
    "    if i == 3:\n",
    "        q = -1\n",
    "    else:\n",
    "        q = 46*(i+1)\n",
    "        \n",
    "    dfs = df.drop(df.index[p:q]).iloc[:,1:].values        \n",
    "    Xtr = df.drop(df.index[p:q]).iloc[:,1:-1].values\n",
    "    ytr = df.drop(df.index[p:q]).iloc[:,-1].values\n",
    "    ztr = get_z(ytr)\n",
    "    \n",
    "    if name == 'SVM_linear' or name == 'SVM_RBF':\n",
    "        yh = model(Xtr,ztr,0.007,Xt)\n",
    "\n",
    "    elif name == 'nmeans':\n",
    "        yh = model(Xtr,ytr,Xt)\n",
    "\n",
    "    elif name == 'Perceptron' or name == 'MSE':\n",
    "        yh = model(dfs,Xt)\n",
    "\n",
    "    elif name == 'Bayes':\n",
    "            yh = model(df,Xtr,ytr,Xt)\n",
    "\n",
    "\n",
    "    else:\n",
    "        print('Enter Valid Model')\n",
    "        \n",
    "    scores(yh,yt,'Test Set')"
   ]
  },
  {
   "cell_type": "code",
   "execution_count": 67,
   "id": "c1c1984e",
   "metadata": {},
   "outputs": [],
   "source": [
    "dfsn = dfex.iloc[:,1:].values\n",
    "Xn = dfex.iloc[:,1:-1].values\n",
    "yn = dfex.iloc[:,-1].values\n",
    "zn = get_z(yn)\n",
    "Xtn = dfext.iloc[:,1:-1].values\n",
    "ytn = dfext.iloc[:,-1].values"
   ]
  },
  {
   "cell_type": "markdown",
   "id": "273eabe2",
   "metadata": {},
   "source": [
    "### N means"
   ]
  },
  {
   "cell_type": "code",
   "execution_count": 68,
   "id": "e3042417",
   "metadata": {
    "scrolled": false
   },
   "outputs": [
    {
     "name": "stdout",
     "output_type": "stream",
     "text": [
      "Epoch 0 error is = 0.1875\n",
      "Epoch 1 error is = 0.3125\n",
      "Epoch 2 error is = 0.25\n",
      "Epoch 3 error is = 0.0714285714285714\n",
      "\n",
      "Lowest error is at Epoch 3 with 0.0714285714285714\n",
      "Best Validation Set Accuracy = 0.9285714285714286\n",
      " F1 Score = 0.962962962962963\n",
      "\n",
      "Confusion Matrix\n"
     ]
    },
    {
     "data": {
      "image/png": "[encoded data removed]",
      "text/plain": [
       "<Figure size 144x144 with 2 Axes>"
      ]
     },
     "metadata": {},
     "output_type": "display_data"
    }
   ],
   "source": [
    "nmi = Cross_Validation_expand(nmeans,'nmeans',dfex)"
   ]
  },
  {
   "cell_type": "code",
   "execution_count": 69,
   "id": "aa0f3674",
   "metadata": {},
   "outputs": [
    {
     "name": "stdout",
     "output_type": "stream",
     "text": [
      "Test Set Accuracy = 0.8166666666666667\n",
      " F1 Score = 0.7441860465116279\n",
      "\n",
      "Confusion Matrix\n"
     ]
    },
    {
     "data": {
      "image/png": "[encoded data removed]",
      "text/plain": [
       "<Figure size 144x144 with 2 Axes>"
      ]
     },
     "metadata": {},
     "output_type": "display_data"
    }
   ],
   "source": [
    "low_epoch_expand(nmi,nmeans,'nmeans',dfex,Xtn,ytn)"
   ]
  },
  {
   "cell_type": "markdown",
   "id": "c7a4eb65",
   "metadata": {},
   "source": [
    "### SVM Linear"
   ]
  },
  {
   "cell_type": "code",
   "execution_count": 70,
   "id": "daf0fb5a",
   "metadata": {},
   "outputs": [
    {
     "name": "stdout",
     "output_type": "stream",
     "text": [
      "Epoch 0 error is = 0.40625\n",
      "Epoch 1 error is = 0.46875\n",
      "Epoch 2 error is = 0.59375\n",
      "Epoch 3 error is = 0.3571428571428571\n",
      "\n",
      "Lowest error is at Epoch 3 with 0.3571428571428571\n",
      "Best Validation Set Accuracy = 0.6428571428571429\n",
      " F1 Score = 0.7826086956521738\n",
      "\n",
      "Confusion Matrix\n"
     ]
    },
    {
     "data": {
      "image/png": "[encoded data removed]",
      "text/plain": [
       "<Figure size 144x144 with 2 Axes>"
      ]
     },
     "metadata": {},
     "output_type": "display_data"
    }
   ],
   "source": [
    "sli = Cross_Validation_expand(SVM_linear,'SVM_linear',dfex)"
   ]
  },
  {
   "cell_type": "code",
   "execution_count": 71,
   "id": "105176b5",
   "metadata": {},
   "outputs": [
    {
     "name": "stdout",
     "output_type": "stream",
     "text": [
      "Test Set Accuracy = 0.7166666666666667\n",
      " F1 Score = 0.5853658536585366\n",
      "\n",
      "Confusion Matrix\n"
     ]
    },
    {
     "data": {
      "image/png": "[encoded data removed]",
      "text/plain": [
       "<Figure size 144x144 with 2 Axes>"
      ]
     },
     "metadata": {},
     "output_type": "display_data"
    }
   ],
   "source": [
    "low_epoch_expand(sli,SVM_linear,'SVM_linear',dfex,Xtn,ytn)"
   ]
  },
  {
   "cell_type": "markdown",
   "id": "493b216f",
   "metadata": {},
   "source": [
    "### SVM RBF"
   ]
  },
  {
   "cell_type": "code",
   "execution_count": 72,
   "id": "b168db67",
   "metadata": {},
   "outputs": [
    {
     "name": "stdout",
     "output_type": "stream",
     "text": [
      "Epoch 0 error is = 0.125\n",
      "Epoch 1 error is = 0.28125\n",
      "Epoch 2 error is = 0.15625\n",
      "Epoch 3 error is = 0.0714285714285714\n",
      "\n",
      "Lowest error is at Epoch 3 with 0.0714285714285714\n",
      "Best Validation Set Accuracy = 0.9285714285714286\n",
      " F1 Score = 0.962962962962963\n",
      "\n",
      "Confusion Matrix\n"
     ]
    },
    {
     "data": {
      "image/png": "[encoded data removed]",
      "text/plain": [
       "<Figure size 144x144 with 2 Axes>"
      ]
     },
     "metadata": {},
     "output_type": "display_data"
    }
   ],
   "source": [
    "sbi = Cross_Validation_expand(SVM_RBF,'SVM_RBF',dfex)"
   ]
  },
  {
   "cell_type": "code",
   "execution_count": 73,
   "id": "38a20add",
   "metadata": {},
   "outputs": [
    {
     "name": "stdout",
     "output_type": "stream",
     "text": [
      "Test Set Accuracy = 0.8333333333333334\n",
      " F1 Score = 0.7999999999999999\n",
      "\n",
      "Confusion Matrix\n"
     ]
    },
    {
     "data": {
      "image/png": "[encoded data removed]",
      "text/plain": [
       "<Figure size 144x144 with 2 Axes>"
      ]
     },
     "metadata": {},
     "output_type": "display_data"
    }
   ],
   "source": [
    "low_epoch_expand(sbi,SVM_RBF,'SVM_RBF',dfex,Xtn,ytn)"
   ]
  },
  {
   "cell_type": "markdown",
   "id": "2cfc3a4c",
   "metadata": {},
   "source": [
    "### Perceptron"
   ]
  },
  {
   "cell_type": "code",
   "execution_count": 74,
   "id": "b36c98f4",
   "metadata": {},
   "outputs": [
    {
     "name": "stdout",
     "output_type": "stream",
     "text": [
      "The lowest error pair is (0.01, 1000) with Erms 1.303973916663879\n",
      "Epoch 0 error is = 0.21875\n",
      "The lowest error pair is (0.01, 1000) with Erms 1.4090771633431005\n",
      "Epoch 1 error is = 0.15625\n",
      "The lowest error pair is (0.01, 1000) with Erms 0.9355581253658861\n",
      "Epoch 2 error is = 0.25\n",
      "The lowest error pair is (0.01, 1000) with Erms 1.6476756802063017\n",
      "Epoch 3 error is = 0.1428571428571429\n",
      "\n",
      "Lowest error is at Epoch 3 with 0.1428571428571429\n",
      "Best Validation Set Accuracy = 0.8571428571428571\n",
      " F1 Score = 0.9166666666666666\n",
      "\n",
      "Confusion Matrix\n"
     ]
    },
    {
     "data": {
      "image/png": "[encoded data removed]",
      "text/plain": [
       "<Figure size 144x144 with 2 Axes>"
      ]
     },
     "metadata": {},
     "output_type": "display_data"
    }
   ],
   "source": [
    "pi = Cross_Validation_expand(Perceptron,'Perceptron',dfex)"
   ]
  },
  {
   "cell_type": "code",
   "execution_count": 78,
   "id": "bf7be12f",
   "metadata": {},
   "outputs": [
    {
     "name": "stdout",
     "output_type": "stream",
     "text": [
      "The lowest error pair is (0.01, 1000) with Erms 1.7171637819786887\n",
      "Test Set Accuracy = 0.8\n",
      " F1 Score = 0.7499999999999999\n",
      "\n",
      "Confusion Matrix\n"
     ]
    },
    {
     "data": {
      "image/png": "[encoded data removed]",
      "text/plain": [
       "<Figure size 144x144 with 2 Axes>"
      ]
     },
     "metadata": {},
     "output_type": "display_data"
    }
   ],
   "source": [
    "low_epoch_expand(pi,Perceptron,'Perceptron',dfex,Xtn,ytn)"
   ]
  },
  {
   "cell_type": "markdown",
   "id": "72165736",
   "metadata": {},
   "source": [
    "### MSE"
   ]
  },
  {
   "cell_type": "code",
   "execution_count": 76,
   "id": "0bae8ce4",
   "metadata": {},
   "outputs": [
    {
     "name": "stdout",
     "output_type": "stream",
     "text": [
      "Epoch 0 error is = 0.53125\n",
      "Epoch 1 error is = 0.4375\n",
      "Epoch 2 error is = 0.28125\n",
      "Epoch 3 error is = 0.7857142857142857\n",
      "\n",
      "Lowest error is at Epoch 2 with 0.28125\n",
      "Best Validation Set Accuracy = 0.21428571428571427\n",
      " F1 Score = 0.3529411764705882\n",
      "\n",
      "Confusion Matrix\n"
     ]
    },
    {
     "data": {
      "image/png": "[encoded data removed]",
      "text/plain": [
       "<Figure size 144x144 with 2 Axes>"
      ]
     },
     "metadata": {},
     "output_type": "display_data"
    }
   ],
   "source": [
    "msei = Cross_Validation_expand(MSE,'MSE',dfex)"
   ]
  },
  {
   "cell_type": "code",
   "execution_count": 81,
   "id": "5ed69aab",
   "metadata": {
    "scrolled": false
   },
   "outputs": [
    {
     "name": "stdout",
     "output_type": "stream",
     "text": [
      "Test Set Accuracy = 0.48333333333333334\n",
      " F1 Score = 0.45614035087719296\n",
      "\n",
      "Confusion Matrix\n"
     ]
    },
    {
     "data": {
      "image/png": "[encoded data removed]",
      "text/plain": [
       "<Figure size 144x144 with 2 Axes>"
      ]
     },
     "metadata": {},
     "output_type": "display_data"
    }
   ],
   "source": [
    "low_epoch_expand(msei,MSE,'MSE',dfex,Xtn,ytn)"
   ]
  },
  {
   "cell_type": "markdown",
   "id": "3ba57ae1",
   "metadata": {},
   "source": [
    "### Bayes"
   ]
  },
  {
   "cell_type": "markdown",
   "id": "d35189ac",
   "metadata": {},
   "source": [
    "Wasn't able to perform cross validation as E was too small while taking inverse and math domain error was caused"
   ]
  },
  {
   "cell_type": "markdown",
   "id": "27495cf0",
   "metadata": {},
   "source": [
    "# Checking Metrics on new complete expanded train set (no split)"
   ]
  },
  {
   "cell_type": "code",
   "execution_count": 82,
   "id": "a66ed24c",
   "metadata": {},
   "outputs": [],
   "source": [
    "dfsn = dfex.iloc[:,1:].values\n",
    "Xn = dfex.iloc[:,1:-1].values\n",
    "yn = dfex.iloc[:,-1].values\n",
    "zn = get_z(yn)\n",
    "Xtn = dfext.iloc[:,1:-1].values\n",
    "ytn = dfext.iloc[:,-1].values"
   ]
  },
  {
   "cell_type": "markdown",
   "id": "a395ae7b",
   "metadata": {},
   "source": [
    "## Trivial"
   ]
  },
  {
   "cell_type": "code",
   "execution_count": 83,
   "id": "7326c58b",
   "metadata": {
    "scrolled": false
   },
   "outputs": [
    {
     "name": "stdout",
     "output_type": "stream",
     "text": [
      "Test Set Accuracy = 0.5166666666666667\n",
      " F1 Score = 0.5084745762711865\n",
      "\n",
      "Confusion Matrix\n"
     ]
    },
    {
     "data": {
      "image/png": "[encoded data removed]",
      "text/plain": [
       "<Figure size 144x144 with 2 Axes>"
      ]
     },
     "metadata": {},
     "output_type": "display_data"
    }
   ],
   "source": [
    "yhtri = trivial(len(Xtn),dfex)\n",
    "scores(ytn,yhtri,'Test Set')"
   ]
  },
  {
   "cell_type": "markdown",
   "id": "afef6c49",
   "metadata": {},
   "source": [
    "### N means"
   ]
  },
  {
   "cell_type": "code",
   "execution_count": 84,
   "id": "d6dddd0f",
   "metadata": {},
   "outputs": [
    {
     "name": "stdout",
     "output_type": "stream",
     "text": [
      "Test Set Accuracy = 0.8\n",
      " F1 Score = 0.6842105263157895\n",
      "\n",
      "Confusion Matrix\n"
     ]
    },
    {
     "data": {
      "image/png": "[encoded data removed]",
      "text/plain": [
       "<Figure size 144x144 with 2 Axes>"
      ]
     },
     "metadata": {},
     "output_type": "display_data"
    }
   ],
   "source": [
    "yhnme = nmeans(Xn,yn,Xtn)\n",
    "scores(ytn,yhnme,'Test Set')"
   ]
  },
  {
   "cell_type": "markdown",
   "id": "0c83490a",
   "metadata": {},
   "source": [
    "### SVM Linear"
   ]
  },
  {
   "cell_type": "code",
   "execution_count": 85,
   "id": "259b8080",
   "metadata": {},
   "outputs": [
    {
     "name": "stdout",
     "output_type": "stream",
     "text": [
      "Test Set Accuracy = 0.45\n",
      " F1 Score = 0.2978723404255319\n",
      "\n",
      "Confusion Matrix\n"
     ]
    },
    {
     "data": {
      "image/png": "[encoded data removed]",
      "text/plain": [
       "<Figure size 144x144 with 2 Axes>"
      ]
     },
     "metadata": {},
     "output_type": "display_data"
    }
   ],
   "source": [
    "yhsvml = SVM_linear(Xn,zn,None,Xtn)\n",
    "scores(yhsvml,ytn,'Test Set')"
   ]
  },
  {
   "cell_type": "markdown",
   "id": "e6934599",
   "metadata": {},
   "source": [
    "### SVM RBF"
   ]
  },
  {
   "cell_type": "code",
   "execution_count": 86,
   "id": "ee50b9be",
   "metadata": {},
   "outputs": [
    {
     "name": "stdout",
     "output_type": "stream",
     "text": [
      "Test Set Accuracy = 0.85\n",
      " F1 Score = 0.8235294117647057\n",
      "\n",
      "Confusion Matrix\n"
     ]
    },
    {
     "data": {
      "image/png": "[encoded data removed]",
      "text/plain": [
       "<Figure size 144x144 with 2 Axes>"
      ]
     },
     "metadata": {},
     "output_type": "display_data"
    }
   ],
   "source": [
    "yhsvmr = SVM_RBF(Xn,zn,0.002,Xtn)\n",
    "scores(yhsvmr,ytn,'Test Set')"
   ]
  },
  {
   "cell_type": "markdown",
   "id": "ada7fd2a",
   "metadata": {},
   "source": [
    "### Perceptron"
   ]
  },
  {
   "cell_type": "code",
   "execution_count": 87,
   "id": "334a4825",
   "metadata": {},
   "outputs": [
    {
     "name": "stdout",
     "output_type": "stream",
     "text": [
      "The lowest error pair is (0.01, 1000) with Erms 1.7280755995363988\n",
      "Test Set Accuracy = 0.8\n",
      " F1 Score = 0.76\n",
      "\n",
      "Confusion Matrix\n"
     ]
    },
    {
     "data": {
      "image/png": "[encoded data removed]",
      "text/plain": [
       "<Figure size 144x144 with 2 Axes>"
      ]
     },
     "metadata": {},
     "output_type": "display_data"
    }
   ],
   "source": [
    "yhpc = Perceptron(dfsn,Xtn)\n",
    "scores(yhpc,ytn,'Test Set')"
   ]
  },
  {
   "cell_type": "markdown",
   "id": "33d17d73",
   "metadata": {},
   "source": [
    "### MSE"
   ]
  },
  {
   "cell_type": "code",
   "execution_count": 88,
   "id": "4bd7d376",
   "metadata": {},
   "outputs": [
    {
     "name": "stdout",
     "output_type": "stream",
     "text": [
      "Test Set Accuracy = 0.5166666666666667\n",
      " F1 Score = 0.3829787234042554\n",
      "\n",
      "Confusion Matrix\n"
     ]
    },
    {
     "data": {
      "image/png": "[encoded data removed]",
      "text/plain": [
       "<Figure size 144x144 with 2 Axes>"
      ]
     },
     "metadata": {},
     "output_type": "display_data"
    }
   ],
   "source": [
    "yhmse = MSE(dfsn,Xtn)\n",
    "scores(yhmse,ytn,'Test Set')"
   ]
  },
  {
   "cell_type": "markdown",
   "id": "63ac6290",
   "metadata": {},
   "source": [
    "### Bayes"
   ]
  },
  {
   "cell_type": "code",
   "execution_count": 89,
   "id": "eff078fe",
   "metadata": {},
   "outputs": [
    {
     "name": "stdout",
     "output_type": "stream",
     "text": [
      "Test Set Accuracy = 0.4166666666666667\n",
      " F1 Score = 0.5679012345679012\n",
      "\n",
      "Confusion Matrix\n"
     ]
    },
    {
     "data": {
      "image/png": "[encoded data removed]",
      "text/plain": [
       "<Figure size 144x144 with 2 Axes>"
      ]
     },
     "metadata": {},
     "output_type": "display_data"
    }
   ],
   "source": [
    "yhbay = Bayes(dfex,Xn,yn,Xtn)\n",
    "scores(yhbay,ytn,'Test Set')"
   ]
  },
  {
   "cell_type": "markdown",
   "id": "191c5377",
   "metadata": {},
   "source": [
    "# Feature Selection"
   ]
  },
  {
   "cell_type": "markdown",
   "id": "506cdd6d",
   "metadata": {},
   "source": [
    "## Using Pearson correlation coefficient"
   ]
  },
  {
   "cell_type": "markdown",
   "id": "6f75c2f8",
   "metadata": {},
   "source": [
    "Use pandas derive the correlation matrix and find the features with more than a desired value. I have considered 0.33 as it gave me the best accuracies for most models"
   ]
  },
  {
   "cell_type": "code",
   "execution_count": 90,
   "id": "5463f6f7",
   "metadata": {},
   "outputs": [],
   "source": [
    "def pcc_fea_sel(dfex,val):\n",
    "    cols = []\n",
    "    for i in range(len(dfex.columns)-1):\n",
    "        if (abs(dfex.corr()['Classes'])>val)[i] == True:\n",
    "            cols.append((dfex.corr()['Classes']).index[i])\n",
    "    return cols"
   ]
  },
  {
   "cell_type": "code",
   "execution_count": 91,
   "id": "fb239405",
   "metadata": {
    "scrolled": true
   },
   "outputs": [],
   "source": [
    "cols = pcc_fea_sel(dfex,0.33)"
   ]
  },
  {
   "cell_type": "code",
   "execution_count": 92,
   "id": "46ba302a",
   "metadata": {
    "scrolled": true
   },
   "outputs": [
    {
     "data": {
      "text/plain": [
       "16"
      ]
     },
     "execution_count": 92,
     "metadata": {},
     "output_type": "execute_result"
    }
   ],
   "source": [
    "len(cols)"
   ]
  },
  {
   "cell_type": "markdown",
   "id": "679d6060",
   "metadata": {},
   "source": [
    "Cols has **16** features ewhich is almost in the **17 - 61** range which is the optimal range according to the thumb rule **N > (3-10)D+1**"
   ]
  },
  {
   "cell_type": "code",
   "execution_count": 93,
   "id": "6fa350b0",
   "metadata": {},
   "outputs": [],
   "source": [
    "dfn = dfex[cols]\n",
    "dfnt = dfext[cols]"
   ]
  },
  {
   "cell_type": "code",
   "execution_count": 94,
   "id": "6096b3f0",
   "metadata": {},
   "outputs": [
    {
     "data": {
      "text/html": [
       "<div>\n",
       "<style scoped>\n",
       "    .dataframe tbody tr th:only-of-type {\n",
       "        vertical-align: middle;\n",
       "    }\n",
       "\n",
       "    .dataframe tbody tr th {\n",
       "        vertical-align: top;\n",
       "    }\n",
       "\n",
       "    .dataframe thead th {\n",
       "        text-align: right;\n",
       "    }\n",
       "</style>\n",
       "<table border=\"1\" class=\"dataframe\">\n",
       "  <thead>\n",
       "    <tr style=\"text-align: right;\">\n",
       "      <th></th>\n",
       "      <th>Rain</th>\n",
       "      <th>FFMC</th>\n",
       "      <th>DMC</th>\n",
       "      <th>DC</th>\n",
       "      <th>ISI</th>\n",
       "      <th>BUI</th>\n",
       "      <th>Avg Temperature - 7</th>\n",
       "      <th>Max Temperature - 7</th>\n",
       "      <th>Median Temperature - 7</th>\n",
       "      <th>Avg Temperature - 5</th>\n",
       "      <th>Max Temperature - 5</th>\n",
       "      <th>Avg Rain - 2</th>\n",
       "      <th>Max Temperature - 2</th>\n",
       "      <th>Max Rain - 2</th>\n",
       "      <th>Median Rain - 2</th>\n",
       "      <th>Classes</th>\n",
       "    </tr>\n",
       "  </thead>\n",
       "  <tbody>\n",
       "    <tr>\n",
       "      <th>0</th>\n",
       "      <td>6.862311</td>\n",
       "      <td>18.206803</td>\n",
       "      <td>6.705575</td>\n",
       "      <td>16.934059</td>\n",
       "      <td>1.272175</td>\n",
       "      <td>1.567136</td>\n",
       "      <td>30.546717</td>\n",
       "      <td>43.304756</td>\n",
       "      <td>31.114061</td>\n",
       "      <td>30.510891</td>\n",
       "      <td>42.144910</td>\n",
       "      <td>1.242758</td>\n",
       "      <td>39.466890</td>\n",
       "      <td>3.600236</td>\n",
       "      <td>0.751244</td>\n",
       "      <td>0</td>\n",
       "    </tr>\n",
       "    <tr>\n",
       "      <th>1</th>\n",
       "      <td>-0.332408</td>\n",
       "      <td>36.300922</td>\n",
       "      <td>4.307622</td>\n",
       "      <td>-8.813586</td>\n",
       "      <td>-1.707135</td>\n",
       "      <td>-2.167708</td>\n",
       "      <td>30.546717</td>\n",
       "      <td>43.304756</td>\n",
       "      <td>31.114061</td>\n",
       "      <td>30.510891</td>\n",
       "      <td>42.144910</td>\n",
       "      <td>1.242758</td>\n",
       "      <td>39.466890</td>\n",
       "      <td>3.600236</td>\n",
       "      <td>0.751244</td>\n",
       "      <td>0</td>\n",
       "    </tr>\n",
       "    <tr>\n",
       "      <th>2</th>\n",
       "      <td>10.148430</td>\n",
       "      <td>32.909853</td>\n",
       "      <td>-3.989974</td>\n",
       "      <td>12.276834</td>\n",
       "      <td>0.886849</td>\n",
       "      <td>5.108220</td>\n",
       "      <td>20.494601</td>\n",
       "      <td>25.127811</td>\n",
       "      <td>20.494601</td>\n",
       "      <td>20.494601</td>\n",
       "      <td>25.127811</td>\n",
       "      <td>3.264951</td>\n",
       "      <td>25.127811</td>\n",
       "      <td>6.862311</td>\n",
       "      <td>3.264951</td>\n",
       "      <td>0</td>\n",
       "    </tr>\n",
       "    <tr>\n",
       "      <th>3</th>\n",
       "      <td>-0.050950</td>\n",
       "      <td>101.833950</td>\n",
       "      <td>4.923229</td>\n",
       "      <td>17.509484</td>\n",
       "      <td>1.000106</td>\n",
       "      <td>1.990220</td>\n",
       "      <td>20.494601</td>\n",
       "      <td>25.127811</td>\n",
       "      <td>20.494601</td>\n",
       "      <td>20.494601</td>\n",
       "      <td>25.127811</td>\n",
       "      <td>3.264951</td>\n",
       "      <td>25.127811</td>\n",
       "      <td>6.862311</td>\n",
       "      <td>3.264951</td>\n",
       "      <td>0</td>\n",
       "    </tr>\n",
       "    <tr>\n",
       "      <th>4</th>\n",
       "      <td>3.910505</td>\n",
       "      <td>66.608357</td>\n",
       "      <td>0.628217</td>\n",
       "      <td>17.332474</td>\n",
       "      <td>-1.773158</td>\n",
       "      <td>9.083053</td>\n",
       "      <td>26.487730</td>\n",
       "      <td>39.157179</td>\n",
       "      <td>25.466175</td>\n",
       "      <td>26.487730</td>\n",
       "      <td>39.157179</td>\n",
       "      <td>4.156846</td>\n",
       "      <td>39.157179</td>\n",
       "      <td>10.148430</td>\n",
       "      <td>3.405680</td>\n",
       "      <td>0</td>\n",
       "    </tr>\n",
       "  </tbody>\n",
       "</table>\n",
       "</div>"
      ],
      "text/plain": [
       "        Rain        FFMC       DMC         DC       ISI       BUI  \\\n",
       "0   6.862311   18.206803  6.705575  16.934059  1.272175  1.567136   \n",
       "1  -0.332408   36.300922  4.307622  -8.813586 -1.707135 -2.167708   \n",
       "2  10.148430   32.909853 -3.989974  12.276834  0.886849  5.108220   \n",
       "3  -0.050950  101.833950  4.923229  17.509484  1.000106  1.990220   \n",
       "4   3.910505   66.608357  0.628217  17.332474 -1.773158  9.083053   \n",
       "\n",
       "   Avg Temperature - 7  Max Temperature - 7  Median Temperature - 7  \\\n",
       "0            30.546717            43.304756               31.114061   \n",
       "1            30.546717            43.304756               31.114061   \n",
       "2            20.494601            25.127811               20.494601   \n",
       "3            20.494601            25.127811               20.494601   \n",
       "4            26.487730            39.157179               25.466175   \n",
       "\n",
       "   Avg Temperature - 5  Max Temperature - 5  Avg Rain - 2  \\\n",
       "0            30.510891            42.144910      1.242758   \n",
       "1            30.510891            42.144910      1.242758   \n",
       "2            20.494601            25.127811      3.264951   \n",
       "3            20.494601            25.127811      3.264951   \n",
       "4            26.487730            39.157179      4.156846   \n",
       "\n",
       "   Max Temperature - 2  Max Rain - 2  Median Rain - 2  Classes  \n",
       "0            39.466890      3.600236         0.751244        0  \n",
       "1            39.466890      3.600236         0.751244        0  \n",
       "2            25.127811      6.862311         3.264951        0  \n",
       "3            25.127811      6.862311         3.264951        0  \n",
       "4            39.157179     10.148430         3.405680        0  "
      ]
     },
     "execution_count": 94,
     "metadata": {},
     "output_type": "execute_result"
    }
   ],
   "source": [
    "dfnt.head()"
   ]
  },
  {
   "cell_type": "markdown",
   "id": "32528568",
   "metadata": {},
   "source": [
    "## Checking Metrics on entire new selected features"
   ]
  },
  {
   "cell_type": "code",
   "execution_count": 95,
   "id": "52226053",
   "metadata": {},
   "outputs": [],
   "source": [
    "dfsn = dfn.values\n",
    "Xn = dfn.iloc[:,:-1].values\n",
    "yn = dfn.iloc[:,-1].values\n",
    "zn = get_z(yn)\n",
    "Xtn = dfnt.iloc[:,:-1].values\n",
    "ytn = dfnt.iloc[:,-1].values"
   ]
  },
  {
   "cell_type": "markdown",
   "id": "ae7524f8",
   "metadata": {},
   "source": [
    "### N means"
   ]
  },
  {
   "cell_type": "code",
   "execution_count": 96,
   "id": "bd06e67c",
   "metadata": {
    "scrolled": false
   },
   "outputs": [
    {
     "name": "stdout",
     "output_type": "stream",
     "text": [
      "Test Set Accuracy = 0.8333333333333334\n",
      " F1 Score = 0.75\n",
      "\n",
      "Confusion Matrix\n"
     ]
    },
    {
     "data": {
      "image/png": "[encoded data removed]",
      "text/plain": [
       "<Figure size 144x144 with 2 Axes>"
      ]
     },
     "metadata": {},
     "output_type": "display_data"
    }
   ],
   "source": [
    "yhnme = nmeans(Xn,yn,Xtn)\n",
    "scores(ytn,yhnme,'Test Set')"
   ]
  },
  {
   "cell_type": "markdown",
   "id": "f687a8f8",
   "metadata": {},
   "source": [
    "### SVM Linear"
   ]
  },
  {
   "cell_type": "code",
   "execution_count": 97,
   "id": "9e4b9d0e",
   "metadata": {
    "scrolled": true
   },
   "outputs": [
    {
     "name": "stdout",
     "output_type": "stream",
     "text": [
      "Test Set Accuracy = 0.23333333333333334\n",
      " F1 Score = 0.20689655172413796\n",
      "\n",
      "Confusion Matrix\n"
     ]
    },
    {
     "data": {
      "image/png": "[encoded data removed]",
      "text/plain": [
       "<Figure size 144x144 with 2 Axes>"
      ]
     },
     "metadata": {},
     "output_type": "display_data"
    }
   ],
   "source": [
    "yhsvml = SVM_linear(Xn,zn,0.01,Xtn)\n",
    "scores(yhsvml,ytn,'Test Set')"
   ]
  },
  {
   "cell_type": "markdown",
   "id": "71844ba7",
   "metadata": {},
   "source": [
    "### SVM RBF"
   ]
  },
  {
   "cell_type": "code",
   "execution_count": 98,
   "id": "8c815a18",
   "metadata": {},
   "outputs": [
    {
     "name": "stdout",
     "output_type": "stream",
     "text": [
      "Test Set Accuracy = 0.7833333333333333\n",
      " F1 Score = 0.7636363636363634\n",
      "\n",
      "Confusion Matrix\n"
     ]
    },
    {
     "data": {
      "image/png": "[encoded data removed]",
      "text/plain": [
       "<Figure size 144x144 with 2 Axes>"
      ]
     },
     "metadata": {},
     "output_type": "display_data"
    }
   ],
   "source": [
    "yhsvmr = SVM_RBF(Xn,zn,0.01,Xtn)\n",
    "scores(yhsvmr,ytn,'Test Set')"
   ]
  },
  {
   "cell_type": "markdown",
   "id": "fa72472a",
   "metadata": {},
   "source": [
    "### Perceptron"
   ]
  },
  {
   "cell_type": "markdown",
   "id": "e72478b8",
   "metadata": {},
   "source": [
    "The accuracies varied due to the randomness, highest accuracy = 91%, F1 score = 0.888, while the pearson corelation is atleast 0.33 or more. It is to be noted this accuracy cannot be achieved every single time."
   ]
  },
  {
   "cell_type": "code",
   "execution_count": 504,
   "id": "f6e589b0",
   "metadata": {
    "scrolled": false
   },
   "outputs": [
    {
     "name": "stdout",
     "output_type": "stream",
     "text": [
      "The lowest error pair is (0.01, 10) with Erms 0.19476245641577777\n",
      " Accuracy = 0.9166666666666666\n",
      " F1 Score = 0.888888888888889\n",
      "\n",
      "Confusion Matrix\n"
     ]
    },
    {
     "data": {
      "image/png": "[encoded data removed]",
      "text/plain": [
       "<Figure size 432x288 with 2 Axes>"
      ]
     },
     "metadata": {
      "needs_background": "light"
     },
     "output_type": "display_data"
    }
   ],
   "source": [
    "yhpc = Perceptron(dfsn,Xtn)\n",
    "scores(yhpc,ytn,'Test Set')"
   ]
  },
  {
   "cell_type": "markdown",
   "id": "49e79cc2",
   "metadata": {},
   "source": [
    "Run the model for 50 iterations, to find how well it performs"
   ]
  },
  {
   "cell_type": "code",
   "execution_count": 714,
   "id": "1923b052",
   "metadata": {},
   "outputs": [],
   "source": [
    "accu = []\n",
    "for i in range(50):\n",
    "    yhpc = Perceptron(dfsn,Xtn)\n",
    "    accu.append(accuracy(yhpc,ytn))\n"
   ]
  },
  {
   "cell_type": "code",
   "execution_count": 715,
   "id": "57154276",
   "metadata": {
    "scrolled": true
   },
   "outputs": [
    {
     "data": {
      "text/plain": [
       "<matplotlib.collections.PathCollection at 0x2671822e9d0>"
      ]
     },
     "execution_count": 715,
     "metadata": {},
     "output_type": "execute_result"
    },
    {
     "data": {
      "image/png": "[encoded data removed]",
      "text/plain": [
       "<Figure size 432x288 with 1 Axes>"
      ]
     },
     "metadata": {
      "needs_background": "light"
     },
     "output_type": "display_data"
    }
   ],
   "source": [
    "plt.scatter(list(range(50)),accu)"
   ]
  },
  {
   "cell_type": "markdown",
   "id": "51cbc79f",
   "metadata": {},
   "source": [
    "As we can see most of the times the accuracy is close to 90%, hence we can use this model to recieve an accuracy for around 88-90 %"
   ]
  },
  {
   "cell_type": "markdown",
   "id": "09a0826b",
   "metadata": {},
   "source": [
    "### MSE"
   ]
  },
  {
   "cell_type": "markdown",
   "id": "2ae983f9",
   "metadata": {},
   "source": [
    "The accuracies varied due to the randomness, highest accuracy = 95%, F1 score = 0.92, while the pearson corelation is atleast 0.33 or more. It is to be noted this accuracy cannot be achieved every single time."
   ]
  },
  {
   "cell_type": "code",
   "execution_count": 815,
   "id": "e4174284",
   "metadata": {
    "scrolled": false
   },
   "outputs": [
    {
     "name": "stdout",
     "output_type": "stream",
     "text": [
      "Test Set Accuracy = 0.9166666666666666\n",
      " F1 Score = 0.888888888888889\n",
      "\n",
      "Confusion Matrix\n"
     ]
    },
    {
     "data": {
      "image/png": "[encoded data removed]",
      "text/plain": [
       "<Figure size 432x288 with 2 Axes>"
      ]
     },
     "metadata": {
      "needs_background": "light"
     },
     "output_type": "display_data"
    }
   ],
   "source": [
    "yhmse = MSE(dfsn,Xtn)\n",
    "scores(yhmse,ytn,'Test Set')"
   ]
  },
  {
   "cell_type": "markdown",
   "id": "dc30706a",
   "metadata": {},
   "source": [
    "Run the model for 50 iterations, to find how well it performs"
   ]
  },
  {
   "cell_type": "code",
   "execution_count": 781,
   "id": "bc5cc2aa",
   "metadata": {},
   "outputs": [],
   "source": [
    "accu2 = []\n",
    "for i in range(50):\n",
    "    yhmse = MSE(dfsn,Xtn)\n",
    "    accu2.append(accuracy(yhmse,ytn))\n"
   ]
  },
  {
   "cell_type": "code",
   "execution_count": 782,
   "id": "b5f371a4",
   "metadata": {
    "scrolled": true
   },
   "outputs": [
    {
     "data": {
      "text/plain": [
       "<matplotlib.collections.PathCollection at 0x2671c69d970>"
      ]
     },
     "execution_count": 782,
     "metadata": {},
     "output_type": "execute_result"
    },
    {
     "data": {
      "image/png": "[encoded data removed]",
      "text/plain": [
       "<Figure size 432x288 with 1 Axes>"
      ]
     },
     "metadata": {
      "needs_background": "light"
     },
     "output_type": "display_data"
    }
   ],
   "source": [
    "plt.scatter(list(range(50)),accu2)"
   ]
  },
  {
   "cell_type": "markdown",
   "id": "8165f8e3",
   "metadata": {},
   "source": [
    "Even though this model was able to achieve the highest accuracy that is 95%, this model is not reliable as the spread or the randomness affects it very much and avg accuracy is around 85%."
   ]
  },
  {
   "cell_type": "markdown",
   "id": "85647007",
   "metadata": {},
   "source": [
    "### Bayes"
   ]
  },
  {
   "cell_type": "code",
   "execution_count": 99,
   "id": "5d0952e2",
   "metadata": {
    "scrolled": true
   },
   "outputs": [
    {
     "name": "stdout",
     "output_type": "stream",
     "text": [
      "Test Set Accuracy = 0.75\n",
      " F1 Score = 0.6666666666666666\n",
      "\n",
      "Confusion Matrix\n"
     ]
    },
    {
     "data": {
      "image/png": "[encoded data removed]",
      "text/plain": [
       "<Figure size 144x144 with 2 Axes>"
      ]
     },
     "metadata": {},
     "output_type": "display_data"
    }
   ],
   "source": [
    "yhbay = Bayes(dfn,Xn,yn,Xtn)\n",
    "scores(yhbay,ytn,'Test Set')"
   ]
  },
  {
   "cell_type": "markdown",
   "id": "63a9e5b8",
   "metadata": {},
   "source": [
    "## Based on Individual features accuracy based on model"
   ]
  },
  {
   "cell_type": "markdown",
   "id": "65b308de",
   "metadata": {},
   "source": [
    "I predicted the output using every single features on all the model and choose the features with arounf 65% accuracy or more"
   ]
  },
  {
   "cell_type": "code",
   "execution_count": 105,
   "id": "7674df27",
   "metadata": {},
   "outputs": [],
   "source": [
    "def fet_sel_acc(df,df_t,model,name,desired_acc):\n",
    "    feat = []\n",
    "    for i in df.columns:\n",
    "        if i == 'Date' or i == 'Classes':\n",
    "            continue\n",
    "        cols = [i,'Classes']\n",
    "        dfn = df[cols]\n",
    "        dfnt = df_t[cols]\n",
    "        dfsn = dfn.values\n",
    "        Xn = dfn.iloc[:,:-1].values\n",
    "        yn = dfn.iloc[:,-1].values\n",
    "        zn = get_z(yn)\n",
    "        Xtn = dfnt.iloc[:,:-1].values\n",
    "        ytn = dfnt.iloc[:,-1].values\n",
    "\n",
    "        \n",
    "        try:\n",
    "            if name == 'SVM_linear' or name == 'SVM_RBF':\n",
    "                yh = model(Xn,zn,0.01,Xtn)\n",
    "                \n",
    "            elif name == 'nmeans':\n",
    "                yh = model(Xn,yn,Xtn)\n",
    "                \n",
    "            elif name == 'Perceptron' or name == 'MSE':\n",
    "                yh = model(dfsn,Xtn)\n",
    "                \n",
    "            elif name == 'Bayes':\n",
    "                yh = model(dfn,Xn,yn,Xtn)\n",
    "                \n",
    "            else:\n",
    "                print('Enter Valid Model')\n",
    "                \n",
    "        except:\n",
    "            pass\n",
    "        \n",
    "        acc = accuracy(yh,ytn)\n",
    "        #print(f'{i} = {accuracy(yh,ytn)}')\n",
    "        if acc > desired_acc:\n",
    "            feat.append(i)\n",
    "    feat.append('Classes')\n",
    "    return feat"
   ]
  },
  {
   "cell_type": "code",
   "execution_count": 106,
   "id": "57fb7a5b",
   "metadata": {
    "scrolled": true
   },
   "outputs": [],
   "source": [
    "def acc_feat_sel(feat,df,df_t,model,name):\n",
    "    dfn = df[feat]\n",
    "    dfnt = df_t[feat]\n",
    "    dfsn = dfn.values\n",
    "    Xn = dfn.iloc[:,:-1].values\n",
    "    yn = dfn.iloc[:,-1].values\n",
    "    zn = get_z(yn)\n",
    "    Xtn = dfnt.iloc[:,:-1].values\n",
    "    ytn = dfnt.iloc[:,-1].values\n",
    "    \n",
    "    if name == 'SVM_linear' or name == 'SVM_RBF':\n",
    "        yh = model(Xn,zn,0.01,Xtn)\n",
    "\n",
    "    elif name == 'nmeans':\n",
    "        yh = model(Xn,yn,Xtn)\n",
    "\n",
    "    elif name == 'Perceptron' or name == 'MSE':\n",
    "        yh = model(dfsn,Xtn)\n",
    "\n",
    "    elif name == 'Bayes':\n",
    "        yh = model(dfn,Xn,yn,Xtn)\n",
    "\n",
    "    else:\n",
    "        print('Enter Valid Model')\n",
    "    scores(yh,ytn,'Test Set')"
   ]
  },
  {
   "cell_type": "markdown",
   "id": "7ed14297",
   "metadata": {},
   "source": [
    "### N means"
   ]
  },
  {
   "cell_type": "code",
   "execution_count": 104,
   "id": "acc7ee14",
   "metadata": {
    "scrolled": true
   },
   "outputs": [
    {
     "name": "stdout",
     "output_type": "stream",
     "text": [
      "Temperature = 0.65\n",
      "RH = 0.6\n",
      "Ws = 0.5166666666666667\n",
      "Rain = 0.6833333333333333\n",
      "FFMC = 0.6666666666666666\n",
      "DMC = 0.7666666666666667\n",
      "DC = 0.8\n",
      "ISI = 0.8833333333333333\n",
      "BUI = 0.7333333333333333\n",
      "Avg Temperature - 7 = 0.6166666666666667\n",
      "Avg RH - 7 = 0.6166666666666667\n",
      "Avg Ws - 7 = 0.5166666666666667\n",
      "Avg Rain - 7 = 0.55\n",
      "Max Temperature - 7 = 0.55\n",
      "Max RH - 7 = 0.65\n",
      "Max Ws - 7 = 0.5166666666666667\n",
      "Max Rain - 7 = 0.55\n",
      "Min Temperature - 7 = 0.6166666666666667\n",
      "Min RH - 7 = 0.5833333333333334\n",
      "Min Ws - 7 = 0.6166666666666667\n",
      "Min Rain - 7 = 0.55\n",
      "Median Temperature - 7 = 0.65\n",
      "Median RH - 7 = 0.5166666666666667\n",
      "Median Ws - 7 = 0.55\n",
      "Median Rain - 7 = 0.5833333333333334\n",
      "Avg Temperature - 5 = 0.65\n",
      "Avg RH - 5 = 0.65\n",
      "Avg Ws - 5 = 0.5166666666666667\n",
      "Avg Rain - 5 = 0.5833333333333334\n",
      "Max Temperature - 5 = 0.6166666666666667\n",
      "Max RH - 5 = 0.7166666666666667\n",
      "Max Ws - 5 = 0.45\n",
      "Max Rain - 5 = 0.5833333333333334\n",
      "Min Temperature - 5 = 0.6166666666666667\n",
      "Min RH - 5 = 0.6166666666666667\n",
      "Min Ws - 5 = 0.48333333333333334\n",
      "Min Rain - 5 = 0.55\n",
      "Median Temperature - 5 = 0.6833333333333333\n",
      "Median RH - 5 = 0.6166666666666667\n",
      "Median Ws - 5 = 0.55\n",
      "Median Rain - 5 = 0.55\n",
      "Avg Temperature - 2 = 0.6833333333333333\n",
      "Avg RH - 2 = 0.6166666666666667\n",
      "Avg Ws - 2 = 0.5166666666666667\n",
      "Avg Rain - 2 = 0.6833333333333333\n",
      "Max Temperature - 2 = 0.6833333333333333\n",
      "Max RH - 2 = 0.65\n",
      "Max Ws - 2 = 0.45\n",
      "Max Rain - 2 = 0.6833333333333333\n",
      "Min Temperature - 2 = 0.6833333333333333\n",
      "Min RH - 2 = 0.65\n",
      "Min Ws - 2 = 0.5166666666666667\n",
      "Min Rain - 2 = 0.48333333333333334\n",
      "Median Temperature - 2 = 0.7166666666666667\n",
      "Median RH - 2 = 0.5833333333333334\n",
      "Median Ws - 2 = 0.48333333333333334\n",
      "Median Rain - 2 = 0.5833333333333334\n"
     ]
    }
   ],
   "source": [
    "feat = fet_sel_acc(dfex,dfext,nmeans,'nmeans',0.65)"
   ]
  },
  {
   "cell_type": "code",
   "execution_count": 107,
   "id": "ab8c7c99",
   "metadata": {
    "scrolled": true
   },
   "outputs": [
    {
     "name": "stdout",
     "output_type": "stream",
     "text": [
      "Test Set Accuracy = 0.8333333333333334\n",
      " F1 Score = 0.75\n",
      "\n",
      "Confusion Matrix\n"
     ]
    },
    {
     "data": {
      "image/png": "[encoded data removed]",
      "text/plain": [
       "<Figure size 144x144 with 2 Axes>"
      ]
     },
     "metadata": {},
     "output_type": "display_data"
    }
   ],
   "source": [
    "acc_feat_sel(feat,dfex,dfext,nmeans,'nmeans')"
   ]
  },
  {
   "cell_type": "markdown",
   "id": "6a711eac",
   "metadata": {},
   "source": [
    "### MSE"
   ]
  },
  {
   "cell_type": "code",
   "execution_count": 108,
   "id": "068706ca",
   "metadata": {
    "scrolled": true
   },
   "outputs": [],
   "source": [
    "feat = fet_sel_acc(dfex,dfext,MSE,'MSE',0.7)"
   ]
  },
  {
   "cell_type": "code",
   "execution_count": 109,
   "id": "e8dfc5ca",
   "metadata": {},
   "outputs": [
    {
     "name": "stdout",
     "output_type": "stream",
     "text": [
      "Test Set Accuracy = 0.6166666666666667\n",
      " F1 Score = 0.0\n",
      "\n",
      "Confusion Matrix\n"
     ]
    },
    {
     "data": {
      "image/png": "[encoded data removed]",
      "text/plain": [
       "<Figure size 144x144 with 2 Axes>"
      ]
     },
     "metadata": {},
     "output_type": "display_data"
    }
   ],
   "source": [
    "acc_feat_sel(feat,dfex,dfext,MSE,'MSE')"
   ]
  },
  {
   "cell_type": "markdown",
   "id": "05c30566",
   "metadata": {},
   "source": [
    "### Bayes"
   ]
  },
  {
   "cell_type": "markdown",
   "id": "67312da3",
   "metadata": {},
   "source": [
    "This is most reliable and best model among the others, with accuracy 88.33% and F1-score of 0.844, it is a bit lower than the perceptron model with pearsons feature selection but is more reliable."
   ]
  },
  {
   "cell_type": "code",
   "execution_count": 835,
   "id": "a631f419",
   "metadata": {
    "scrolled": true
   },
   "outputs": [],
   "source": [
    "feat = fet_sel_acc(dfex,dfext,Bayes,'Bayes',0.65)"
   ]
  },
  {
   "cell_type": "code",
   "execution_count": 836,
   "id": "427a5990",
   "metadata": {},
   "outputs": [
    {
     "name": "stdout",
     "output_type": "stream",
     "text": [
      "Test Set Accuracy = 0.8833333333333333\n",
      " F1 Score = 0.8444444444444444\n",
      "\n",
      "Confusion Matrix\n"
     ]
    },
    {
     "data": {
      "image/png": "[encoded data removed]",
      "text/plain": [
       "<Figure size 432x288 with 2 Axes>"
      ]
     },
     "metadata": {
      "needs_background": "light"
     },
     "output_type": "display_data"
    }
   ],
   "source": [
    "acc_feat_sel(feat,dfex,dfext,Bayes,'Bayes')"
   ]
  },
  {
   "cell_type": "markdown",
   "id": "58728056",
   "metadata": {},
   "source": [
    "### SVM Linear"
   ]
  },
  {
   "cell_type": "code",
   "execution_count": 110,
   "id": "354177a1",
   "metadata": {
    "scrolled": true
   },
   "outputs": [],
   "source": [
    "feat = fet_sel_acc(dfex,dfext,SVM_linear,'SVM_linear',0.71)"
   ]
  },
  {
   "cell_type": "code",
   "execution_count": 111,
   "id": "1039076e",
   "metadata": {},
   "outputs": [
    {
     "name": "stdout",
     "output_type": "stream",
     "text": [
      "Test Set Accuracy = 0.5\n",
      " F1 Score = 0.39999999999999997\n",
      "\n",
      "Confusion Matrix\n"
     ]
    },
    {
     "data": {
      "image/png": "[encoded data removed]",
      "text/plain": [
       "<Figure size 144x144 with 2 Axes>"
      ]
     },
     "metadata": {},
     "output_type": "display_data"
    }
   ],
   "source": [
    "acc_feat_sel(feat,dfex,dfext,SVM_linear,'SVM_linear')"
   ]
  },
  {
   "cell_type": "markdown",
   "id": "798940b3",
   "metadata": {},
   "source": [
    "### SVM RBF"
   ]
  },
  {
   "cell_type": "code",
   "execution_count": 112,
   "id": "41296bc2",
   "metadata": {
    "scrolled": true
   },
   "outputs": [],
   "source": [
    "feat = fet_sel_acc(dfex,dfext,SVM_RBF,'SVM_RBF',0.71)"
   ]
  },
  {
   "cell_type": "code",
   "execution_count": 113,
   "id": "4f91a0ae",
   "metadata": {},
   "outputs": [
    {
     "name": "stdout",
     "output_type": "stream",
     "text": [
      "Test Set Accuracy = 0.7833333333333333\n",
      " F1 Score = 0.711111111111111\n",
      "\n",
      "Confusion Matrix\n"
     ]
    },
    {
     "data": {
      "image/png": "[encoded data removed]",
      "text/plain": [
       "<Figure size 144x144 with 2 Axes>"
      ]
     },
     "metadata": {},
     "output_type": "display_data"
    }
   ],
   "source": [
    "acc_feat_sel(feat,dfex,dfext,SVM_RBF,'SVM_RBF')"
   ]
  },
  {
   "cell_type": "markdown",
   "id": "c8acb935",
   "metadata": {},
   "source": [
    "### Perceptron"
   ]
  },
  {
   "cell_type": "code",
   "execution_count": 117,
   "id": "31e56091",
   "metadata": {
    "scrolled": true
   },
   "outputs": [],
   "source": [
    "feat = fet_sel_acc(dfex,dfext,Perceptron,'Perceptron',0.65)"
   ]
  },
  {
   "cell_type": "code",
   "execution_count": 118,
   "id": "e6f45a85",
   "metadata": {},
   "outputs": [
    {
     "name": "stdout",
     "output_type": "stream",
     "text": [
      "Test Set Accuracy = 0.8333333333333334\n",
      " F1 Score = 0.7727272727272727\n",
      "\n",
      "Confusion Matrix\n"
     ]
    },
    {
     "data": {
      "image/png": "[encoded data removed]",
      "text/plain": [
       "<Figure size 144x144 with 2 Axes>"
      ]
     },
     "metadata": {},
     "output_type": "display_data"
    }
   ],
   "source": [
    "acc_feat_sel(feat,dfex,dfext,Perceptron,'Perceptron')"
   ]
  },
  {
   "cell_type": "markdown",
   "id": "2dff19fe",
   "metadata": {},
   "source": [
    "# Performing Normalization and Standardization on best models after feature selection to see if there is improvement or deterioration"
   ]
  },
  {
   "cell_type": "markdown",
   "id": "270b5499",
   "metadata": {},
   "source": [
    "## Normalization"
   ]
  },
  {
   "cell_type": "code",
   "execution_count": 119,
   "id": "ff70259e",
   "metadata": {},
   "outputs": [],
   "source": [
    "ndf = dfex[:]\n",
    "for i in dfex.columns:\n",
    "    if i == 'Date' or i == 'Classes':\n",
    "        continue\n",
    "    ndf[i] = (ndf[i]-ndf[i].min())/(ndf[i].max()-ndf[i].min())"
   ]
  },
  {
   "cell_type": "code",
   "execution_count": 120,
   "id": "ff378c55",
   "metadata": {},
   "outputs": [],
   "source": [
    "ndft = dfext[:]\n",
    "for i in dfext.columns:\n",
    "    if i == 'Date' or i == 'Classes':\n",
    "        continue\n",
    "    ndft[i] = (ndft[i]-ndft[i].min())/(ndft[i].max()-ndft[i].min())"
   ]
  },
  {
   "cell_type": "markdown",
   "id": "01f3bb49",
   "metadata": {},
   "source": [
    "### N means Accuracy feature selection"
   ]
  },
  {
   "cell_type": "code",
   "execution_count": 121,
   "id": "ebde89f0",
   "metadata": {
    "scrolled": true
   },
   "outputs": [],
   "source": [
    "feat = fet_sel_acc(ndf,ndft,nmeans,'nmeans',0.65)"
   ]
  },
  {
   "cell_type": "code",
   "execution_count": 122,
   "id": "9b35ca1c",
   "metadata": {},
   "outputs": [
    {
     "name": "stdout",
     "output_type": "stream",
     "text": [
      "Test Set Accuracy = 0.8166666666666667\n",
      " F1 Score = 0.7555555555555555\n",
      "\n",
      "Confusion Matrix\n"
     ]
    },
    {
     "data": {
      "image/png": "[encoded data removed]",
      "text/plain": [
       "<Figure size 144x144 with 2 Axes>"
      ]
     },
     "metadata": {},
     "output_type": "display_data"
    }
   ],
   "source": [
    "acc_feat_sel(feat,ndf,ndft,nmeans,'nmeans')"
   ]
  },
  {
   "cell_type": "markdown",
   "id": "8a08c2f2",
   "metadata": {},
   "source": [
    "### Bayes Accuracy feature selection"
   ]
  },
  {
   "cell_type": "code",
   "execution_count": 123,
   "id": "802c3fe1",
   "metadata": {
    "scrolled": true
   },
   "outputs": [],
   "source": [
    "feat = fet_sel_acc(ndf,ndft,Bayes,'Bayes',0.65)"
   ]
  },
  {
   "cell_type": "code",
   "execution_count": 124,
   "id": "ee4409f4",
   "metadata": {
    "scrolled": true
   },
   "outputs": [
    {
     "name": "stdout",
     "output_type": "stream",
     "text": [
      "Test Set Accuracy = 0.8\n",
      " F1 Score = 0.7777777777777777\n",
      "\n",
      "Confusion Matrix\n"
     ]
    },
    {
     "data": {
      "image/png": "[encoded data removed]",
      "text/plain": [
       "<Figure size 144x144 with 2 Axes>"
      ]
     },
     "metadata": {},
     "output_type": "display_data"
    }
   ],
   "source": [
    "acc_feat_sel(feat,ndf,ndft,Bayes,'Bayes')"
   ]
  },
  {
   "cell_type": "markdown",
   "id": "f374ca35",
   "metadata": {},
   "source": [
    "### Perceptron Accuracy feature selection"
   ]
  },
  {
   "cell_type": "code",
   "execution_count": 125,
   "id": "4bdb9982",
   "metadata": {
    "scrolled": true
   },
   "outputs": [],
   "source": [
    "feat = fet_sel_acc(ndf,ndft,Perceptron,'Perceptron',0.65)"
   ]
  },
  {
   "cell_type": "code",
   "execution_count": 126,
   "id": "32754f02",
   "metadata": {
    "scrolled": true
   },
   "outputs": [
    {
     "name": "stdout",
     "output_type": "stream",
     "text": [
      "Test Set Accuracy = 0.75\n",
      " F1 Score = 0.7457627118644068\n",
      "\n",
      "Confusion Matrix\n"
     ]
    },
    {
     "data": {
      "image/png": "[encoded data removed]",
      "text/plain": [
       "<Figure size 144x144 with 2 Axes>"
      ]
     },
     "metadata": {},
     "output_type": "display_data"
    }
   ],
   "source": [
    "acc_feat_sel(feat,ndf,ndft,Perceptron,'Perceptron')"
   ]
  },
  {
   "cell_type": "code",
   "execution_count": 127,
   "id": "3f35cf71",
   "metadata": {},
   "outputs": [],
   "source": [
    "cols = pcc_fea_sel(ndf,0.33)\n",
    "\n",
    "dfn = ndf[cols]\n",
    "dfnt = ndft[cols]\n",
    "\n",
    "dfsn = dfn.values\n",
    "Xn = dfn.iloc[:,:-1].values\n",
    "yn = dfn.iloc[:,-1].values\n",
    "zn = get_z(yn)\n",
    "Xtn = dfnt.iloc[:,:-1].values\n",
    "ytn = dfnt.iloc[:,-1].values"
   ]
  },
  {
   "cell_type": "markdown",
   "id": "5cca1b4b",
   "metadata": {},
   "source": [
    "### N means Pearson feature selection"
   ]
  },
  {
   "cell_type": "code",
   "execution_count": 128,
   "id": "e050ebdd",
   "metadata": {
    "scrolled": true
   },
   "outputs": [
    {
     "name": "stdout",
     "output_type": "stream",
     "text": [
      "Test Set Accuracy = 0.7166666666666667\n",
      " F1 Score = 0.7017543859649124\n",
      "\n",
      "Confusion Matrix\n"
     ]
    },
    {
     "data": {
      "image/png": "[encoded data removed]",
      "text/plain": [
       "<Figure size 144x144 with 2 Axes>"
      ]
     },
     "metadata": {},
     "output_type": "display_data"
    }
   ],
   "source": [
    "yhnme = nmeans(Xn,yn,Xtn)\n",
    "scores(ytn,yhnme,'Test Set')"
   ]
  },
  {
   "cell_type": "markdown",
   "id": "76619ed4",
   "metadata": {},
   "source": [
    "### Perceptron Pearson feature selection"
   ]
  },
  {
   "cell_type": "code",
   "execution_count": 129,
   "id": "f0f920d6",
   "metadata": {
    "scrolled": true
   },
   "outputs": [
    {
     "name": "stdout",
     "output_type": "stream",
     "text": [
      "Test Set Accuracy = 0.65\n",
      " F1 Score = 0.6769230769230768\n",
      "\n",
      "Confusion Matrix\n"
     ]
    },
    {
     "data": {
      "image/png": "[encoded data removed]",
      "text/plain": [
       "<Figure size 144x144 with 2 Axes>"
      ]
     },
     "metadata": {},
     "output_type": "display_data"
    }
   ],
   "source": [
    "yhpc = Perceptron(dfsn,Xtn)\n",
    "scores(yhpc,ytn,'Test Set')"
   ]
  },
  {
   "cell_type": "markdown",
   "id": "8a06e14d",
   "metadata": {},
   "source": [
    "## Standardiation"
   ]
  },
  {
   "cell_type": "code",
   "execution_count": 130,
   "id": "631ccbee",
   "metadata": {},
   "outputs": [],
   "source": [
    "sdf = dfex.iloc[:]\n",
    "for i in dfex.columns:\n",
    "    if i == 'Date' or i == 'Classes':\n",
    "        continue\n",
    "    sdf[i] = (dfex[i]-dfex[i].mean())/(dfex[i].std())"
   ]
  },
  {
   "cell_type": "code",
   "execution_count": 131,
   "id": "f006a67d",
   "metadata": {},
   "outputs": [],
   "source": [
    "sdft = dfext[:]\n",
    "for i in dfext.columns:\n",
    "    if i == 'Date' or i == 'Classes':\n",
    "        continue\n",
    "    sdft[i] = (dfext[i]-dfext[i].mean())/(dfext[i].std())"
   ]
  },
  {
   "cell_type": "markdown",
   "id": "27a06878",
   "metadata": {},
   "source": [
    "### N means Accuracy feature selection"
   ]
  },
  {
   "cell_type": "code",
   "execution_count": 132,
   "id": "e729618c",
   "metadata": {
    "scrolled": true
   },
   "outputs": [],
   "source": [
    "feat = fet_sel_acc(sdf,sdft,nmeans,'nmeans',0.65)"
   ]
  },
  {
   "cell_type": "code",
   "execution_count": 133,
   "id": "a9398dcb",
   "metadata": {},
   "outputs": [
    {
     "name": "stdout",
     "output_type": "stream",
     "text": [
      "Test Set Accuracy = 0.85\n",
      " F1 Score = 0.8085106382978724\n",
      "\n",
      "Confusion Matrix\n"
     ]
    },
    {
     "data": {
      "image/png": "[encoded data removed]",
      "text/plain": [
       "<Figure size 144x144 with 2 Axes>"
      ]
     },
     "metadata": {},
     "output_type": "display_data"
    }
   ],
   "source": [
    "acc_feat_sel(feat,sdf,sdft,nmeans,'nmeans')"
   ]
  },
  {
   "cell_type": "markdown",
   "id": "42d8638a",
   "metadata": {},
   "source": [
    "### Bayes Accuracy feature selection"
   ]
  },
  {
   "cell_type": "code",
   "execution_count": 134,
   "id": "09a281f3",
   "metadata": {
    "scrolled": true
   },
   "outputs": [],
   "source": [
    "feat = fet_sel_acc(sdf,sdft,Bayes,'Bayes',0.65)"
   ]
  },
  {
   "cell_type": "code",
   "execution_count": 135,
   "id": "29ec5de9",
   "metadata": {},
   "outputs": [
    {
     "name": "stdout",
     "output_type": "stream",
     "text": [
      "Test Set Accuracy = 0.8\n",
      " F1 Score = 0.7931034482758621\n",
      "\n",
      "Confusion Matrix\n"
     ]
    },
    {
     "data": {
      "image/png": "[encoded data removed]",
      "text/plain": [
       "<Figure size 144x144 with 2 Axes>"
      ]
     },
     "metadata": {},
     "output_type": "display_data"
    }
   ],
   "source": [
    "acc_feat_sel(feat,sdf,sdft,Bayes,'Bayes')"
   ]
  },
  {
   "cell_type": "markdown",
   "id": "7b75fd7b",
   "metadata": {},
   "source": [
    "### Perceptron Accuracy selection"
   ]
  },
  {
   "cell_type": "code",
   "execution_count": 136,
   "id": "23f42c59",
   "metadata": {
    "scrolled": true
   },
   "outputs": [],
   "source": [
    "feat = fet_sel_acc(sdf,sdft,Perceptron,'Perceptron',0.65)"
   ]
  },
  {
   "cell_type": "code",
   "execution_count": 137,
   "id": "ef6a09d7",
   "metadata": {},
   "outputs": [
    {
     "name": "stdout",
     "output_type": "stream",
     "text": [
      "Test Set Accuracy = 0.7666666666666667\n",
      " F1 Score = 0.75\n",
      "\n",
      "Confusion Matrix\n"
     ]
    },
    {
     "data": {
      "image/png": "[encoded data removed]",
      "text/plain": [
       "<Figure size 144x144 with 2 Axes>"
      ]
     },
     "metadata": {},
     "output_type": "display_data"
    }
   ],
   "source": [
    "acc_feat_sel(feat,sdf,sdft,Perceptron,'Perceptron')"
   ]
  },
  {
   "cell_type": "code",
   "execution_count": 138,
   "id": "39a79e5a",
   "metadata": {},
   "outputs": [],
   "source": [
    "cols = pcc_fea_sel(sdf,0.33)\n",
    "\n",
    "dfn = sdf[cols]\n",
    "dfnt = sdft[cols]\n",
    "\n",
    "dfsn = dfn.values\n",
    "Xn = dfn.iloc[:,:-1].values\n",
    "yn = dfn.iloc[:,-1].values\n",
    "zn = get_z(yn)\n",
    "Xtn = dfnt.iloc[:,:-1].values\n",
    "ytn = dfnt.iloc[:,-1].values"
   ]
  },
  {
   "cell_type": "markdown",
   "id": "e5e2cd85",
   "metadata": {},
   "source": [
    "### N means Pearson feature selection"
   ]
  },
  {
   "cell_type": "code",
   "execution_count": 139,
   "id": "08495e34",
   "metadata": {},
   "outputs": [
    {
     "name": "stdout",
     "output_type": "stream",
     "text": [
      "Test Set Accuracy = 0.7333333333333333\n",
      " F1 Score = 0.7142857142857143\n",
      "\n",
      "Confusion Matrix\n"
     ]
    },
    {
     "data": {
      "image/png": "[encoded data removed]",
      "text/plain": [
       "<Figure size 144x144 with 2 Axes>"
      ]
     },
     "metadata": {},
     "output_type": "display_data"
    }
   ],
   "source": [
    "yhnme = nmeans(Xn,yn,Xtn)\n",
    "scores(ytn,yhnme,'Test Set')"
   ]
  },
  {
   "cell_type": "markdown",
   "id": "1c219182",
   "metadata": {},
   "source": [
    "### Perceptron Pearson selection"
   ]
  },
  {
   "cell_type": "code",
   "execution_count": 140,
   "id": "0850c279",
   "metadata": {
    "scrolled": false
   },
   "outputs": [
    {
     "name": "stdout",
     "output_type": "stream",
     "text": [
      "Test Set Accuracy = 0.7166666666666667\n",
      " F1 Score = 0.721311475409836\n",
      "\n",
      "Confusion Matrix\n"
     ]
    },
    {
     "data": {
      "image/png": "[encoded data removed]",
      "text/plain": [
       "<Figure size 144x144 with 2 Axes>"
      ]
     },
     "metadata": {},
     "output_type": "display_data"
    }
   ],
   "source": [
    "yhpc = Perceptron(dfsn,Xtn)\n",
    "scores(yhpc,ytn,'Test Set')"
   ]
  },
  {
   "cell_type": "markdown",
   "id": "9a0cddfa",
   "metadata": {},
   "source": [
    "As we can see normalizing or standardizing the best models reduced the accuracy so I would not be performing those tweaks."
   ]
  },
  {
   "cell_type": "markdown",
   "id": "0cd8ee24",
   "metadata": {},
   "source": [
    "# Summary"
   ]
  },
  {
   "cell_type": "code",
   "execution_count": 141,
   "id": "718ed0d3",
   "metadata": {},
   "outputs": [],
   "source": [
    "vcv = [[0.933,0.955,0.933,0.955,0.866,0.933],[0.964,0.976,0.962,0.976,0.923,0.964]]\n",
    "dvcv=pd.DataFrame(vcv, columns=['N means','Bayes','Perceptron','MSE','SVM Linear','SVM RBF'],index=['Accuracy','F1 Score'])\n",
    "tcv = [[0.8,0.866,0.833,0.833,0.516,0.8],[0.739,0.84,0.744,0.756,0.597,0.76]]\n",
    "dtcv = pd.DataFrame(tcv, columns=['N means','Bayes','Perceptron','MSE','SVM Linear','SVM RBF'],index=['Accuracy','F1 Score'])\n",
    "t = [[0.783,0.866,0.85,0.866,0.783,0.833],[0.628,0.846,0.808,0.755,0.666,0.807]]\n",
    "dt = pd.DataFrame(t, columns=['N means','Bayes','Perceptron','MSE','SVM Linear','SVM RBF'],index=['Accuracy','F1 Score'])\n",
    "vcve = [[0.928,'na',0.57,0.714,0.692,0.928],[0.962,'na',0.916,0.833,0.782,0.962]]\n",
    "dvcve = pd.DataFrame(vcve, columns=['N means','Bayes','Perceptron','MSE','SVM Linear','SVM RBF'],index=['Accuracy','F1 Score'])\n",
    "tcve = [[0.816,'na',0.816,0.483,0.716,0.833],[0.744,'na',0.784,0.311,0.585,0.799]]\n",
    "dtcve = pd.DataFrame(tcve, columns=['N means','Bayes','Perceptron','MSE','SVM Linear','SVM RBF'],index=['Accuracy','F1 Score'])\n",
    "te = [[0.8,0.416,0.866,0.45,0.45,0.85],[0.684,0.567,0.84,0.326,0.297,0.823]]\n",
    "dte = pd.DataFrame(te, columns=['N means','Bayes','Perceptron','MSE','SVM Linear','SVM RBF'],index=['Accuracy','F1 Score'])\n",
    "pc = [[0.833,0.75,0.916,0.95,0.233,0.783],[.75,0.666,0.888,0.92,0.206,0.763]]\n",
    "dpc = pd.DataFrame(pc, columns=['N means','Bayes','Perceptron','MSE','SVM Linear','SVM RBF'],index=['Accuracy','F1 Score'])\n",
    "afs = [[0.833,0.883,0.8,0.616,0.5,0.783],[0.75,0.844,0.749,0.0,0.399,0.711]]\n",
    "dafs = pd.DataFrame(afs, columns=['N means','Bayes','Perceptron','MSE','SVM Linear','SVM RBF'],index=['Accuracy','F1 Score'])\n",
    "nor = [[0.816,0.8,0.85,0.716,0.716],[0.755,0.777,0.823,0.701,0.730]]\n",
    "dnor = pd.DataFrame(nor, columns=['N means Acc','Bayes Acc','Perceptron Acc','N means Pea','Perceptron Pea'],index=['Accuracy','F1 Score'])\n",
    "std = [[0.85,0.8,0.766,0.733,0.733],[0.808,0.793,0.766,0.714,0.733]]\n",
    "dstd = pd.DataFrame(std, columns=['N means Acc','Bayes Acc','Perceptron Acc','N means Pea','Perceptron Pea'],index=['Accuracy','F1 Score'])"
   ]
  },
  {
   "cell_type": "markdown",
   "id": "47d640f5",
   "metadata": {},
   "source": [
    "## Below is the accuracy and F1 score I have got for various models, for various tuning and parameters"
   ]
  },
  {
   "cell_type": "markdown",
   "id": "241f788a",
   "metadata": {},
   "source": [
    "### Validation Set accoracy and F1 score on base dataset"
   ]
  },
  {
   "cell_type": "code",
   "execution_count": 142,
   "id": "0559e975",
   "metadata": {},
   "outputs": [
    {
     "data": {
      "text/html": [
       "<div>\n",
       "<style scoped>\n",
       "    .dataframe tbody tr th:only-of-type {\n",
       "        vertical-align: middle;\n",
       "    }\n",
       "\n",
       "    .dataframe tbody tr th {\n",
       "        vertical-align: top;\n",
       "    }\n",
       "\n",
       "    .dataframe thead th {\n",
       "        text-align: right;\n",
       "    }\n",
       "</style>\n",
       "<table border=\"1\" class=\"dataframe\">\n",
       "  <thead>\n",
       "    <tr style=\"text-align: right;\">\n",
       "      <th></th>\n",
       "      <th>N means</th>\n",
       "      <th>Bayes</th>\n",
       "      <th>Perceptron</th>\n",
       "      <th>MSE</th>\n",
       "      <th>SVM Linear</th>\n",
       "      <th>SVM RBF</th>\n",
       "    </tr>\n",
       "  </thead>\n",
       "  <tbody>\n",
       "    <tr>\n",
       "      <th>Accuracy</th>\n",
       "      <td>0.933</td>\n",
       "      <td>0.955</td>\n",
       "      <td>0.933</td>\n",
       "      <td>0.955</td>\n",
       "      <td>0.866</td>\n",
       "      <td>0.933</td>\n",
       "    </tr>\n",
       "    <tr>\n",
       "      <th>F1 Score</th>\n",
       "      <td>0.964</td>\n",
       "      <td>0.976</td>\n",
       "      <td>0.962</td>\n",
       "      <td>0.976</td>\n",
       "      <td>0.923</td>\n",
       "      <td>0.964</td>\n",
       "    </tr>\n",
       "  </tbody>\n",
       "</table>\n",
       "</div>"
      ],
      "text/plain": [
       "          N means  Bayes  Perceptron    MSE  SVM Linear  SVM RBF\n",
       "Accuracy    0.933  0.955       0.933  0.955       0.866    0.933\n",
       "F1 Score    0.964  0.976       0.962  0.976       0.923    0.964"
      ]
     },
     "execution_count": 142,
     "metadata": {},
     "output_type": "execute_result"
    }
   ],
   "source": [
    "dvcv"
   ]
  },
  {
   "cell_type": "markdown",
   "id": "e27675ae",
   "metadata": {},
   "source": [
    "### Test set accuracy and F1 score after spliting into train and validation set"
   ]
  },
  {
   "cell_type": "code",
   "execution_count": 143,
   "id": "086f1910",
   "metadata": {},
   "outputs": [
    {
     "data": {
      "text/html": [
       "<div>\n",
       "<style scoped>\n",
       "    .dataframe tbody tr th:only-of-type {\n",
       "        vertical-align: middle;\n",
       "    }\n",
       "\n",
       "    .dataframe tbody tr th {\n",
       "        vertical-align: top;\n",
       "    }\n",
       "\n",
       "    .dataframe thead th {\n",
       "        text-align: right;\n",
       "    }\n",
       "</style>\n",
       "<table border=\"1\" class=\"dataframe\">\n",
       "  <thead>\n",
       "    <tr style=\"text-align: right;\">\n",
       "      <th></th>\n",
       "      <th>N means</th>\n",
       "      <th>Bayes</th>\n",
       "      <th>Perceptron</th>\n",
       "      <th>MSE</th>\n",
       "      <th>SVM Linear</th>\n",
       "      <th>SVM RBF</th>\n",
       "    </tr>\n",
       "  </thead>\n",
       "  <tbody>\n",
       "    <tr>\n",
       "      <th>Accuracy</th>\n",
       "      <td>0.800</td>\n",
       "      <td>0.866</td>\n",
       "      <td>0.833</td>\n",
       "      <td>0.833</td>\n",
       "      <td>0.516</td>\n",
       "      <td>0.80</td>\n",
       "    </tr>\n",
       "    <tr>\n",
       "      <th>F1 Score</th>\n",
       "      <td>0.739</td>\n",
       "      <td>0.840</td>\n",
       "      <td>0.744</td>\n",
       "      <td>0.756</td>\n",
       "      <td>0.597</td>\n",
       "      <td>0.76</td>\n",
       "    </tr>\n",
       "  </tbody>\n",
       "</table>\n",
       "</div>"
      ],
      "text/plain": [
       "          N means  Bayes  Perceptron    MSE  SVM Linear  SVM RBF\n",
       "Accuracy    0.800  0.866       0.833  0.833       0.516     0.80\n",
       "F1 Score    0.739  0.840       0.744  0.756       0.597     0.76"
      ]
     },
     "execution_count": 143,
     "metadata": {},
     "output_type": "execute_result"
    }
   ],
   "source": [
    "dtcv"
   ]
  },
  {
   "cell_type": "markdown",
   "id": "392def1a",
   "metadata": {},
   "source": [
    "### Test Set accuracy and f1 score after training on entire train set (no split)"
   ]
  },
  {
   "cell_type": "code",
   "execution_count": 144,
   "id": "7b89afa5",
   "metadata": {},
   "outputs": [
    {
     "data": {
      "text/html": [
       "<div>\n",
       "<style scoped>\n",
       "    .dataframe tbody tr th:only-of-type {\n",
       "        vertical-align: middle;\n",
       "    }\n",
       "\n",
       "    .dataframe tbody tr th {\n",
       "        vertical-align: top;\n",
       "    }\n",
       "\n",
       "    .dataframe thead th {\n",
       "        text-align: right;\n",
       "    }\n",
       "</style>\n",
       "<table border=\"1\" class=\"dataframe\">\n",
       "  <thead>\n",
       "    <tr style=\"text-align: right;\">\n",
       "      <th></th>\n",
       "      <th>N means</th>\n",
       "      <th>Bayes</th>\n",
       "      <th>Perceptron</th>\n",
       "      <th>MSE</th>\n",
       "      <th>SVM Linear</th>\n",
       "      <th>SVM RBF</th>\n",
       "    </tr>\n",
       "  </thead>\n",
       "  <tbody>\n",
       "    <tr>\n",
       "      <th>Accuracy</th>\n",
       "      <td>0.783</td>\n",
       "      <td>0.866</td>\n",
       "      <td>0.850</td>\n",
       "      <td>0.866</td>\n",
       "      <td>0.783</td>\n",
       "      <td>0.833</td>\n",
       "    </tr>\n",
       "    <tr>\n",
       "      <th>F1 Score</th>\n",
       "      <td>0.628</td>\n",
       "      <td>0.846</td>\n",
       "      <td>0.808</td>\n",
       "      <td>0.755</td>\n",
       "      <td>0.666</td>\n",
       "      <td>0.807</td>\n",
       "    </tr>\n",
       "  </tbody>\n",
       "</table>\n",
       "</div>"
      ],
      "text/plain": [
       "          N means  Bayes  Perceptron    MSE  SVM Linear  SVM RBF\n",
       "Accuracy    0.783  0.866       0.850  0.866       0.783    0.833\n",
       "F1 Score    0.628  0.846       0.808  0.755       0.666    0.807"
      ]
     },
     "execution_count": 144,
     "metadata": {},
     "output_type": "execute_result"
    }
   ],
   "source": [
    "dt"
   ]
  },
  {
   "cell_type": "markdown",
   "id": "593333c3",
   "metadata": {},
   "source": [
    "### Validation set accuracy and f1 score after expanding feature set"
   ]
  },
  {
   "cell_type": "code",
   "execution_count": 145,
   "id": "686ddb42",
   "metadata": {},
   "outputs": [
    {
     "data": {
      "text/html": [
       "<div>\n",
       "<style scoped>\n",
       "    .dataframe tbody tr th:only-of-type {\n",
       "        vertical-align: middle;\n",
       "    }\n",
       "\n",
       "    .dataframe tbody tr th {\n",
       "        vertical-align: top;\n",
       "    }\n",
       "\n",
       "    .dataframe thead th {\n",
       "        text-align: right;\n",
       "    }\n",
       "</style>\n",
       "<table border=\"1\" class=\"dataframe\">\n",
       "  <thead>\n",
       "    <tr style=\"text-align: right;\">\n",
       "      <th></th>\n",
       "      <th>N means</th>\n",
       "      <th>Bayes</th>\n",
       "      <th>Perceptron</th>\n",
       "      <th>MSE</th>\n",
       "      <th>SVM Linear</th>\n",
       "      <th>SVM RBF</th>\n",
       "    </tr>\n",
       "  </thead>\n",
       "  <tbody>\n",
       "    <tr>\n",
       "      <th>Accuracy</th>\n",
       "      <td>0.928</td>\n",
       "      <td>na</td>\n",
       "      <td>0.570</td>\n",
       "      <td>0.714</td>\n",
       "      <td>0.692</td>\n",
       "      <td>0.928</td>\n",
       "    </tr>\n",
       "    <tr>\n",
       "      <th>F1 Score</th>\n",
       "      <td>0.962</td>\n",
       "      <td>na</td>\n",
       "      <td>0.916</td>\n",
       "      <td>0.833</td>\n",
       "      <td>0.782</td>\n",
       "      <td>0.962</td>\n",
       "    </tr>\n",
       "  </tbody>\n",
       "</table>\n",
       "</div>"
      ],
      "text/plain": [
       "          N means Bayes  Perceptron    MSE  SVM Linear  SVM RBF\n",
       "Accuracy    0.928    na       0.570  0.714       0.692    0.928\n",
       "F1 Score    0.962    na       0.916  0.833       0.782    0.962"
      ]
     },
     "execution_count": 145,
     "metadata": {},
     "output_type": "execute_result"
    }
   ],
   "source": [
    "dvcve"
   ]
  },
  {
   "cell_type": "markdown",
   "id": "a3fc7d9a",
   "metadata": {},
   "source": [
    "### Test set accuracy and F1 score after spliting into train and validation set ,expanded feature set"
   ]
  },
  {
   "cell_type": "code",
   "execution_count": 146,
   "id": "749ba548",
   "metadata": {},
   "outputs": [
    {
     "data": {
      "text/html": [
       "<div>\n",
       "<style scoped>\n",
       "    .dataframe tbody tr th:only-of-type {\n",
       "        vertical-align: middle;\n",
       "    }\n",
       "\n",
       "    .dataframe tbody tr th {\n",
       "        vertical-align: top;\n",
       "    }\n",
       "\n",
       "    .dataframe thead th {\n",
       "        text-align: right;\n",
       "    }\n",
       "</style>\n",
       "<table border=\"1\" class=\"dataframe\">\n",
       "  <thead>\n",
       "    <tr style=\"text-align: right;\">\n",
       "      <th></th>\n",
       "      <th>N means</th>\n",
       "      <th>Bayes</th>\n",
       "      <th>Perceptron</th>\n",
       "      <th>MSE</th>\n",
       "      <th>SVM Linear</th>\n",
       "      <th>SVM RBF</th>\n",
       "    </tr>\n",
       "  </thead>\n",
       "  <tbody>\n",
       "    <tr>\n",
       "      <th>Accuracy</th>\n",
       "      <td>0.816</td>\n",
       "      <td>na</td>\n",
       "      <td>0.816</td>\n",
       "      <td>0.483</td>\n",
       "      <td>0.716</td>\n",
       "      <td>0.833</td>\n",
       "    </tr>\n",
       "    <tr>\n",
       "      <th>F1 Score</th>\n",
       "      <td>0.744</td>\n",
       "      <td>na</td>\n",
       "      <td>0.784</td>\n",
       "      <td>0.311</td>\n",
       "      <td>0.585</td>\n",
       "      <td>0.799</td>\n",
       "    </tr>\n",
       "  </tbody>\n",
       "</table>\n",
       "</div>"
      ],
      "text/plain": [
       "          N means Bayes  Perceptron    MSE  SVM Linear  SVM RBF\n",
       "Accuracy    0.816    na       0.816  0.483       0.716    0.833\n",
       "F1 Score    0.744    na       0.784  0.311       0.585    0.799"
      ]
     },
     "execution_count": 146,
     "metadata": {},
     "output_type": "execute_result"
    }
   ],
   "source": [
    "dtcve"
   ]
  },
  {
   "cell_type": "markdown",
   "id": "35040b7b",
   "metadata": {},
   "source": [
    "### Test Set accuracy and f1 score after training on entire train set (no split) expanded feature set"
   ]
  },
  {
   "cell_type": "code",
   "execution_count": 147,
   "id": "81142213",
   "metadata": {},
   "outputs": [
    {
     "data": {
      "text/html": [
       "<div>\n",
       "<style scoped>\n",
       "    .dataframe tbody tr th:only-of-type {\n",
       "        vertical-align: middle;\n",
       "    }\n",
       "\n",
       "    .dataframe tbody tr th {\n",
       "        vertical-align: top;\n",
       "    }\n",
       "\n",
       "    .dataframe thead th {\n",
       "        text-align: right;\n",
       "    }\n",
       "</style>\n",
       "<table border=\"1\" class=\"dataframe\">\n",
       "  <thead>\n",
       "    <tr style=\"text-align: right;\">\n",
       "      <th></th>\n",
       "      <th>N means</th>\n",
       "      <th>Bayes</th>\n",
       "      <th>Perceptron</th>\n",
       "      <th>MSE</th>\n",
       "      <th>SVM Linear</th>\n",
       "      <th>SVM RBF</th>\n",
       "    </tr>\n",
       "  </thead>\n",
       "  <tbody>\n",
       "    <tr>\n",
       "      <th>Accuracy</th>\n",
       "      <td>0.800</td>\n",
       "      <td>0.416</td>\n",
       "      <td>0.866</td>\n",
       "      <td>0.450</td>\n",
       "      <td>0.450</td>\n",
       "      <td>0.850</td>\n",
       "    </tr>\n",
       "    <tr>\n",
       "      <th>F1 Score</th>\n",
       "      <td>0.684</td>\n",
       "      <td>0.567</td>\n",
       "      <td>0.840</td>\n",
       "      <td>0.326</td>\n",
       "      <td>0.297</td>\n",
       "      <td>0.823</td>\n",
       "    </tr>\n",
       "  </tbody>\n",
       "</table>\n",
       "</div>"
      ],
      "text/plain": [
       "          N means  Bayes  Perceptron    MSE  SVM Linear  SVM RBF\n",
       "Accuracy    0.800  0.416       0.866  0.450       0.450    0.850\n",
       "F1 Score    0.684  0.567       0.840  0.326       0.297    0.823"
      ]
     },
     "execution_count": 147,
     "metadata": {},
     "output_type": "execute_result"
    }
   ],
   "source": [
    "dte"
   ]
  },
  {
   "cell_type": "markdown",
   "id": "392bdd42",
   "metadata": {},
   "source": [
    "### After Pearsons corelation feature selection"
   ]
  },
  {
   "cell_type": "code",
   "execution_count": 148,
   "id": "bb7768fd",
   "metadata": {},
   "outputs": [
    {
     "data": {
      "text/html": [
       "<div>\n",
       "<style scoped>\n",
       "    .dataframe tbody tr th:only-of-type {\n",
       "        vertical-align: middle;\n",
       "    }\n",
       "\n",
       "    .dataframe tbody tr th {\n",
       "        vertical-align: top;\n",
       "    }\n",
       "\n",
       "    .dataframe thead th {\n",
       "        text-align: right;\n",
       "    }\n",
       "</style>\n",
       "<table border=\"1\" class=\"dataframe\">\n",
       "  <thead>\n",
       "    <tr style=\"text-align: right;\">\n",
       "      <th></th>\n",
       "      <th>N means</th>\n",
       "      <th>Bayes</th>\n",
       "      <th>Perceptron</th>\n",
       "      <th>MSE</th>\n",
       "      <th>SVM Linear</th>\n",
       "      <th>SVM RBF</th>\n",
       "    </tr>\n",
       "  </thead>\n",
       "  <tbody>\n",
       "    <tr>\n",
       "      <th>Accuracy</th>\n",
       "      <td>0.833</td>\n",
       "      <td>0.750</td>\n",
       "      <td>0.916</td>\n",
       "      <td>0.95</td>\n",
       "      <td>0.233</td>\n",
       "      <td>0.783</td>\n",
       "    </tr>\n",
       "    <tr>\n",
       "      <th>F1 Score</th>\n",
       "      <td>0.750</td>\n",
       "      <td>0.666</td>\n",
       "      <td>0.888</td>\n",
       "      <td>0.92</td>\n",
       "      <td>0.206</td>\n",
       "      <td>0.763</td>\n",
       "    </tr>\n",
       "  </tbody>\n",
       "</table>\n",
       "</div>"
      ],
      "text/plain": [
       "          N means  Bayes  Perceptron   MSE  SVM Linear  SVM RBF\n",
       "Accuracy    0.833  0.750       0.916  0.95       0.233    0.783\n",
       "F1 Score    0.750  0.666       0.888  0.92       0.206    0.763"
      ]
     },
     "execution_count": 148,
     "metadata": {},
     "output_type": "execute_result"
    }
   ],
   "source": [
    "dpc"
   ]
  },
  {
   "cell_type": "markdown",
   "id": "bb8c5e92",
   "metadata": {},
   "source": [
    "### After Accuracy based feature selection"
   ]
  },
  {
   "cell_type": "code",
   "execution_count": 149,
   "id": "b6466eba",
   "metadata": {},
   "outputs": [
    {
     "data": {
      "text/html": [
       "<div>\n",
       "<style scoped>\n",
       "    .dataframe tbody tr th:only-of-type {\n",
       "        vertical-align: middle;\n",
       "    }\n",
       "\n",
       "    .dataframe tbody tr th {\n",
       "        vertical-align: top;\n",
       "    }\n",
       "\n",
       "    .dataframe thead th {\n",
       "        text-align: right;\n",
       "    }\n",
       "</style>\n",
       "<table border=\"1\" class=\"dataframe\">\n",
       "  <thead>\n",
       "    <tr style=\"text-align: right;\">\n",
       "      <th></th>\n",
       "      <th>N means</th>\n",
       "      <th>Bayes</th>\n",
       "      <th>Perceptron</th>\n",
       "      <th>MSE</th>\n",
       "      <th>SVM Linear</th>\n",
       "      <th>SVM RBF</th>\n",
       "    </tr>\n",
       "  </thead>\n",
       "  <tbody>\n",
       "    <tr>\n",
       "      <th>Accuracy</th>\n",
       "      <td>0.833</td>\n",
       "      <td>0.883</td>\n",
       "      <td>0.800</td>\n",
       "      <td>0.616</td>\n",
       "      <td>0.500</td>\n",
       "      <td>0.783</td>\n",
       "    </tr>\n",
       "    <tr>\n",
       "      <th>F1 Score</th>\n",
       "      <td>0.750</td>\n",
       "      <td>0.844</td>\n",
       "      <td>0.749</td>\n",
       "      <td>0.000</td>\n",
       "      <td>0.399</td>\n",
       "      <td>0.711</td>\n",
       "    </tr>\n",
       "  </tbody>\n",
       "</table>\n",
       "</div>"
      ],
      "text/plain": [
       "          N means  Bayes  Perceptron    MSE  SVM Linear  SVM RBF\n",
       "Accuracy    0.833  0.883       0.800  0.616       0.500    0.783\n",
       "F1 Score    0.750  0.844       0.749  0.000       0.399    0.711"
      ]
     },
     "execution_count": 149,
     "metadata": {},
     "output_type": "execute_result"
    }
   ],
   "source": [
    "dafs"
   ]
  },
  {
   "cell_type": "markdown",
   "id": "88d805a7",
   "metadata": {},
   "source": [
    "### After normalizing best models"
   ]
  },
  {
   "cell_type": "code",
   "execution_count": 150,
   "id": "3d03db05",
   "metadata": {},
   "outputs": [
    {
     "data": {
      "text/html": [
       "<div>\n",
       "<style scoped>\n",
       "    .dataframe tbody tr th:only-of-type {\n",
       "        vertical-align: middle;\n",
       "    }\n",
       "\n",
       "    .dataframe tbody tr th {\n",
       "        vertical-align: top;\n",
       "    }\n",
       "\n",
       "    .dataframe thead th {\n",
       "        text-align: right;\n",
       "    }\n",
       "</style>\n",
       "<table border=\"1\" class=\"dataframe\">\n",
       "  <thead>\n",
       "    <tr style=\"text-align: right;\">\n",
       "      <th></th>\n",
       "      <th>N means Acc</th>\n",
       "      <th>Bayes Acc</th>\n",
       "      <th>Perceptron Acc</th>\n",
       "      <th>N means Pea</th>\n",
       "      <th>Perceptron Pea</th>\n",
       "    </tr>\n",
       "  </thead>\n",
       "  <tbody>\n",
       "    <tr>\n",
       "      <th>Accuracy</th>\n",
       "      <td>0.816</td>\n",
       "      <td>0.800</td>\n",
       "      <td>0.850</td>\n",
       "      <td>0.716</td>\n",
       "      <td>0.716</td>\n",
       "    </tr>\n",
       "    <tr>\n",
       "      <th>F1 Score</th>\n",
       "      <td>0.755</td>\n",
       "      <td>0.777</td>\n",
       "      <td>0.823</td>\n",
       "      <td>0.701</td>\n",
       "      <td>0.730</td>\n",
       "    </tr>\n",
       "  </tbody>\n",
       "</table>\n",
       "</div>"
      ],
      "text/plain": [
       "          N means Acc  Bayes Acc  Perceptron Acc  N means Pea  Perceptron Pea\n",
       "Accuracy        0.816      0.800           0.850        0.716           0.716\n",
       "F1 Score        0.755      0.777           0.823        0.701           0.730"
      ]
     },
     "execution_count": 150,
     "metadata": {},
     "output_type": "execute_result"
    }
   ],
   "source": [
    "dnor"
   ]
  },
  {
   "cell_type": "markdown",
   "id": "d88f17ed",
   "metadata": {},
   "source": [
    "### After standardizing best models"
   ]
  },
  {
   "cell_type": "code",
   "execution_count": 151,
   "id": "9ae45283",
   "metadata": {},
   "outputs": [
    {
     "data": {
      "text/html": [
       "<div>\n",
       "<style scoped>\n",
       "    .dataframe tbody tr th:only-of-type {\n",
       "        vertical-align: middle;\n",
       "    }\n",
       "\n",
       "    .dataframe tbody tr th {\n",
       "        vertical-align: top;\n",
       "    }\n",
       "\n",
       "    .dataframe thead th {\n",
       "        text-align: right;\n",
       "    }\n",
       "</style>\n",
       "<table border=\"1\" class=\"dataframe\">\n",
       "  <thead>\n",
       "    <tr style=\"text-align: right;\">\n",
       "      <th></th>\n",
       "      <th>N means Acc</th>\n",
       "      <th>Bayes Acc</th>\n",
       "      <th>Perceptron Acc</th>\n",
       "      <th>N means Pea</th>\n",
       "      <th>Perceptron Pea</th>\n",
       "    </tr>\n",
       "  </thead>\n",
       "  <tbody>\n",
       "    <tr>\n",
       "      <th>Accuracy</th>\n",
       "      <td>0.850</td>\n",
       "      <td>0.800</td>\n",
       "      <td>0.766</td>\n",
       "      <td>0.733</td>\n",
       "      <td>0.733</td>\n",
       "    </tr>\n",
       "    <tr>\n",
       "      <th>F1 Score</th>\n",
       "      <td>0.808</td>\n",
       "      <td>0.793</td>\n",
       "      <td>0.766</td>\n",
       "      <td>0.714</td>\n",
       "      <td>0.733</td>\n",
       "    </tr>\n",
       "  </tbody>\n",
       "</table>\n",
       "</div>"
      ],
      "text/plain": [
       "          N means Acc  Bayes Acc  Perceptron Acc  N means Pea  Perceptron Pea\n",
       "Accuracy        0.850      0.800           0.766        0.733           0.733\n",
       "F1 Score        0.808      0.793           0.766        0.714           0.733"
      ]
     },
     "execution_count": 151,
     "metadata": {},
     "output_type": "execute_result"
    }
   ],
   "source": [
    "dstd"
   ]
  },
  {
   "cell_type": "markdown",
   "id": "4848981e",
   "metadata": {},
   "source": [
    "The highest accuracy attained was on the MSE model after pearsons corelation based feature selection at 95%, but I achieved this only once and the model is not reliable due to the random shuffle used for sequential gradient descent. The same thing goes for the Perceptron model based on pearson feature selection, though it is more reliavle and gives accuracy of about 89-90% most of the times, it is still unpredictable. So I would choose the Bayes model using the accuracy feature selection where min accuracy required is 65%, with this model I got an accuracy of 88.33% and is the most reliable."
   ]
  },
  {
   "cell_type": "markdown",
   "id": "351d101a",
   "metadata": {},
   "source": [
    "### Best Accuracy ever achieved 95% MSE (LMS algorithm) model using pearsons corelation feature selection with threshold 0.33 or 0.5, using eta = a/(b+1) for constant a = 0.01 and b = [0.01,0.1,1,10,100,1000]. But in reliable and doesn't give consistent results.\n",
    "\n",
    "\n",
    "### Best and Most reliable model is the Bayes model with accracy based feature selection > 0.65, without normalizing or standardizing\n",
    "\n",
    "### Accuracy = 88.33% F1 score = 0.8444"
   ]
  },
  {
   "cell_type": "code",
   "execution_count": null,
   "id": "4370f84d",
   "metadata": {},
   "outputs": [],
   "source": []
  }
 ],
 "metadata": {
  "kernelspec": {
   "display_name": "Python 3 (ipykernel)",
   "language": "python",
   "name": "python3"
  },
  "language_info": {
   "codemirror_mode": {
    "name": "ipython",
    "version": 3
   },
   "file_extension": ".py",
   "mimetype": "text/x-python",
   "name": "python",
   "nbconvert_exporter": "python",
   "pygments_lexer": "ipython3",
   "version": "3.9.7"
  }
 },
 "nbformat": 4,
 "nbformat_minor": 5
}
